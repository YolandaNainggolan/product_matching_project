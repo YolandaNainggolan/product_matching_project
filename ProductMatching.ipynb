{
 "cells": [
  {
   "cell_type": "markdown",
   "metadata": {},
   "source": [
    "# Product Matching\n",
    "### Kelompok 1\n",
    "1. 12S16002 - Diana Pebrianty Pakpahan\n",
    "2. 12S16022 - Rosa Afresia Siagian\n",
    "3. 12S16026 - Yolanda Nainggolan\n",
    "4. 12S16028 - Kaleb Lonari Simanungkalit\n",
    "\n",
    "\n",
    "### Dataset\n",
    "Data yang digunakan pada proyek ini berasal dari kaggle (https://www.kaggle.com/PromptCloudHQ/innerwear-data-from-victorias-secret-and-others) yang terdiri dari 9 file csv mengenai produk pakaian dalam."
   ]
  },
  {
   "cell_type": "markdown",
   "metadata": {},
   "source": [
    "## 1. Load Data"
   ]
  },
  {
   "cell_type": "code",
   "execution_count": 1,
   "metadata": {},
   "outputs": [
    {
     "name": "stderr",
     "output_type": "stream",
     "text": [
      "C:\\Users\\Yolanda Nainggolan\\Anaconda3\\lib\\site-packages\\tqdm\\std.py:654: FutureWarning: The Panel class is removed from pandas. Accessing it from the top-level namespace will also be removed in the next version\n",
      "  from pandas import Panel\n"
     ]
    }
   ],
   "source": [
    "import pandas as pd\n",
    "import numpy as np\n",
    "from tqdm import tqdm\n",
    "tqdm.pandas(desc=\"progress-bar\")\n",
    "from gensim.models import Doc2Vec\n",
    "from sklearn import utils\n",
    "from sklearn.model_selection import train_test_split\n",
    "import gensim\n",
    "from sklearn.linear_model import LogisticRegression\n",
    "from gensim.models.doc2vec import TaggedDocument\n",
    "import re\n",
    "\n",
    "df_1 = pd.read_csv('C:/Users/Yolanda Nainggolan/Productmatching/ae_com.csv')\n",
    "df_2 = pd.read_csv('C:/Users/Yolanda Nainggolan/Productmatching/amazon_com.csv')\n",
    "df_3 = pd.read_csv('C:/Users/Yolanda Nainggolan/Productmatching/btemptd_com.csv')\n",
    "df_4 = pd.read_csv('C:/Users/Yolanda Nainggolan/Productmatching/calvinklein_com.csv')\n",
    "df_5 = pd.read_csv('C:/Users/Yolanda Nainggolan/Productmatching/hankypanky_com.csv')\n",
    "df_6 = pd.read_csv('C:/Users/Yolanda Nainggolan/Productmatching/macys_com.csv')\n",
    "df_7 = pd.read_csv('C:/Users/Yolanda Nainggolan/Productmatching/shop_nordstrom_com.csv')\n",
    "df_8 = pd.read_csv('C:/Users/Yolanda Nainggolan/Productmatching/us_topshop_com.csv')\n",
    "df_9 = pd.read_csv('C:/Users/Yolanda Nainggolan/Productmatching/victoriassecret_com.csv')"
   ]
  },
  {
   "cell_type": "code",
   "execution_count": 2,
   "metadata": {},
   "outputs": [
    {
     "data": {
      "text/html": [
       "<div>\n",
       "<style scoped>\n",
       "    .dataframe tbody tr th:only-of-type {\n",
       "        vertical-align: middle;\n",
       "    }\n",
       "\n",
       "    .dataframe tbody tr th {\n",
       "        vertical-align: top;\n",
       "    }\n",
       "\n",
       "    .dataframe thead th {\n",
       "        text-align: right;\n",
       "    }\n",
       "</style>\n",
       "<table border=\"1\" class=\"dataframe\">\n",
       "  <thead>\n",
       "    <tr style=\"text-align: right;\">\n",
       "      <th></th>\n",
       "      <th>product_name</th>\n",
       "      <th>mrp</th>\n",
       "      <th>price</th>\n",
       "      <th>pdp_url</th>\n",
       "      <th>brand_name</th>\n",
       "      <th>product_category</th>\n",
       "      <th>retailer</th>\n",
       "      <th>description</th>\n",
       "      <th>rating</th>\n",
       "      <th>review_count</th>\n",
       "      <th>style_attributes</th>\n",
       "      <th>total_sizes</th>\n",
       "      <th>available_size</th>\n",
       "      <th>color</th>\n",
       "    </tr>\n",
       "  </thead>\n",
       "  <tbody>\n",
       "    <tr>\n",
       "      <th>11008</th>\n",
       "      <td>The Bralette Collection Scoopneck Bralette</td>\n",
       "      <td>$20.00</td>\n",
       "      <td>$7.99</td>\n",
       "      <td>https://www.victoriassecret.com/bras/shop-all-...</td>\n",
       "      <td>Victoria's Secret</td>\n",
       "      <td>Scoopneck Bralette</td>\n",
       "      <td>Victoriassecret US</td>\n",
       "      <td>Upgrade your everyday in this effortless unlin...</td>\n",
       "      <td>NaN</td>\n",
       "      <td>NaN</td>\n",
       "      <td>NaN</td>\n",
       "      <td>[\"XS\", \"S\", \"M\", \"L\", \"XL\"]</td>\n",
       "      <td>XL</td>\n",
       "      <td>Black Lace Back</td>\n",
       "    </tr>\n",
       "    <tr>\n",
       "      <th>10923</th>\n",
       "      <td>Micro Hipster</td>\n",
       "      <td>$13.00</td>\n",
       "      <td>$13.00</td>\n",
       "      <td>http://shop.nordstrom.com/s/calvin-klein-micro...</td>\n",
       "      <td>CALVIN KLEIN</td>\n",
       "      <td>Women's Panties</td>\n",
       "      <td>Nordstrom US</td>\n",
       "      <td>Alluring micro hipster briefs in a lightweight...</td>\n",
       "      <td>NaN</td>\n",
       "      <td>NaN</td>\n",
       "      <td>[\"Lined cotton gusset.\", \"86% nylon, 14% elast...</td>\n",
       "      <td>[\"Large\", \"Medium\", \"Small\"]</td>\n",
       "      <td>[\"Large\", \"Medium\", \"Small\"]</td>\n",
       "      <td>Bare</td>\n",
       "    </tr>\n",
       "    <tr>\n",
       "      <th>337963</th>\n",
       "      <td>PINK NEW! Wear Everywhere Multi-Way Push-Up Bra</td>\n",
       "      <td>$34.95</td>\n",
       "      <td>$34.95</td>\n",
       "      <td>https://www.victoriassecret.com/pink/panties/w...</td>\n",
       "      <td>Victoria's Secret Pink</td>\n",
       "      <td>Wear Everywhere Multi-Way Push-Up Bra</td>\n",
       "      <td>Victoriassecret US</td>\n",
       "      <td>A true wardrobe essential with soft, no-show c...</td>\n",
       "      <td>4.2</td>\n",
       "      <td>1.530000e+02</td>\n",
       "      <td>NaN</td>\n",
       "      <td>[\"32AA\", \"32A\", \"32B\", \"32C\", \"32D\", \"32DD\", \"...</td>\n",
       "      <td>36A</td>\n",
       "      <td>neon sunset logo print</td>\n",
       "    </tr>\n",
       "    <tr>\n",
       "      <th>65982</th>\n",
       "      <td>Body by Victoria NEW! Daisy Lace Slip</td>\n",
       "      <td>$52.00</td>\n",
       "      <td>$52.00</td>\n",
       "      <td>https://www.victoriassecret.com/lingerie/shop-...</td>\n",
       "      <td>Victoria's Secret</td>\n",
       "      <td>Daisy Lace Slip</td>\n",
       "      <td>Victoriassecret US</td>\n",
       "      <td>What dreams are made of: this little slip in f...</td>\n",
       "      <td>1.0</td>\n",
       "      <td>1.450000e+38</td>\n",
       "      <td>NaN</td>\n",
       "      <td>[\"XS\", \"S\", \"M\", \"L\", \"XL\"]</td>\n",
       "      <td>S</td>\n",
       "      <td>sheer pink</td>\n",
       "    </tr>\n",
       "    <tr>\n",
       "      <th>382547</th>\n",
       "      <td>Dream Angels Demi Bra</td>\n",
       "      <td>$58.50</td>\n",
       "      <td>$58.50</td>\n",
       "      <td>https://www.victoriassecret.com/bras/shop-all-...</td>\n",
       "      <td>Victoria's Secret</td>\n",
       "      <td>Demi Bra</td>\n",
       "      <td>Victoriassecret US</td>\n",
       "      <td>This dreamy demi is even more heavenly, with s...</td>\n",
       "      <td>NaN</td>\n",
       "      <td>NaN</td>\n",
       "      <td>NaN</td>\n",
       "      <td>[\"30A\", \"30B\", \"30C\", \"30D\", \"30DD\", \"30DDD\", ...</td>\n",
       "      <td>32A</td>\n",
       "      <td>Sheer Pink Solid Lace</td>\n",
       "    </tr>\n",
       "  </tbody>\n",
       "</table>\n",
       "</div>"
      ],
      "text/plain": [
       "                                           product_name      mrp    price  \\\n",
       "11008        The Bralette Collection Scoopneck Bralette  $20.00    $7.99    \n",
       "10923                                     Micro Hipster  $13.00   $13.00    \n",
       "337963  PINK NEW! Wear Everywhere Multi-Way Push-Up Bra  $34.95   $34.95    \n",
       "65982             Body by Victoria NEW! Daisy Lace Slip  $52.00   $52.00    \n",
       "382547                            Dream Angels Demi Bra  $58.50   $58.50    \n",
       "\n",
       "                                                  pdp_url  \\\n",
       "11008   https://www.victoriassecret.com/bras/shop-all-...   \n",
       "10923   http://shop.nordstrom.com/s/calvin-klein-micro...   \n",
       "337963  https://www.victoriassecret.com/pink/panties/w...   \n",
       "65982   https://www.victoriassecret.com/lingerie/shop-...   \n",
       "382547  https://www.victoriassecret.com/bras/shop-all-...   \n",
       "\n",
       "                    brand_name                       product_category  \\\n",
       "11008        Victoria's Secret                     Scoopneck Bralette   \n",
       "10923             CALVIN KLEIN                        Women's Panties   \n",
       "337963  Victoria's Secret Pink  Wear Everywhere Multi-Way Push-Up Bra   \n",
       "65982        Victoria's Secret                        Daisy Lace Slip   \n",
       "382547       Victoria's Secret                               Demi Bra   \n",
       "\n",
       "                  retailer                                        description  \\\n",
       "11008   Victoriassecret US  Upgrade your everyday in this effortless unlin...   \n",
       "10923         Nordstrom US  Alluring micro hipster briefs in a lightweight...   \n",
       "337963  Victoriassecret US  A true wardrobe essential with soft, no-show c...   \n",
       "65982   Victoriassecret US  What dreams are made of: this little slip in f...   \n",
       "382547  Victoriassecret US  This dreamy demi is even more heavenly, with s...   \n",
       "\n",
       "        rating  review_count  \\\n",
       "11008      NaN           NaN   \n",
       "10923      NaN           NaN   \n",
       "337963     4.2  1.530000e+02   \n",
       "65982      1.0  1.450000e+38   \n",
       "382547     NaN           NaN   \n",
       "\n",
       "                                         style_attributes  \\\n",
       "11008                                                 NaN   \n",
       "10923   [\"Lined cotton gusset.\", \"86% nylon, 14% elast...   \n",
       "337963                                                NaN   \n",
       "65982                                                 NaN   \n",
       "382547                                                NaN   \n",
       "\n",
       "                                              total_sizes  \\\n",
       "11008                         [\"XS\", \"S\", \"M\", \"L\", \"XL\"]   \n",
       "10923                        [\"Large\", \"Medium\", \"Small\"]   \n",
       "337963  [\"32AA\", \"32A\", \"32B\", \"32C\", \"32D\", \"32DD\", \"...   \n",
       "65982                         [\"XS\", \"S\", \"M\", \"L\", \"XL\"]   \n",
       "382547  [\"30A\", \"30B\", \"30C\", \"30D\", \"30DD\", \"30DDD\", ...   \n",
       "\n",
       "                      available_size                   color  \n",
       "11008                             XL         Black Lace Back  \n",
       "10923   [\"Large\", \"Medium\", \"Small\"]                    Bare  \n",
       "337963                           36A  neon sunset logo print  \n",
       "65982                              S              sheer pink  \n",
       "382547                           32A   Sheer Pink Solid Lace  "
      ]
     },
     "execution_count": 2,
     "metadata": {},
     "output_type": "execute_result"
    }
   ],
   "source": [
    "dataFrame = pd.concat([df_1, df_2, df_3, df_4, df_5, df_6, df_7, df_8, df_9])\n",
    "dataFrame.sample(5)"
   ]
  },
  {
   "cell_type": "markdown",
   "metadata": {},
   "source": [
    "## 2. Data Preprocessing"
   ]
  },
  {
   "cell_type": "code",
   "execution_count": 3,
   "metadata": {},
   "outputs": [
    {
     "data": {
      "text/html": [
       "<div>\n",
       "<style scoped>\n",
       "    .dataframe tbody tr th:only-of-type {\n",
       "        vertical-align: middle;\n",
       "    }\n",
       "\n",
       "    .dataframe tbody tr th {\n",
       "        vertical-align: top;\n",
       "    }\n",
       "\n",
       "    .dataframe thead th {\n",
       "        text-align: right;\n",
       "    }\n",
       "</style>\n",
       "<table border=\"1\" class=\"dataframe\">\n",
       "  <thead>\n",
       "    <tr style=\"text-align: right;\">\n",
       "      <th></th>\n",
       "      <th>product_name</th>\n",
       "      <th>description</th>\n",
       "    </tr>\n",
       "  </thead>\n",
       "  <tbody>\n",
       "    <tr>\n",
       "      <th>247213</th>\n",
       "      <td>PINK Wrap Triangle Top</td>\n",
       "      <td>A classic triangle top with a twist! Features ...</td>\n",
       "    </tr>\n",
       "    <tr>\n",
       "      <th>115897</th>\n",
       "      <td>Very Sexy Crochet Lace Push-Up Bra</td>\n",
       "      <td>WHY TO BUY: The world’s sexiest push-up is a b...</td>\n",
       "    </tr>\n",
       "    <tr>\n",
       "      <th>185238</th>\n",
       "      <td>PINK NEW! Wear Everywhere Push-Up Bra</td>\n",
       "      <td>An everyday fave with soft, no-show cups and a...</td>\n",
       "    </tr>\n",
       "    <tr>\n",
       "      <th>158802</th>\n",
       "      <td>So Obsessed by Victoria's Secret Add-1½-Cups P...</td>\n",
       "      <td>This push-up gives you a little extra lift for...</td>\n",
       "    </tr>\n",
       "    <tr>\n",
       "      <th>4093</th>\n",
       "      <td>b.enticing Allover-Lace Boyshort 945237</td>\n",
       "      <td>Gorgeous embroidered lace at the hem lends lov...</td>\n",
       "    </tr>\n",
       "  </tbody>\n",
       "</table>\n",
       "</div>"
      ],
      "text/plain": [
       "                                             product_name  \\\n",
       "247213                             PINK Wrap Triangle Top   \n",
       "115897                 Very Sexy Crochet Lace Push-Up Bra   \n",
       "185238              PINK NEW! Wear Everywhere Push-Up Bra   \n",
       "158802  So Obsessed by Victoria's Secret Add-1½-Cups P...   \n",
       "4093              b.enticing Allover-Lace Boyshort 945237   \n",
       "\n",
       "                                              description  \n",
       "247213  A classic triangle top with a twist! Features ...  \n",
       "115897  WHY TO BUY: The world’s sexiest push-up is a b...  \n",
       "185238  An everyday fave with soft, no-show cups and a...  \n",
       "158802  This push-up gives you a little extra lift for...  \n",
       "4093    Gorgeous embroidered lace at the hem lends lov...  "
      ]
     },
     "execution_count": 3,
     "metadata": {},
     "output_type": "execute_result"
    }
   ],
   "source": [
    "dataFrame = dataFrame[['product_name', 'description']]\n",
    "dataFrame = dataFrame[pd.notnull(dataFrame['description'])]\n",
    "dataFrame.sample(5)"
   ]
  },
  {
   "cell_type": "code",
   "execution_count": 4,
   "metadata": {},
   "outputs": [
    {
     "data": {
      "text/plain": [
       "(613143, 2)"
      ]
     },
     "execution_count": 4,
     "metadata": {},
     "output_type": "execute_result"
    }
   ],
   "source": [
    "dataFrame.shape"
   ]
  },
  {
   "cell_type": "code",
   "execution_count": 5,
   "metadata": {},
   "outputs": [
    {
     "data": {
      "text/plain": [
       "product_name    0\n",
       "description     0\n",
       "dtype: int64"
      ]
     },
     "execution_count": 5,
     "metadata": {},
     "output_type": "execute_result"
    }
   ],
   "source": [
    "dataFrame.isnull().sum()"
   ]
  },
  {
   "cell_type": "markdown",
   "metadata": {},
   "source": [
    "#### Catatan:\n",
    "Karena jumlah data sangat besar, kita hanya memakai 10.000 data yang akan dipilih secara random"
   ]
  },
  {
   "cell_type": "code",
   "execution_count": 6,
   "metadata": {},
   "outputs": [
    {
     "data": {
      "text/html": [
       "<div>\n",
       "<style scoped>\n",
       "    .dataframe tbody tr th:only-of-type {\n",
       "        vertical-align: middle;\n",
       "    }\n",
       "\n",
       "    .dataframe tbody tr th {\n",
       "        vertical-align: top;\n",
       "    }\n",
       "\n",
       "    .dataframe thead th {\n",
       "        text-align: right;\n",
       "    }\n",
       "</style>\n",
       "<table border=\"1\" class=\"dataframe\">\n",
       "  <thead>\n",
       "    <tr style=\"text-align: right;\">\n",
       "      <th></th>\n",
       "      <th>product_name</th>\n",
       "      <th>description</th>\n",
       "    </tr>\n",
       "  </thead>\n",
       "  <tbody>\n",
       "    <tr>\n",
       "      <th>319745</th>\n",
       "      <td>Cotton Lingerie Lace-waist Thong Panty</td>\n",
       "      <td>This wisp of a panty is virtually invisible un...</td>\n",
       "    </tr>\n",
       "    <tr>\n",
       "      <th>164139</th>\n",
       "      <td>Cotton Lingerie NEW! Lace-waist Cheeky Panty</td>\n",
       "      <td>Silky-soft and stretchy cotton makes this chee...</td>\n",
       "    </tr>\n",
       "    <tr>\n",
       "      <th>181456</th>\n",
       "      <td>Dream Angels Push-Up Bra</td>\n",
       "      <td>Our most heavenly push-up ever, with softer Me...</td>\n",
       "    </tr>\n",
       "    <tr>\n",
       "      <th>2361</th>\n",
       "      <td>Signature Lace Removable Pad Bralette</td>\n",
       "      <td>Our best-selling triangle bralette, now with a...</td>\n",
       "    </tr>\n",
       "    <tr>\n",
       "      <th>1616</th>\n",
       "      <td>Aerie Bikini</td>\n",
       "      <td>SHAKE THAT BOOTY! Your go-to fave has just a p...</td>\n",
       "    </tr>\n",
       "    <tr>\n",
       "      <th>398324</th>\n",
       "      <td>Dream Angels Push-Up Bra</td>\n",
       "      <td>Our most heavenly push-up ever, with softer Me...</td>\n",
       "    </tr>\n",
       "    <tr>\n",
       "      <th>122808</th>\n",
       "      <td>Dream Angels NEW! Demi Bra</td>\n",
       "      <td>This dreamy demi is even more heavenly, with s...</td>\n",
       "    </tr>\n",
       "    <tr>\n",
       "      <th>34895</th>\n",
       "      <td>Rose-Appliqué Bralette 257116</td>\n",
       "      <td>A beautiful rose appliqué adds the perfect pop...</td>\n",
       "    </tr>\n",
       "    <tr>\n",
       "      <th>342364</th>\n",
       "      <td>Victoria Sport NEW! Incredible by Victoria Spo...</td>\n",
       "      <td>Game-changer: your favorite maximum-support sp...</td>\n",
       "    </tr>\n",
       "    <tr>\n",
       "      <th>253102</th>\n",
       "      <td>The Bralette Collection Scoopneck Bralette</td>\n",
       "      <td>Upgrade your everyday in this effortless unlin...</td>\n",
       "    </tr>\n",
       "  </tbody>\n",
       "</table>\n",
       "</div>"
      ],
      "text/plain": [
       "                                             product_name  \\\n",
       "319745             Cotton Lingerie Lace-waist Thong Panty   \n",
       "164139       Cotton Lingerie NEW! Lace-waist Cheeky Panty   \n",
       "181456                           Dream Angels Push-Up Bra   \n",
       "2361                Signature Lace Removable Pad Bralette   \n",
       "1616                                         Aerie Bikini   \n",
       "398324                           Dream Angels Push-Up Bra   \n",
       "122808                         Dream Angels NEW! Demi Bra   \n",
       "34895                       Rose-Appliqué Bralette 257116   \n",
       "342364  Victoria Sport NEW! Incredible by Victoria Spo...   \n",
       "253102         The Bralette Collection Scoopneck Bralette   \n",
       "\n",
       "                                              description  \n",
       "319745  This wisp of a panty is virtually invisible un...  \n",
       "164139  Silky-soft and stretchy cotton makes this chee...  \n",
       "181456  Our most heavenly push-up ever, with softer Me...  \n",
       "2361    Our best-selling triangle bralette, now with a...  \n",
       "1616    SHAKE THAT BOOTY! Your go-to fave has just a p...  \n",
       "398324  Our most heavenly push-up ever, with softer Me...  \n",
       "122808  This dreamy demi is even more heavenly, with s...  \n",
       "34895   A beautiful rose appliqué adds the perfect pop...  \n",
       "342364  Game-changer: your favorite maximum-support sp...  \n",
       "253102  Upgrade your everyday in this effortless unlin...  "
      ]
     },
     "execution_count": 6,
     "metadata": {},
     "output_type": "execute_result"
    }
   ],
   "source": [
    "df = dataFrame.sample(n=10000, random_state=42)\n",
    "df.sample(10)"
   ]
  },
  {
   "cell_type": "code",
   "execution_count": 7,
   "metadata": {},
   "outputs": [
    {
     "data": {
      "text/plain": [
       "(10000, 2)"
      ]
     },
     "execution_count": 7,
     "metadata": {},
     "output_type": "execute_result"
    }
   ],
   "source": [
    "df.shape"
   ]
  },
  {
   "cell_type": "code",
   "execution_count": 8,
   "metadata": {},
   "outputs": [
    {
     "data": {
      "text/plain": [
       "564187"
      ]
     },
     "execution_count": 8,
     "metadata": {},
     "output_type": "execute_result"
    }
   ],
   "source": [
    "df.index = range(10000)\n",
    "df['description'].apply(lambda x: len(x.split(' '))).sum()"
   ]
  },
  {
   "cell_type": "code",
   "execution_count": 9,
   "metadata": {},
   "outputs": [],
   "source": [
    "from bs4 import BeautifulSoup\n",
    "def cleanText(text):\n",
    "    text = BeautifulSoup(text, \"lxml\").text\n",
    "    text = re.sub(r'\\|\\|\\|', r' ', text)\n",
    "    text = re.sub(r'http\\S+', r'<URL>', text)\n",
    "    text = text.lower()\n",
    "    text = text.replace('x', '')\n",
    "    return text\n",
    "df['description'] = df['description'].apply(cleanText)"
   ]
  },
  {
   "cell_type": "code",
   "execution_count": 10,
   "metadata": {},
   "outputs": [
    {
     "name": "stdout",
     "output_type": "stream",
     "text": [
      "Description:\n",
      " our #1 push-up is seier than ever with plush, even softer padding for the lift and cleavage you love and a more natural feel, plus edges that disappear under clothes.lift & lining push-up padding adds 1 cup size underwire cupsstraps & hooks fully adjustable straps back closure double row of hook-and-eye closures 4 settings to ensure a perfect fit can be worn classic or crossbackdetails & fabric supersmooth neckline disappears under clothes cutouts between cups vs charm on side of cup imported nylon/spande \n",
      "\n",
      " product_name: Very Sexy Push-Up Bra\n"
     ]
    }
   ],
   "source": [
    "def print_description(index):\n",
    "    example = df[df.index == index][['description', 'product_name']].values[0]\n",
    "    if len(example) > 0:\n",
    "        print('Description:\\n', example[0])\n",
    "        print('\\n product_name:', example[1])\n",
    "        \n",
    "print_description(12)"
   ]
  },
  {
   "cell_type": "code",
   "execution_count": 30,
   "metadata": {},
   "outputs": [
    {
     "name": "stdout",
     "output_type": "stream",
     "text": [
      "Description:\n",
      " work it in this one-piece wonder! features a high cut leg that’s flirty and super flattering. push & lining removable padding lightly lined   straps & hooks pull on style   details & fabric adjustable lace-up front low back high leg cut fully lined imported nylon/spande/polyester\n",
      "\n",
      " product_name: PINK NEW! Lace-Up Front One-Piece\n"
     ]
    }
   ],
   "source": [
    "print_description(50)"
   ]
  },
  {
   "cell_type": "markdown",
   "metadata": {},
   "source": [
    "## 3. Features Extraction"
   ]
  },
  {
   "cell_type": "code",
   "execution_count": 12,
   "metadata": {},
   "outputs": [],
   "source": [
    "import nltk\n",
    "def tokenize_text(text):\n",
    "    tokens = []\n",
    "    for sent in nltk.sent_tokenize(text):\n",
    "        for word in nltk.word_tokenize(sent):\n",
    "            if len(word) < 2:\n",
    "                continue\n",
    "            tokens.append(word.lower())\n",
    "    return tokens\n",
    "tokens = df.apply(\n",
    "    lambda r: TaggedDocument(words=tokenize_text(r['description']), tags=[r.product_name]), axis=1)"
   ]
  },
  {
   "cell_type": "code",
   "execution_count": 13,
   "metadata": {},
   "outputs": [
    {
     "data": {
      "text/plain": [
       "TaggedDocument(words=['like', 'magic', 'the', 'lift', 'you', 'love', 'without', 'the', 'wires', 'in', 'an', 'unbelievably', 'soft', 'and', 'sleek', 'shape', 'lift', 'lining', 'push-up', 'padding', 'wireless', 'cups', 'straps', 'hooks', 'adjustable', 'straps', 'pullover', 'style', 'details', 'fabric', 'racerback', 'long', 'line', 'supersoft', 'lined', 'sides', 'for', 'the', 'smoothest', 'shape', 'imported', 'nylon/spande'], tags=['Easy Push-Up Bra'])"
      ]
     },
     "execution_count": 13,
     "metadata": {},
     "output_type": "execute_result"
    }
   ],
   "source": [
    "tokens.values[30]"
   ]
  },
  {
   "cell_type": "code",
   "execution_count": 14,
   "metadata": {},
   "outputs": [],
   "source": [
    "import multiprocessing\n",
    "cores = multiprocessing.cpu_count()"
   ]
  },
  {
   "cell_type": "code",
   "execution_count": 15,
   "metadata": {},
   "outputs": [
    {
     "name": "stderr",
     "output_type": "stream",
     "text": [
      "100%|███████████████████████████████████████████████████████████████████████| 10000/10000 [00:00<00:00, 2500181.21it/s]\n"
     ]
    }
   ],
   "source": [
    "model = Doc2Vec(dm=0, vector_size=300, negative=5, hs=0, min_count=2, sample = 0, workers=cores)\n",
    "model.build_vocab([x for x in tqdm(tokens.values)])"
   ]
  },
  {
   "cell_type": "code",
   "execution_count": 16,
   "metadata": {},
   "outputs": [
    {
     "data": {
      "text/plain": [
       "1504"
      ]
     },
     "execution_count": 16,
     "metadata": {},
     "output_type": "execute_result"
    }
   ],
   "source": [
    "len(model.docvecs)"
   ]
  },
  {
   "cell_type": "code",
   "execution_count": 17,
   "metadata": {},
   "outputs": [
    {
     "data": {
      "text/plain": [
       "dict_keys(['total', 'top', 'drawer', 'essential', 'with', 'lots', 'of', 'push', 'and', 'show', 'off', 'strappy', 'back', 'features', 'palm', 'lace', 'smooth', 'no-show', 'cups', 'most', 'super', 'soft', 'pad', 'adjustable', 'straps', 'structured', 'underwire', 'hook-and-eye', 'closure', 'imported', 'nylon/spande', 'game-changer', 'your', 'favorite', 'maimum-support', 'sport', 'bra', 'meets', 'zip-front', 'for', 'easy', 'on', 'fleible', 'you', 'can', 'feel', 'fully', 'all', 'in', 'stay-cool', 'body-wick', 'fabric', 'details', 'maimum', 'support', 'breathable', 'padding', 'wicking', 'liner', 'to', 'keep', 'etra', 'dry', 'comfort', 'bonded', 'seamless', 'technology', 'that', 'eliminates', 'irritation', 'supersoft', 'elastic', 'band', 'movement', 'locking', 'inside', 'hook-', '-eye', 'performance', 'perfect', 'running', 'boing', 'cardio', 'keeps', 'cool', 'machine', 'wash.', 'tumble', 'body', 'nylon/lycra®spande', 'mesh', 'polyester/spande', 'this', 'signature', 'modern', 't-shirt', 'demi', 'contrasting', 'piping', 'our', 'fullest', 'coverage', 'seiest', 'meet', 'lighter', 'memory', 'fit', 'lining', 'conforms', 'curves', 'smoothing', 'u-shaped', 'sides', 'lift', 'lightly', 'lined', 'shape', 'full', 'hooks', 'convert', 'crossback', 'snap', 'into', 'place', 'secure', 'hold', 'double', 'row', 'closures', 'sizes', '34ddd', '36dd-36ddd', '38-40d-ddd', '40c', 'have', 'triple', 'comfortable', 'settings', 'ensure', 'ballet', 'prevents', 'from', 'riding', 'up', 'offers', 'more', 'double-lined', 'the', 'smoothest', 'laced', 'love', 'no', 'cheek', 'peek', 'hi-rise', 'everyday', 'loves', 'not', 'granny', \"'s\", 'panties', 'style', '1779-6296', 'color', '536', 'right', 'amount', 'stretch', 'higher', 'rise', 'aerie', 'undies', 'panty', 'just', 'got', 'real', '97', 'nylon', 'elastane', 'wash', 'read', 'less', 'intricate', 'makes', 'little', 'every', 'angle', 'low', 'moderate', 'shows', 'but', 'hand', 'cotton', 'surround', 'yourself', 'long-sleeved', 'hanky', 'panky', 'sey', 'push-up', 'want', 'll', 'wear', 'as', 'it', 'etreme', 'hook', 'eye', '36dd', '38d-38dd', 'comfy', 'naturally', 'silky-soft', 'stretchy', 'cut', 'high', 'at', 'leg-lengthening', 'look', 'colors', 'pretty', 'prints', 'lingerie', 'is', 'anything', 'ordinary', 'picot', 'trim', 'waist', 'cotton/elastane', 'ultimate', 'lift-loving', 'better', 'than', 'ever', 'even', 'softer', 'cleavage', 'fullness', 'flawless', 'adds', 'cup', 'front', 'or', 'front-close', 'choices', 'partially', 'back-close', 'crisscross', 'between', 'logo', 'brands', 'wide', 'waistband', 'designed', 'flattering', 'v-shape', 'topping', 'microfiber', 'boyshorts', 'supersmooth', 'totally', 'elastic-free', 'laser-cut', 'edges', 'thong', 'cuts', 'sleekest', 'polyamide/spande', 'seier', 'plush', 'natural', 'plus', 'disappear', 'under', 'clothes.lift', 'size', 'cupsstraps', 'be', 'worn', 'classic', 'crossbackdetails', 'neckline', 'disappears', 'clothes', 'cutouts', 'vs', 'charm', 'side', 'new', 'wildflower', 'racerback', 'pull', 'an', 'wardrobe', 'convertible', 'make', 'wearing', 'any', 'tank', 'subtle', 'light', 'must-have', 'woman', 'dreamy', 'heavenly', 'stretchier', 'ultra-comfy', 'fit.lift', '36-40dd-ddd', 'fitdetails', 'barely-there', 'so', 'many', 'delicate', 'mid', 'cotton/lycra®', 'spande', 'pure', 'panel', 'lower', 'revealing', 'necklines', '38d-38ddd', '40dd', '40ddd', 'rows', 'feminine', 'brighten', 'cotton/nylon/spande', 'scalloped', 'contrast', 'true', 'beauty', 'triangle', 'bright', 'bold', 'trims\\xad—now', 'bottom', 'binding', 'built', 'black', 'white', 'navy', 'floral', 'tie', 'halter', 'ties', 'neck', 'detail', 'click', 'zip', 'go', 'patented', 'bra-within-a-bra', 'reveals', 'clip', 'together', 'off…and', 'bounce', 'within', 'layer', 'provides', 'concealed', 'wire', 'cushioned', 'padded', 'super-soft', 'molded', 'supportive', 'spacer', 'net-level', 'sheer', 'unlined', 'sultry', 'gives', 'serious', 'memorizes', '1½', 'foam-encased', 'shine', 'finish', 'matte', 'sleek', 'start', 'low-cut', 'embossed', 'like', 'magic', 'without', 'wires', 'unbelievably', 'wireless', 'pullover', 'long', 'line', 'beyond', 'better-than-ever', 'finishing', 'touch', 'bow', 'overlay', 'legs', 'cycling', 'circuit', 'training', 'medium-support', 'medium', 'spinning', 'kickboing', '4-way', 'go-to', 'pairs', 'everything', 'uplift', '38ddd', 'has', 'nylon/polyester', 'hint', 'drama', 'nighttime', 'glamour', 'slip', 'silky', 'wrap', 'sleeves', 'short', 'addition', 'pockets', 'mid-thigh', 'length', 'removable', 'polyester', 'lace—we', 're', 'crushin', 'date', 'collection', 'featuring', 'prettier', 'cute', 'ca', \"n't\", 'wrong', 'bralette', 'made', 'beautiful', '113', 'tee', 'back—all', 'solids', 'marl', 'nylon/polyester/spande', 'lightweight', 'showing', 'only', 'day', 'night', 'curve-hugging', 'styles', '•lightly', '•underwire', '•front', '•front-close', '•back-close', 'cross', 'single', '32dd', '34d-34dd', '36c-36dd', '38b-38dd', '•infinity', 'edge', 'invisible', '•imported', 'catch', 'prettiest', 'peeking', 'out', 'satin', 'dream', 'v-neck', 'pulls', '33½', 'shoulder', 'hits', 'shirttail', 'hem', 'polyester/nylon', 'name', 'says', 'b.gorgeous', 'by', 'b.tempt', \"'d\", 'wacoal', '910236', '36-38dd', 'hipster', 'narrow', 'elasticized', 'work', 'one-piece', 'wonder', 'leg', 'flirty', 'lace-up', 'nylon/spande/polyester', 'reason', 'breathe', 'ready', 'bike', 'bo', 'train', 'hard', 'unstructured', 'design', 'clasps', 'undercover', 'bit', 'naked', 'strapless', 'calvin', 'klein', 'secret', '...', 'stays', 'f3493', 'stunner', 'turn', 'its', 'plunging', 'front-clasp', 'center', 'sweet', 'boyshort', 'bikini', 'won', 'through', 'cotton/spande', 'fantastic', 'update—a', 'v-shaped', 'creates', 'silhouette', 'upgrade', 'effortless', 'over', 'raw-cut', 'wearability', 'scoop', 'plunge', 'see', '•full', '38-40d-dd', 'seriously', 'gets', 'update', 'marled', 'ultra', 'fuller', 'figures', 'red', 'carpet', 'eactly', 'where', '854119', 'tackle', 'high-intensity', 'workouts', 'truly', 'incredible', 'wick', 'large', 'keyhole', 'solids/prints-', 'insets', 'polyamide/elastane', 'marl-', 'polyester/nylon/spande', 'polyester/elastane', 'two-ply', 'inner', 'sling', 'pink', 'girl', 't-back', 'sporting', 'tanks', 'tops', 'dual', 'control', 'two', 'ply', 'seam-free', 'are', 'cross-dye', 'wings', 'retro', 'chemise', '485701', 'beautifully', 'boho', 'macramé', 'nylon/spande/cotton', 'slim-fit', 'pants', 'skinny', 'jeans', 'victoria', 'polyester/polyamide/elastane', 'ultra-smooth', 'hiphugger', 'remi', 'curved', 'on-trend', 'skin', 'boning', 'wing', 'enhance', 'curvestraps', 'minimal', 'j-hook', 'cross-back', 'option', 'bulk-free', 'adjustability', '36c-dd', '38b-dddetails', 'no-slip', 'all-day', 'small', 'tag', 'lounging', 'iconic', 'cotton/elastane/polyamide/polyester', 'includes', 'included', 'peace', 'often', 'good', '4447-2071', '437', 'cozy', 'v-front', 'stay', '92', 'fave', 'push.•most', 'push•super', 'cups•racerback', 'straps•structured', 'cups•hook-and-eye', 'closure•imported', 'straps\\xad–wear', 'cheeky', 'cheekster', 'fits', 'covered', 'things', 'logos', 'mini', 'allover', 'crochet', 'cheekini', 'hugs', 'curve', 'care', 'deep', 'basic', 'ruched', 'sheerly', 'scoopneck', 'dares', 'bare', 'closuresdetails', 'while', 'lays', 'flat', 'sunnie', 'chill', 'play', 'move.™', 'soft®', 'some', 'girls', 'sweat', 'others', 'works', 'brighter', '0785-2272', '413', 'help', 'moisture', 'away', '67', 'polyamide', '33', 'world', 'clothing', 'now', 'slimmer', 'everyone', 'hips®', 'amazing', 'infinity', 'peekaboo', 'high-neck', 'styling', 'underneath', 'when', 'show-through', 'strap', 'swan', 'bust', 'tip', 'fronts', 'open', 'backs', 'perk', 'bralettes', 'we', 'did', 'them', 'first', 'do', 'best', \"'em\", 'their', 'own', '4447-2160', '410', 'romantic', 'longline', 'fringe', 'let', 'tees', 'colorful', 'goes', 'way', 'eyelash', 'boost', 'thanks', 'hidden', 'innovative', 'provide', 'bows', 'nylon/spande/metallic', 'threads', 'nylon/elastane', 'supported', 'peek…and', 'plenty', 'must', 'pack', 'about', 'flutter', 'layering', 'sleeve', 'daisy', 'long-line', \"'ll\", 'radiant', 'decorated', 'brand', 'qd3539', 'cutest', 'places.lift', 'embroidered', 'wisp', 'virtually', 'started', 'boybrief', 'original', '10', 'years', 'later', 'still', '95', 'what', 'dreams', 'finished', '32', \"''\", 'thigh', 'introducing', 'loves™', 'listen', 'heart', 'get', 'happy', 'whole', 'lot', 'wow', '5775-5972', 'luurious', 'effortlessly', 'glamorous', 'five', 'ways', 'standout', 'cutout', 'one-strap', 'ultra-soft', 'neon', 'print', 'banding', 'create', 'clean', 'raceback', 'impact', 'additional', 'moves', 'l/l', 'young', 'pattern', 'figure', 'great', 'trend', 'scrolling', 'edge.lift', 'bras', '4793-7762', 'so-soft', 'two-way', 'pull-on', 'mold', 'special', 'etended', 'added', 'smooths', 'twist', 'runs', 'down', '64', '36', 'hello', 'version', '125', 'happiness', 'interior', 'rockin', '90', 'mesh-lined', 'nylon/lycra®', 'promise', 'late-night', 'perfection', '39', 'below', 'knee', 'bolder', 'treatment', 'logo-print', 'angels', 'who', 'options', 'multi-way', 'wo', '36-38dd-ddd', 'feeling', 'welcome', '2792-7829', '666', 'sporty', 'contour', 'nude', 'micro', 'super-smooth', 'bestie', 'pushup', '3732-4656', 'level', 'perkier', 'if', 'loved', 'charley', 'emma', 'adore', 'brooke', '62', '30', 'nothing', 've', 'felt', 'before', '•details', '•u-shaped', '•supersoft', '•keyhole', 'select', 'origin', 'fresh', 'pick', 'v-string', 'here', 'most-loved', 'shoulder-baring', 't-strap', 'proves', 'lining•', 'padding•', 'hooks•', 'straps•', 'fabric•', 'front•', 't-back•', 'line•', 'shape•', 'back—this', 'v-back', 'queen', 'net', 'sesh', '0785-2319', '213', '*worry', 'free', 'zipper', 'falling', '89', '11', 'dramatic', 'bodysuit', '012', 'call', 'favorites', '073', 'graphics', 'dropped', 'armholes', 'relaed', 'armhole', 'heavyweight', 'cotton/polyester', 'tons', 'push—this', 'lounge', 'elegant', 'striped', 'lacework', 'accentuates', 'lovely', 'frames', 'lacy', 'succulent', '36dd-38ddd', 'goals', 'strong', 'minimum', 'yoga', 'pilates', 'weight', 'anti-microbial', 'going', 'crop', 'pair', 'wide-neck', 'reveal', 'around', 'novel', 'marble', 'underband', 'non-padded', 'matching', 'knickers', 'set', 'will', 'draw', '86', '14', 'low-rise', 'fit—even', 'tightest', 'enchanting', 'lends', 'kiss', '910182', 'plays', 'flirt', 'detailing', 'chantilly', 'brings', 'french', 'alluring', 'shaped', 'blend', 'modal', 'hotter', 'hot', 'framed', 'move', 'bodysuede', 'ideal', '85185', '9792-3487', '890', '360', 'degree', 'sofie', 'jennifer', 'heat', 'time', 'longer', '1694-2447', '461', '84', '16', 'wrap-around', 'princess', 'seams', 'channel', 'flouncy', 'festival-ready', 'bandeau', 'jean', 'shorts', 'seductive', 'conventional', 'one-shoulder', 'because', \"'re\", 'desired', '978171', 'forms', 'corset', 'infused', 'vintage', 'romance', 'life', 'aeriereal', 'too', '2791-7894', '808', 'amp', 'game', 'workout', 'support.details', 'why', 'buy', 'babe', 'high-waist', 'decidedly', 'vibe', 'nylon/cotton/spande', 'wicks', 'after-dark', 'delight', 'entices', 'slit', 'foam', 'matchy', 'everywhere', 'matchback', 'thin', '|wacoal', 'underpinnings', 'hydrophilic', 'filament', 'rayon', 'lycra®', 'resists', 'generating', 'static', 'compared', 'synthetic', 'fibers', 'awareness', 'jacquard', 'lily', 'dot', 'rock', 'retro-vibe', 'mi', 'match', 'suits—swimwear', 'high-rise', 'looks', 'comes', 'array', '--', 'there', 'visible', '4911', 'half', 'trims', 'marquisette', 'practical', 'appliqué', 'flowers', 'give', 'bohemian', 'contender', 'gym', 'highlights', '32c-', '32d', '34a-', '34c', '36a-', '36b', '32dd-32ddd', '36c-', '36d', '38b-38c', 'crossover', 'all-around', 'knotted', 'heather', 'gorgeous', 'stunning', 'ciao', 'bella', 'balconette', '953144', '6733-4352', 'jacklyn', 'harper', 'ella', 'gel', 'popular', 'organic', 'add', 'attitude', 'logo-enhanced', 'thing', 'casual', '1776-6107', '633', 'say', '85', '15', 'never', 'seen.lift', 'slightly', 'typical', 'silhouettestraps', '5442-5400', '36d-38dd', 'cotton/elastane/polyamide', '38b-dd', 'metal', 'ring', 'back.lift', 'crafted', 'halo', 'fully-lined', 'it––now', 'stylish', 'they', 'no-more-lines', '3-pack', 'left', 'fabulous', 'one-of-a-kind', 'tanga', 'these', 'renowned', 'thongs', 'packaged', 'adorable', 'roll', 'free-spirited', 'whoa', 'one', '6732-4660', '619', 'pads', 'adjust', 'rose', 'transforms', 'something', 'perfectly', 'inset', \"'ve\", 'been', 'looking', 'visual', 'effects', 'minimizer', '857210', 'romances', 'full-cut', 'briefs', 'silk-soft', 'sueded', 'clingy', 'knits', 'layers', 'anchored', 'traced', 'choose', 'colourful', 'bonds', 'branded', 'chic', 'fun', 'fierce', 'leopard-print', 'simple', 'strap.push', 'linedstraps', 'closuredetails', 'tailored', 'customized-lift', 'f2892', 'fabulously', 'feels', 'does', 'ma', 'bump', 'straps—wear', 'competitive', 'sports', 'quick', 'activities', 'compression', 'during', 'activity', 'mind', 'quality', 'double-layered', 'bodysuede®', 'against', 't-shirts', 'sweaters', 'offered', 'fashion', 'twice', 'season', 'sure', 'find', '855192', 'vanity', 'fair', 'variety', 'outfit', '75339', 'selling', 'available', 'describes', 'figure-flattering', 'non-binding', 'eliminate', 'lines', 'modest', 'measurement', 'taken', 'inch', 'number', '9k2124', 'taking', 'risks', 'daring', 'tied', 'keyholes', 'nylon/polyester/cotton', 'beautifier', 'all-over', 'embrace', '65191', 'options—in', '4447-7623', 'festive', 'embroidery', 'button', '93', 'after', 'midnight', 'thick', 'attach', '4447-2095', '341', 'etra-generous', 'tummy', 'appear', '0-12.', '9k1926', 'bustier', 'begs', 'shown', 'illusions', 'stripe', 'accents', 'ultrafine', 'smoothes', 'hide', 'withstand', 'high-impact', 'motion', 'maintaining', '855170', 'body-loving', '5777-6103', '669', '88', '12', 'icon', 'air', 'desire', 'versatility', 'f3647', 'la', 'also', 'needs', 'her', 'back-', 'sensual', '•stretchy', 'bbv', 'full-coverage', '852215', '6443-5402', '092', 'lover', 'doesn', '1¼', 'inseam', '2792-2308', 'shortie', '3732-4689', 'charlie', '73', '27', 'need', 'brief', 'corded', 'scallop', 'comfier', 'nylon/polyester/elastane', 'offer', 'endless', 'curve-creating', 'dramatically', 'ultrasmooth', '184', 'matches', 'coordinating', 'pieces', '|embrace', 'multiway', 'customized', 'silicone', 'trimmed', 'rainbow', 'prints–why', '24/7', 'live', 'babydoll', 'shy', 'flyaway', '28', 'polyester/polyamide', 'embellished', 'hearts', 'edging', 'word', '``', 'midsection', 'tricks', 'tummies', 'svelte', '2792-7888', '133', 'cage', '91', 'accent', 'vikini', '482374', 'shaping', 'minimizing', 'product', 'rigid', 'minimizes', 'bustline', 'women', '100', '71', '29', 'spande/elastane', 'lining:100', '|full', 'bottoms', 'days', 'newest', 'active-inspired', 'take', 'barre', 'brunch', 'in-between', 'irresistible', 'duo', 'slits', 'eclusively', 'ours', 'three', 'package', 'ruffles', 'lace.lift', 'flounce', 'looked', 'cooler', '0785-2341', '802', 'hi-neck', '96', 'splash', 'midline', 'v-wire', 'opening', 'wrap-style', 'ultrasoft', 'brushed', 'covers', 'foam-lined', 'shapes', 'underarms', 'foundation', 'summer', 'swimsuit', 'showoff', 'high-cut', 'lace—a', 'few', 'cotton/spande/nylon', 'balcony', 'dora', 'larsen', 'mint', 'fuchsia', 'should', 'camisole', 'attractive', '2790-7598', '130', 'split', '5-pack', 'underwear', 'printed', 'kick', 'gear', 'come', 'win', 'superior', '|beautiful', 'ck', 'id', 'revisiting', 'eploring', 'oh-so', '25', 'b.adorable', '0692-2314', '87', '13', 'mies', 'crisscrossing', 'sophistication', 'cami', '4447-2142', '496', 'maternity', 'enjoy', 'treat', 'lue', 'medium-impact', 'banded', 'best-selling', 'latest', '853191', '651', 'sets', '5776-5974', 'high-waisted', 'absolutely', 'nowhere', 'three-section', 'seamed', 'evoke', 'old', 'hollywood', 'yet', 'midriff', 'inspire', 'vien', 'dress', 'kinds', 'alarms', '023', 'charming', 'seen', 'shirt', '|great', 'hip', 'joins', 'digging', '970182', 'b-smooth', '835275', 'gift', '6443-5100', 'how', 'watch', 'lighter-than-air', 'supima®', 'unique', 'stitching', 'openings', 'eceptionally', 'comfiest', 'fabrication', '|basic', 'raw', 'plus-size', 'all-there', '4811f', 'simply', 'bring', 'cover', 'essentials', 'rear', 'halter-style', 'shell', 'mermaid', 'flower', 'bare®', 'elegance', 'spacer-foam', 'along', 'affair', '5772-6101', '887', 'flaunt', 'scoopback', 'designer', 'qd3540', '2792-2300', 'such', 'off-the-shoulder', 'shape.lift', 'cropped', 'flowery', 'much', 'heart-shaped', 'ruching', 'topped', 'tonal', 'enough', 'discover', 'paired', 'put', '|t-shirt', 'bride', 'count', 'status', 'bearing', 'sparkly', 'cursive', '89371', 'georgette', 'pleats', 'shiny', 'ribbon', 'empire', 'masters', 'art', 'dotted', '401', 'diamond', 'b.inspired', 'unleash', 'teddy', 'decorative', '488406', 'premium', 'plum', 'hottest', 'polyamide/polyester/elastane', 'qf1205', 'flirt.lift', 'plunge-neck', 'converts', '1692-2259', 'blooms', 'wink', 'construction', 'dare', 'laces', 'behind', 'shape—this', 'bad', 'frame', 'flirtiest', 'string', 'racy', 'playful', 'overall', 'reduces', 'quite', 'steamy', 'strategically', 'angled', 'inlays', 'flatter', 'think', 'agree', 'g-string', 'wonderful', 'sides—it', 'dances', 'cotton-blend', 'down-to-there', 'those', 'laid', 'f3785', 'mycalvins', 'well', 'could', 'beach', 'fishnet', '18¾', 'above', 'pineapple', 'perkiness', '9731-2865', '030', 'perky', 'double-layer', '32aa-38dd', 'feauring', 'smoother', 'reasons', 'updated', 'instantly', '062', 'part', '397', 'side-to-side', 'hips', 'forget', 'makeup', 'namaste', '0785-2367', '199', '65', '35', 'microdenier', 'include', 'relieve', 'strain', 'ivory', '34-40', 'dd', 'ddd', '32-40', '|bodysuede', 'invisibles', 'qf1184', 'sends', 'signals', 'strengthen', 'woven', 'low-impact', 'panels', 'b.provocative', 'switch', 'goddess', 'flwr', 'pwr', 'swirls', 'grl', '4447-2326', '678', 'hides', 'lowest', 'bringing', 'form', 'bared', 'draped', 'locks', 'solo', 'bloom', 'nylons/spande/polyester', 'overlays', 'bralet', 'silky-smooth', '35¾', 'high-low', 'equisite', 'superb', 'benefits', 'barely', 'crotchless', 'leopard', 'nouveau', 'scintillating', 'leaves', 'imagination', 'cotton/nylon/polyester/spande', 'leave', 'inserted', 'underbust', 'ultra-lightweight', 'galloon', 'calls', 'epitome', 'b.sultry', 'wacaol', '914261', '153', 'outfits', 'slim', '81', '19', 'illumination', 'full-figure', 'satin-like', '76338', 'invoke', 'paneling', 'garters', 'captivating', 'ultra-comfortable', 'spot', 'seamlessly', 'b.splendid', 'right-now', 'boy', 'modal/spande', 'fully-adjustable', 'adjustment', '851205', 'graces', 'holiday', 'spirit', 'lace-trim', 'cotton/polyamide/elastane', '005', '642', 'mied', 'very', 'lay', 'seduction', 'studio', 'street', 'celebrate', '7441-5361', 'lingerie…', 'us', 'lavish', 'sensational', '64391', 'legging', 'quick-dry', 'sweat-wicking', '1775-5973', '4447-7522', '604', 'details…this', 'complete', 'garter', 'whimsy', '4447-2325', '14-24.', 'hide.lift', 'liftstraps', 'supportdetails', 'cotton.in', 'oversized', 'square-neck', 'subtly', 'blue', 'jersey', 'knew', 'words', 'mean', 'swarovski®', 'crystals', 'accented', 'stretch-lace', 'ultra-flattering', 'underwired', '645', '933', 'iron', 'strength', 'party', 'straight', 'try', 'resist', 'four', 'gettin', 'stringy', 'it…', '5441-4301', 'screams', 'ooh-la-la', '945144', '0785-2360', 'pop', 'proof', 'heads', 'statement-making', '5442-5435', 'brazilian', 'spicier', 'logo-branded', 'edged', 'coordinates', 'smaller', 'definition', 'satiny', 'cross-dyed', 'patterning', 'rich', 'depth', 'fashioned', '2¼', '4445-2306', 'shake', 'booty', '0442-4559', 'swoon-worthy', 'patterns', 'cotton/elastane/nylon', '5444-5448', 'close', '|body', 'softness', 'functional', 'advantages', 'supple', 'prefer', 'convenience', 'necessary', 'armholes-', 'slipping', 'shoulders', '7441-5328', 'purple', 'posies', 'illuminations', '13108', '36c-38dd', 'instructions', 'wild', 'success', 'limit', 'minimum-support', 'repeating', 'v-kini', 'giving', '2792-7896', 'contours', 'personalized', 'f3837', 'equisitely', 'powerful', 'moisture-wicking', 'which', '6443-5478', \"s'cute\", 'graphic', 'confidence', 'peek-a-boo', 'socks', 'hanging', 'assets', 'pillow', 'back-smoothing', 'leotard', '853220', 'frills', 'airy', 'ruffled', 'chiffon', 'skirt', 'pleated', 'enhanced', 'nice', '1773-5901', '72', 'coolma', 'removes', 'keeping', '853209', 'muscle', 'crewneck', 'ride', 'adhesive', 'clever', 'times', 'choice', 'backless', 'burnout', 'edgy', 'feline', 'detailed', 'mesh…just', 'kind', '5772-6106', '382', 'balconet', '4811', 'undetectable', 'security', 'high-drive', 'saucy', 'pleasure', '1390l', 'definitely', 'all-lace', '6734-4399', 'cradle', 'delicately', 'ringer', 'details—features', 'curing', 'concern', 'shifting', 'beneath', 'second-skin', 'knit', 'italy', 'disappearing', 'clingiest', 'fashions', 'sacrificing', '7442-5436', '389', 'proclaims', 'loyalty', 'completely', 'unforgettable', 'teensy', 'oh', 'teture', 'reinvents', 'eye-catching', 'takes', '22¼', '417', 'etra-cushioned', '9793-7552', '327', '52', 'wearable', 'situation-', 'always', 'breathtaking', '1692-2448', 'enhances', 'close-fitting', 'fabrics', 'braided', 'braid', 'appeal', 'belt', 'innerwear', 'offering', 'festival', 'indulge', 'qd3538', 'appearance', '2791-7747', 'heathered', 'effect', '51', 'customize', 'thiscomfy', 'year', 'breathless', 'tanlines', 'nah', 'coming', 'roses', 'collector', 'limited', 'edition', 'jar', 'opens', 'gifting', 'treating', 'semi', 'highlight', 'sunkissed', 'unbutton', 'almost', '8442-5438', 'slight', 'lady', '76380', 'hawaii', 'retro-style', 'screen', 'sirens', 'run', 'money', '76', 'viscose', 'completes', 'fashionable', 'evening', '331', 'cross-strap', 'piece', 'telltale', 'add-a-size', 'support.lift', 'darts', 'retro-inspired', 'combine', 'door', '4441-7167', 'lively', 'paisley', 'contrast-lace', 'starts', 'polished', 'seal', '9793-7340', 'two-section', '852191', 'dainty', 'both', 'worlds', 'unpadded', 'body-conscious', 'sheer-lace', 'highly', 'brazilian-cut', 'staple', 'feature', 'various', 'silhouettes', 'cleanly', 'all-out', 'separated', '65115', 'sit', 'shirring', 'applique', '1774-5447', 'swim', 'flow', 'supremely', 'holds', 'each', '6734-4718', 'super-comfy', 'inserts', 'versatile', 'yes', 'swing', 'reintroducing', 'quintessential', 'comfortably', 'throughout', '5779-6110', 'gusset', 'audrey', 'gentle', 'stay-secure', 'rubber-lined', 'thong-back', 'stripes', 'heat-seal', 'means', 'skinsense', 'net-best', 'eclusive', 'bag', 'was', 'protect', 'precious', 'treasures', 'washing', 'cycle', 'cold', 'water', 'spring', 'break', 'smoothly', 'lightest', 'repay', 'debt', 'gratitude', 'maid', 'honor', 'ladies', 'ages', 'swoon', 'bedecked', 'spelling', 'bridesmaid', 'tank—this', 'matter', '4447-2355', 'plastic', 'case', 'travel', 'wire-free', 'removed', 'non-adjustable', 'head', '|bralette', 'easing', 'fitting', 'non-wire', 'diagonal', 'v-design', 'dkny', '1446-5971', 'velvet', '6734-4566', '1772-6080', 'somethin', 'power', 'factor', 'ensures', 'other', 'wrapped', 'medical-grade', 'incredibly', 'neutral', 'hues', 'lettering', 'sophisticated', 'ultra-feminine', 'teeniest', '7442-5401', '700', 'frilly', 'ruffle', 'collaboration', 'crew', 'qd3545', '5442-5444', 'bulges', '853192', 'heaven-sent', 'shaper', '1694-2451', '24', 'refined', 'retention', '8442-5403', '5777-6108', 'asymmetric', 'sleeping', 'staying', 'late', 'across', '23', '1/4', '0697-7515', 'boys', 'adorns', 'three-button', '488134', '2792-2366', 'stylized', 'caress', 'luuriously', 'required', 'studio-to-street', '0785-2359', 'gold', 'standard', 'magical', 'act', 'd3428', 'lorna', 'jane', 'nourish', 'believe', 'motivate', 'achieve', 'australia', 'lj', 'ecel', 'fabric™', 'shrink', 'fade', 'resistant', 'eligible', 'promotions', 'ships', 'usa', 'canada', 'hi-leg', '6447-5511', 'ombre', 'linear', 'eyelet', 'dip-dyed', 'plaque', 'pearls', 'tagless', 'y.a.s', '046', '6441-1499', 'sleep', 'nonbinding', 'seam', 'skimp', 'polyester/spande/nylon', 'simplicity', 'ignore', \"b.tempt'd\", \"b'wow\", 'super-low', '958287', 'y-back', 'miing', 'touches', 'viscose/polyester/spande/nylon', 'pro-support', 'anti-smash', 'teams', 'newbie', 'workout…or', 'not—it', 'perf', 'low-medium', 'bottom-band', 'compressive', 'one-', 'optional', 'major', 'points', 'stick-on', 'proper', 'stitch-free', 'solid', '481001', 'criss', 'teal', 'co-ord', '22', 'streamlined', 'pocket', 'shoe', 'discreet', '1774-6116', '56', 'minimalist', 'curve-loving', 'styled', '7442-5445', 'ultra-premium', 'organically-grown', 'blended', '481281', 'being', 'captures', 'said', 'sentiment', 'forward', 'custom', 'whoever', 'whatever', 'please', 'core', 'freedom', 'laciness', 'd3447', '72335', '2792-2337', '9731-2666', '79', '21', 'geometric', 'keepin', '5778-6082', 'proclaim', 'two-piece', 'rounded', 'combines', 'wraps', 'vintage-inspired', 'supports', 'crystal', '855186', 'lustrous', 'stretch-cotton', 'weapon', 'o-so-cute', '0785-2365', 'hug', 'ombré', 'touched', 'coral', \"'topshop\", '49', 'contouring', '0692-7618', 'half-adjustable', 'half-lace', 'seaming', 'cream', 'open-bust', 'torsette', 'stock', 'hipsters', '853281', '0762-1017', '628', 'clasp', '000', 'shimmer', '13109', 'island', 'hopping', 'etra-wide', 'hi-cut', 'lies', 'tiny', '4442-7813', 'f3788', 'adored', 'lock', 'impress', 'ultra-strappy', '412', 'shapewear', 'gently', 'reinforced', 'specially', 'places', '870205', '2792-7830', 'incorporating', 'f3787', '5442-5326', 'loops', 'long-sleeve', '6443-4801', '328', 'metallic', 'magenta', 'lace-trimmed', 'complements', 'pounce', 'tighter', 'sensation', 'easiness', '71380', 'gorgeously', 'temptation', 'qf1197', 'head-turning', 'femme', '853117', 'youthful', 'ribbons', 'colorblock', 'itsy', 'bitsy', '5774-6109', '34', 'stem', 'clear', 'cellophane', 'hang', 'attached', 'she', 'releases', 'pin', 'unfold', 'silk', 'glance', 'same', 'spotted', '0796-7214', '6441-5336', 'etremely', 'luscious', '841186', 'layered', 'striking', 'tulle', 'cutaway', 'crop-top', 'polyester/cotton', 'breath', 'shimmering', '6443-5448', 'savings', 'fies®', 'collections', '292', '40', 'hotness', 'criss-cross', 'midi', 'know', 'big', 'spelled', 'chest', 'rhinestones', 'qd3546', 'closet', 'lost', 'tease', 'usa-grown', 'cotton-spande', '6511', 'constructed', 'accentuate', 'intuitive', 'outs', 'wider', 'encased', 'flees', 'surprises', '4793-7791', '6734-4530', 'dynamically', 'seemingly', 'floats', 'underpinning', 'catherine', 'f3786', 'wow-worthy', '¡amor', '4447-2322', 'guipure', 'scallop-edged', 'weights', 't-back.details', 'antimicrobial', '4812', '482921', 'bands', 'day…comfy', '5441-5351', 'nylon,15', 'asking', 'defines', 'snug', 'end', 'cami-bralette', '7/8', 'contoured', 'stretch-foam', 'average', 'tango-', 'basically', 'guarantee', 'dance', 'card', 'forever', 'coveted', 'insiders', 'flatters', 'details-', 'edges-', 'hardware', '0797-7880', 'boed', 'donkey', 'election', 'democrat', 'function', 'skimpier', 'combined', 'everything-', 'including', 'slyly', 'sew', 'helps', 'dark', 'eposed', '834175', 'seductively', 'ultra-heated', 'moments', 'improved', 'range', 'v-neckline', 'lasts', 'tissue', 'packet', '4447-7433', 'tantalizing', 'd3429', 'carousel', 'eotic', 'zebra', 'sleeveless', '953261', 'belongs', '879205', '978271', 'b.smooth', 'yours', 'ravissant', 'regular', '15712', 'hoodie', 'title', 'mrs.', 'deserves', 'remind', 'news', 'slithering', 'snake', 'puts', 'notch', 'cooling', 'cuter', 'strings', '0442-5117', '6510', 'leather', 'dylan', 'candy', 'bar', 'pairing', 'soft-cup', 'tied-up', 'view', 'whether', '312', 'updates', 'leg-line', 'medallion', 'raglan', 'terry', 'cotton/polyester/viscose', 'sparkle', 'packed', 'wedding', 'star', '978143', 'ethereal', 'thumbholes'])"
      ]
     },
     "execution_count": 17,
     "metadata": {},
     "output_type": "execute_result"
    }
   ],
   "source": [
    "model.wv.vocab.keys()"
   ]
  },
  {
   "cell_type": "code",
   "execution_count": 19,
   "metadata": {},
   "outputs": [
    {
     "name": "stderr",
     "output_type": "stream",
     "text": [
      "C:\\Users\\Yolanda Nainggolan\\Anaconda3\\lib\\site-packages\\ipykernel_launcher.py:1: DeprecationWarning: Call to deprecated `most_similar` (Method will be removed in 4.0.0, use self.wv.most_similar() instead).\n",
      "  \"\"\"Entry point for launching an IPython kernel.\n"
     ]
    },
    {
     "data": {
      "text/plain": [
       "[('stay', 0.19738906621932983),\n",
       " ('puts', 0.1793029010295868),\n",
       " ('silicone', 0.17592638731002808),\n",
       " ('bows', 0.16747917234897614),\n",
       " ('bella', 0.1668696254491806),\n",
       " ('sporting', 0.16360992193222046),\n",
       " ('matchback', 0.16018342971801758),\n",
       " ('1390l', 0.1597033441066742),\n",
       " ('keeping', 0.1595989465713501),\n",
       " ('laser-cut', 0.15812215209007263)]"
      ]
     },
     "execution_count": 19,
     "metadata": {},
     "output_type": "execute_result"
    }
   ],
   "source": [
    "model.most_similar('top')"
   ]
  },
  {
   "cell_type": "code",
   "execution_count": 20,
   "metadata": {},
   "outputs": [
    {
     "name": "stderr",
     "output_type": "stream",
     "text": [
      "100%|███████████████████████████████████████████████████████████████████████| 10000/10000 [00:00<00:00, 1250276.92it/s]\n",
      "100%|███████████████████████████████████████████████████████████████████████| 10000/10000 [00:00<00:00, 1250165.13it/s]\n",
      "100%|███████████████████████████████████████████████████████████████████████| 10000/10000 [00:00<00:00, 2500926.60it/s]\n",
      "100%|███████████████████████████████████████████████████████████████████████| 10000/10000 [00:00<00:00, 1250090.61it/s]\n",
      "100%|███████████████████████████████████████████████████████████████████████| 10000/10000 [00:00<00:00, 2500479.31it/s]\n",
      "100%|███████████████████████████████████████████████████████████████████████| 10000/10000 [00:00<00:00, 2501523.23it/s]\n",
      "100%|███████████████████████████████████████████████████████████████████████| 10000/10000 [00:00<00:00, 2501374.05it/s]\n",
      "100%|███████████████████████████████████████████████████████████████████████| 10000/10000 [00:00<00:00, 2511860.10it/s]\n",
      "100%|███████████████████████████████████████████████████████████████████████| 10000/10000 [00:00<00:00, 1250351.47it/s]\n",
      "100%|████████████████████████████████████████████████████████████████████████| 10000/10000 [00:00<00:00, 832302.26it/s]\n",
      "100%|███████████████████████████████████████████████████████████████████████| 10000/10000 [00:00<00:00, 2512461.96it/s]\n",
      "100%|███████████████████████████████████████████████████████████████████████| 10000/10000 [00:00<00:00, 2498245.28it/s]\n",
      "100%|███████████████████████████████████████████████████████████████████████| 10000/10000 [00:00<00:00, 2488905.77it/s]\n",
      "100%|███████████████████████████████████████████████████████████████████████| 10000/10000 [00:00<00:00, 2510056.25it/s]\n",
      "100%|███████████████████████████████████████████████████████████████████████| 10000/10000 [00:00<00:00, 1250798.91it/s]\n",
      "100%|███████████████████████████████████████████████████████████████████████| 10000/10000 [00:00<00:00, 1250537.87it/s]\n",
      "100%|███████████████████████████████████████████████████████████████████████| 10000/10000 [00:00<00:00, 2488019.93it/s]\n",
      "100%|███████████████████████████████████████████████████████████████████████| 10000/10000 [00:00<00:00, 1247228.29it/s]\n",
      "100%|███████████████████████████████████████████████████████████████████████| 10000/10000 [00:00<00:00, 2492751.69it/s]\n",
      "100%|███████████████████████████████████████████████████████████████████████| 10000/10000 [00:00<00:00, 1250761.62it/s]\n",
      "100%|███████████████████████████████████████████████████████████████████████| 10000/10000 [00:00<00:00, 2489792.24it/s]\n",
      "100%|███████████████████████████████████████████████████████████████████████| 10000/10000 [00:00<00:00, 2489644.45it/s]\n",
      "100%|███████████████████████████████████████████████████████████████████████| 10000/10000 [00:00<00:00, 2488905.77it/s]\n",
      "100%|███████████████████████████████████████████████████████████████████████| 10000/10000 [00:00<00:00, 1250761.62it/s]\n",
      "100%|███████████████████████████████████████████████████████████████████████| 10000/10000 [00:00<00:00, 1250910.83it/s]\n",
      "100%|███████████████████████████████████████████████████████████████████████| 10000/10000 [00:00<00:00, 2498542.92it/s]\n",
      "100%|████████████████████████████████████████████████████████████████████████| 10000/10000 [00:00<00:00, 833459.98it/s]\n",
      "100%|███████████████████████████████████████████████████████████████████████| 10000/10000 [00:00<00:00, 2488462.77it/s]\n",
      "100%|███████████████████████████████████████████████████████████████████████| 10000/10000 [00:00<00:00, 2500926.60it/s]\n",
      "100%|███████████████████████████████████████████████████████████████████████| 10000/10000 [00:00<00:00, 2489053.47it/s]\n"
     ]
    },
    {
     "name": "stdout",
     "output_type": "stream",
     "text": [
      "Wall time: 34.7 s\n"
     ]
    }
   ],
   "source": [
    "%%time\n",
    "for epoch in range(30):\n",
    "    model.train(utils.shuffle([x for x in tqdm(tokens.values)]), total_examples=len(tokens.values), epochs=1)\n",
    "    model.alpha -= 0.002\n",
    "    model.min_alpha = model.alpha"
   ]
  },
  {
   "cell_type": "code",
   "execution_count": null,
   "metadata": {},
   "outputs": [],
   "source": [
    "model.save(\"model.doc2vec\")"
   ]
  },
  {
   "cell_type": "code",
   "execution_count": null,
   "metadata": {},
   "outputs": [],
   "source": [
    "model = gensim.models.Doc2Vec.load('model.doc2vec')  "
   ]
  },
  {
   "cell_type": "code",
   "execution_count": 21,
   "metadata": {},
   "outputs": [
    {
     "data": {
      "image/png": "[encoded data removed]",
      "text/plain": [
       "<Figure size 432x288 with 1 Axes>"
      ]
     },
     "metadata": {
      "needs_background": "light"
     },
     "output_type": "display_data"
    }
   ],
   "source": [
    "from sklearn.decomposition import PCA\n",
    "from matplotlib import pyplot\n",
    "\n",
    "%matplotlib inline\n",
    "\n",
    "X = model[model.wv.vocab]\n",
    "pca = PCA(n_components=2)\n",
    "result = pca.fit_transform(X)\n",
    "\n",
    "pyplot.scatter(result[:, 0], result[:, 1])\n",
    "words = list(model.wv.vocab)\n",
    "for i, word in enumerate(words):\n",
    "    pyplot.annotate(word, xy=(result[i, 0], result[i, 1]))\n",
    "\n",
    "pyplot.show()"
   ]
  },
  {
   "cell_type": "code",
   "execution_count": null,
   "metadata": {},
   "outputs": [],
   "source": []
  },
  {
   "cell_type": "markdown",
   "metadata": {},
   "source": [
    "## 4. Kalkulasi Kemiripan"
   ]
  },
  {
   "cell_type": "code",
   "execution_count": 22,
   "metadata": {},
   "outputs": [],
   "source": [
    "def matching(inputs):\n",
    "    new_sentence = inputs.split(\" \")\n",
    "    print(\"Berikut adalah 10 produk yang mirip\")\n",
    "    tag = model.docvecs.most_similar(positive=[model.infer_vector(new_sentence)],topn=10)\n",
    "    \n",
    "    return tag"
   ]
  },
  {
   "cell_type": "code",
   "execution_count": 34,
   "metadata": {},
   "outputs": [
    {
     "name": "stdout",
     "output_type": "stream",
     "text": [
      "Berikut adalah 10 produk yang mirip\n"
     ]
    },
    {
     "data": {
      "text/plain": [
       "[('PINK Lace Trim Boyshort', 0.891903281211853),\n",
       " ('Very Sexy Satin Cami & Short Set', 0.8483166098594666),\n",
       " (\"b.tempt'd Ciao Bella Balconette Bra\", 0.8296986818313599),\n",
       " ('Very Sexy Lace Plunge Bodysuit', 0.8219165802001953),\n",
       " ('Aphrodite Babydoll with G-String', 0.8210660815238953),\n",
       " ('Queen Anne’s Lace Bralette', 0.8031582832336426),\n",
       " ('Aphrodite Bralette', 0.8028275966644287),\n",
       " ('PINK NEW! Super Soft Lace Trim Thong', 0.789655327796936),\n",
       " ('Aerie Cutout Longline Bralette', 0.7854816913604736),\n",
       " ('PINK Lace Triangle Halter', 0.7848737239837646)]"
      ]
     },
     "execution_count": 34,
     "metadata": {},
     "output_type": "execute_result"
    }
   ],
   "source": [
    "matching(\"pure seamless thong\")"
   ]
  },
  {
   "cell_type": "code",
   "execution_count": 35,
   "metadata": {},
   "outputs": [
    {
     "name": "stdout",
     "output_type": "stream",
     "text": [
      "Berikut adalah 10 produk yang mirip\n"
     ]
    },
    {
     "data": {
      "text/plain": [
       "[('PINK NEW! Lace Logo Trim Thong', 0.7858799695968628),\n",
       " ('PINK NEW! Logo Lace Trim Thong', 0.7368625402450562),\n",
       " ('PINK NEW! Logo Bikini', 0.6995430588722229),\n",
       " ('PINK NEW! Logo Thong', 0.6921399831771851),\n",
       " ('PINK NEW! Lace Trim Hipster', 0.683012843132019),\n",
       " ('PINK NEW! Allover Floral Lace Thong', 0.6576569080352783),\n",
       " ('Very Sexy Lace & Mesh Strappy Cheeky Panty', 0.6409251689910889),\n",
       " ('PINK NEW! Logo Cheekster', 0.6341161727905273),\n",
       " ('PINK NEW! Lace Logo Trim Cheekster', 0.6301356554031372),\n",
       " ('PINK Lace Back No-Show Thong', 0.6257041692733765)]"
      ]
     },
     "execution_count": 35,
     "metadata": {},
     "output_type": "execute_result"
    }
   ],
   "source": [
    "matching(\"Body by Victoria NEW! Unlined Demi Bra\")"
   ]
  },
  {
   "cell_type": "code",
   "execution_count": 36,
   "metadata": {},
   "outputs": [
    {
     "name": "stdout",
     "output_type": "stream",
     "text": [
      "Berikut adalah 10 produk yang mirip\n"
     ]
    },
    {
     "data": {
      "text/plain": [
       "[('Aphrodite Bralette', 0.8399407267570496),\n",
       " ('Camo Original Rise Thong', 0.8278664350509644),\n",
       " ('PINK Lace Trim Boyshort', 0.8236719965934753),\n",
       " ('Signature Lace Melanie Bra', 0.8191442489624023),\n",
       " ('Queen Anne’s Lace Bralette', 0.8154631853103638),\n",
       " ('Dream Angels NEW! Crochet Lace Cheekster Panty', 0.8146559000015259),\n",
       " ('PINK Mini Bikini Bottom', 0.8118687272071838),\n",
       " ('Very Sexy NEW! Lace Cutout Cheeky Panty', 0.8097690343856812),\n",
       " ('PINK Lace Triangle Halter', 0.809079647064209),\n",
       " ('Alexandra Lace Eyemask', 0.8057281374931335)]"
      ]
     },
     "execution_count": 36,
     "metadata": {},
     "output_type": "execute_result"
    }
   ],
   "source": [
    "matching(\"aerie cutout longline bralette\")"
   ]
  },
  {
   "cell_type": "code",
   "execution_count": null,
   "metadata": {},
   "outputs": [],
   "source": []
  }
 ],
 "metadata": {
  "kernelspec": {
   "display_name": "Python 3",
   "language": "python",
   "name": "python3"
  },
  "language_info": {
   "codemirror_mode": {
    "name": "ipython",
    "version": 3
   },
   "file_extension": ".py",
   "mimetype": "text/x-python",
   "name": "python",
   "nbconvert_exporter": "python",
   "pygments_lexer": "ipython3",
   "version": "3.7.3"
  }
 },
 "nbformat": 4,
 "nbformat_minor": 2
}
