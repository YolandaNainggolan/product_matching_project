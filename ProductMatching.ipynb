{
 "cells": [
  {
   "cell_type": "markdown",
   "metadata": {},
   "source": [
    "# Product Matching\n",
    "### Kelompok 1\n",
    "1. 12S16002 - Diana Pebrianty Pakpahan\n",
    "2. 12S16022 - Rosa Afresia Siagian\n",
    "3. 12S16026 - Yolanda Nainggolan\n",
    "4. 12S16028 - Kaleb Lonari Simanungkalit\n",
    "\n",
    "\n",
    "### Dataset\n",
    "Data yang digunakan pada proyek ini berasal dari kaggle (https://www.kaggle.com/PromptCloudHQ/innerwear-data-from-victorias-secret-and-others) yang terdiri dari 9 file csv mengenai produk pakaian dalam."
   ]
  },
  {
   "cell_type": "markdown",
   "metadata": {},
   "source": [
    "## 1. Load Data"
   ]
  },
  {
   "cell_type": "code",
   "execution_count": 1,
   "metadata": {},
   "outputs": [
    {
     "name": "stderr",
     "output_type": "stream",
     "text": [
      "C:\\Users\\Yolanda Nainggolan\\Anaconda3\\lib\\site-packages\\tqdm\\std.py:654: FutureWarning: The Panel class is removed from pandas. Accessing it from the top-level namespace will also be removed in the next version\n",
      "  from pandas import Panel\n"
     ]
    }
   ],
   "source": [
    "import pandas as pd\n",
    "import numpy as np\n",
    "from tqdm import tqdm\n",
    "tqdm.pandas(desc=\"progress-bar\")\n",
    "from gensim.models import Doc2Vec\n",
    "from sklearn import utils\n",
    "from sklearn.model_selection import train_test_split\n",
    "import gensim\n",
    "from sklearn.linear_model import LogisticRegression\n",
    "from gensim.models.doc2vec import TaggedDocument\n",
    "import re\n",
    "\n",
    "df_1 = pd.read_csv('C:/Users/Yolanda Nainggolan/Productmatching/ae_com.csv')\n",
    "df_2 = pd.read_csv('C:/Users/Yolanda Nainggolan/Productmatching/amazon_com.csv')\n",
    "df_3 = pd.read_csv('C:/Users/Yolanda Nainggolan/Productmatching/btemptd_com.csv')\n",
    "df_4 = pd.read_csv('C:/Users/Yolanda Nainggolan/Productmatching/calvinklein_com.csv')\n",
    "df_5 = pd.read_csv('C:/Users/Yolanda Nainggolan/Productmatching/hankypanky_com.csv')\n",
    "df_6 = pd.read_csv('C:/Users/Yolanda Nainggolan/Productmatching/macys_com.csv')\n",
    "df_7 = pd.read_csv('C:/Users/Yolanda Nainggolan/Productmatching/shop_nordstrom_com.csv')\n",
    "df_8 = pd.read_csv('C:/Users/Yolanda Nainggolan/Productmatching/us_topshop_com.csv')\n",
    "df_9 = pd.read_csv('C:/Users/Yolanda Nainggolan/Productmatching/victoriassecret_com.csv')"
   ]
  },
  {
   "cell_type": "code",
   "execution_count": 2,
   "metadata": {},
   "outputs": [
    {
     "data": {
      "text/html": [
       "<div>\n",
       "<style scoped>\n",
       "    .dataframe tbody tr th:only-of-type {\n",
       "        vertical-align: middle;\n",
       "    }\n",
       "\n",
       "    .dataframe tbody tr th {\n",
       "        vertical-align: top;\n",
       "    }\n",
       "\n",
       "    .dataframe thead th {\n",
       "        text-align: right;\n",
       "    }\n",
       "</style>\n",
       "<table border=\"1\" class=\"dataframe\">\n",
       "  <thead>\n",
       "    <tr style=\"text-align: right;\">\n",
       "      <th></th>\n",
       "      <th>product_name</th>\n",
       "      <th>mrp</th>\n",
       "      <th>price</th>\n",
       "      <th>pdp_url</th>\n",
       "      <th>brand_name</th>\n",
       "      <th>product_category</th>\n",
       "      <th>retailer</th>\n",
       "      <th>description</th>\n",
       "      <th>rating</th>\n",
       "      <th>review_count</th>\n",
       "      <th>style_attributes</th>\n",
       "      <th>total_sizes</th>\n",
       "      <th>available_size</th>\n",
       "      <th>color</th>\n",
       "    </tr>\n",
       "  </thead>\n",
       "  <tbody>\n",
       "    <tr>\n",
       "      <th>417130</th>\n",
       "      <td>Body by Victoria Unlined Demi Bra</td>\n",
       "      <td>$34.50</td>\n",
       "      <td>$34.50</td>\n",
       "      <td>https://www.victoriassecret.com/bras/shop-all-...</td>\n",
       "      <td>Victoria's Secret</td>\n",
       "      <td>Unlined Demi Bra</td>\n",
       "      <td>Victoriassecret US</td>\n",
       "      <td>A naturally sexy unlined shape, with a lower c...</td>\n",
       "      <td>NaN</td>\n",
       "      <td>NaN</td>\n",
       "      <td>NaN</td>\n",
       "      <td>[\"32A\", \"32B\", \"32C\", \"32D\", \"32DD\", \"32DDD\", ...</td>\n",
       "      <td>36C</td>\n",
       "      <td>Black Mesh</td>\n",
       "    </tr>\n",
       "    <tr>\n",
       "      <th>183958</th>\n",
       "      <td>Bombshell NEW! Add-2-Cups Push-Up Bra</td>\n",
       "      <td>$58.50</td>\n",
       "      <td>$58.50</td>\n",
       "      <td>https://www.victoriassecret.com/bras/shop-all-...</td>\n",
       "      <td>Victoria's Secret</td>\n",
       "      <td>Add-2-Cups Push-Up Bra</td>\n",
       "      <td>Victoriassecret US</td>\n",
       "      <td>The ultimate lift-loving push-up is better tha...</td>\n",
       "      <td>NaN</td>\n",
       "      <td>NaN</td>\n",
       "      <td>NaN</td>\n",
       "      <td>[\"30AA\", \"30A\", \"30B\", \"30C\", \"30D\", \"30DD\", \"...</td>\n",
       "      <td>38DD</td>\n",
       "      <td>Coconut White Wildflower Lace Back</td>\n",
       "    </tr>\n",
       "    <tr>\n",
       "      <th>30928</th>\n",
       "      <td>The T-Shirt Demi Bra</td>\n",
       "      <td>$42.50</td>\n",
       "      <td>$42.50</td>\n",
       "      <td>https://www.victoriassecret.com/bras/shop-all-...</td>\n",
       "      <td>Victoria's Secret</td>\n",
       "      <td>Demi Bra</td>\n",
       "      <td>Victoriassecret US</td>\n",
       "      <td>As comfy as your favorite tee, this demi is an...</td>\n",
       "      <td>4.4</td>\n",
       "      <td>149.0</td>\n",
       "      <td>NaN</td>\n",
       "      <td>[\"32A\", \"32B\", \"32C\", \"32D\", \"32DD\", \"32DDD\", ...</td>\n",
       "      <td>36D3</td>\n",
       "      <td>Black Matte Solid</td>\n",
       "    </tr>\n",
       "    <tr>\n",
       "      <th>408076</th>\n",
       "      <td>PINK Lace T-Shirt Bra</td>\n",
       "      <td>$32.50</td>\n",
       "      <td>$20.00</td>\n",
       "      <td>https://www.victoriassecret.com/pink/all-bras/...</td>\n",
       "      <td>Victoria's Secret Pink</td>\n",
       "      <td>Lace T-Shirt Bra</td>\n",
       "      <td>Victoriassecret US</td>\n",
       "      <td>An everyday bra that essential for every bra w...</td>\n",
       "      <td>NaN</td>\n",
       "      <td>NaN</td>\n",
       "      <td>NaN</td>\n",
       "      <td>[\"30AA\", \"30A\", \"30B\", \"30C\", \"30D\", \"30DD\", \"...</td>\n",
       "      <td>36A</td>\n",
       "      <td>amethyst print</td>\n",
       "    </tr>\n",
       "    <tr>\n",
       "      <th>5576</th>\n",
       "      <td>Stretch Cotton Bralette</td>\n",
       "      <td>$68.00</td>\n",
       "      <td>$68.00</td>\n",
       "      <td>http://shop.nordstrom.com/s/hanky-panky-stretc...</td>\n",
       "      <td>HANKY PANKY</td>\n",
       "      <td>Bras</td>\n",
       "      <td>Nordstrom US</td>\n",
       "      <td>Comfy and cute for lounging or layering in sup...</td>\n",
       "      <td>NaN</td>\n",
       "      <td>NaN</td>\n",
       "      <td>[\"Slips on over head\", \"Removable soft cups\", ...</td>\n",
       "      <td>[\"Medium\", \"Small\", \"X-Small\"]</td>\n",
       "      <td>[\"Medium\", \"Small\", \"X-Small\"]</td>\n",
       "      <td>Chai</td>\n",
       "    </tr>\n",
       "  </tbody>\n",
       "</table>\n",
       "</div>"
      ],
      "text/plain": [
       "                                 product_name      mrp    price  \\\n",
       "417130      Body by Victoria Unlined Demi Bra  $34.50   $34.50    \n",
       "183958  Bombshell NEW! Add-2-Cups Push-Up Bra  $58.50   $58.50    \n",
       "30928                    The T-Shirt Demi Bra  $42.50   $42.50    \n",
       "408076                  PINK Lace T-Shirt Bra  $32.50   $20.00    \n",
       "5576                  Stretch Cotton Bralette  $68.00   $68.00    \n",
       "\n",
       "                                                  pdp_url  \\\n",
       "417130  https://www.victoriassecret.com/bras/shop-all-...   \n",
       "183958  https://www.victoriassecret.com/bras/shop-all-...   \n",
       "30928   https://www.victoriassecret.com/bras/shop-all-...   \n",
       "408076  https://www.victoriassecret.com/pink/all-bras/...   \n",
       "5576    http://shop.nordstrom.com/s/hanky-panky-stretc...   \n",
       "\n",
       "                    brand_name        product_category            retailer  \\\n",
       "417130       Victoria's Secret        Unlined Demi Bra  Victoriassecret US   \n",
       "183958       Victoria's Secret  Add-2-Cups Push-Up Bra  Victoriassecret US   \n",
       "30928        Victoria's Secret                Demi Bra  Victoriassecret US   \n",
       "408076  Victoria's Secret Pink        Lace T-Shirt Bra  Victoriassecret US   \n",
       "5576               HANKY PANKY                    Bras        Nordstrom US   \n",
       "\n",
       "                                              description  rating  \\\n",
       "417130  A naturally sexy unlined shape, with a lower c...     NaN   \n",
       "183958  The ultimate lift-loving push-up is better tha...     NaN   \n",
       "30928   As comfy as your favorite tee, this demi is an...     4.4   \n",
       "408076  An everyday bra that essential for every bra w...     NaN   \n",
       "5576    Comfy and cute for lounging or layering in sup...     NaN   \n",
       "\n",
       "        review_count                                   style_attributes  \\\n",
       "417130           NaN                                                NaN   \n",
       "183958           NaN                                                NaN   \n",
       "30928          149.0                                                NaN   \n",
       "408076           NaN                                                NaN   \n",
       "5576             NaN  [\"Slips on over head\", \"Removable soft cups\", ...   \n",
       "\n",
       "                                              total_sizes  \\\n",
       "417130  [\"32A\", \"32B\", \"32C\", \"32D\", \"32DD\", \"32DDD\", ...   \n",
       "183958  [\"30AA\", \"30A\", \"30B\", \"30C\", \"30D\", \"30DD\", \"...   \n",
       "30928   [\"32A\", \"32B\", \"32C\", \"32D\", \"32DD\", \"32DDD\", ...   \n",
       "408076  [\"30AA\", \"30A\", \"30B\", \"30C\", \"30D\", \"30DD\", \"...   \n",
       "5576                       [\"Medium\", \"Small\", \"X-Small\"]   \n",
       "\n",
       "                        available_size                               color  \n",
       "417130                             36C                          Black Mesh  \n",
       "183958                            38DD  Coconut White Wildflower Lace Back  \n",
       "30928                             36D3                   Black Matte Solid  \n",
       "408076                             36A                      amethyst print  \n",
       "5576    [\"Medium\", \"Small\", \"X-Small\"]                                Chai  "
      ]
     },
     "execution_count": 2,
     "metadata": {},
     "output_type": "execute_result"
    }
   ],
   "source": [
    "dataFrame = pd.concat([df_1, df_2, df_3, df_4, df_5, df_6, df_7, df_8, df_9])\n",
    "dataFrame.sample(5)"
   ]
  },
  {
   "cell_type": "markdown",
   "metadata": {},
   "source": [
    "## 2. Data Preprocessing"
   ]
  },
  {
   "cell_type": "code",
   "execution_count": 3,
   "metadata": {},
   "outputs": [
    {
     "data": {
      "text/html": [
       "<div>\n",
       "<style scoped>\n",
       "    .dataframe tbody tr th:only-of-type {\n",
       "        vertical-align: middle;\n",
       "    }\n",
       "\n",
       "    .dataframe tbody tr th {\n",
       "        vertical-align: top;\n",
       "    }\n",
       "\n",
       "    .dataframe thead th {\n",
       "        text-align: right;\n",
       "    }\n",
       "</style>\n",
       "<table border=\"1\" class=\"dataframe\">\n",
       "  <thead>\n",
       "    <tr style=\"text-align: right;\">\n",
       "      <th></th>\n",
       "      <th>product_name</th>\n",
       "      <th>description</th>\n",
       "    </tr>\n",
       "  </thead>\n",
       "  <tbody>\n",
       "    <tr>\n",
       "      <th>365298</th>\n",
       "      <td>PINK NEW! Ultimate Push-Up Strappy Sports Bra</td>\n",
       "      <td>Work it! This longline bralette features a str...</td>\n",
       "    </tr>\n",
       "    <tr>\n",
       "      <th>167801</th>\n",
       "      <td>Victoria Sport Incredible by Victoria Sport Bra</td>\n",
       "      <td>Tackle high-intensity workouts in a truly Incr...</td>\n",
       "    </tr>\n",
       "    <tr>\n",
       "      <th>363032</th>\n",
       "      <td>Very Sexy Satin &amp; Lace Babydoll</td>\n",
       "      <td>This satin babydoll is anything but shy, with ...</td>\n",
       "    </tr>\n",
       "    <tr>\n",
       "      <th>331794</th>\n",
       "      <td>The Bralette Collection NEW! Scalloped Triangl...</td>\n",
       "      <td>Sleek and smooth: this raw-cut bralette, in a ...</td>\n",
       "    </tr>\n",
       "    <tr>\n",
       "      <th>10344</th>\n",
       "      <td>Calvin Klein Women's Seductive Comfort Lift St...</td>\n",
       "      <td>This strapless multiway bra features seamless ...</td>\n",
       "    </tr>\n",
       "  </tbody>\n",
       "</table>\n",
       "</div>"
      ],
      "text/plain": [
       "                                             product_name  \\\n",
       "365298      PINK NEW! Ultimate Push-Up Strappy Sports Bra   \n",
       "167801    Victoria Sport Incredible by Victoria Sport Bra   \n",
       "363032                    Very Sexy Satin & Lace Babydoll   \n",
       "331794  The Bralette Collection NEW! Scalloped Triangl...   \n",
       "10344   Calvin Klein Women's Seductive Comfort Lift St...   \n",
       "\n",
       "                                              description  \n",
       "365298  Work it! This longline bralette features a str...  \n",
       "167801  Tackle high-intensity workouts in a truly Incr...  \n",
       "363032  This satin babydoll is anything but shy, with ...  \n",
       "331794  Sleek and smooth: this raw-cut bralette, in a ...  \n",
       "10344   This strapless multiway bra features seamless ...  "
      ]
     },
     "execution_count": 3,
     "metadata": {},
     "output_type": "execute_result"
    }
   ],
   "source": [
    "dataFrame = dataFrame[['product_name', 'description']]\n",
    "dataFrame = dataFrame[pd.notnull(dataFrame['description'])]\n",
    "dataFrame.sample(5)"
   ]
  },
  {
   "cell_type": "code",
   "execution_count": 4,
   "metadata": {},
   "outputs": [
    {
     "data": {
      "text/plain": [
       "(613143, 2)"
      ]
     },
     "execution_count": 4,
     "metadata": {},
     "output_type": "execute_result"
    }
   ],
   "source": [
    "dataFrame.shape"
   ]
  },
  {
   "cell_type": "code",
   "execution_count": 5,
   "metadata": {},
   "outputs": [
    {
     "data": {
      "text/plain": [
       "product_name    0\n",
       "description     0\n",
       "dtype: int64"
      ]
     },
     "execution_count": 5,
     "metadata": {},
     "output_type": "execute_result"
    }
   ],
   "source": [
    "dataFrame.isnull().sum()"
   ]
  },
  {
   "cell_type": "markdown",
   "metadata": {},
   "source": [
    "#### Catatan:\n",
    "Karena jumlah data sangat besar, kita hanya memakai 10.000 data yang akan dipilih secara random"
   ]
  },
  {
   "cell_type": "code",
   "execution_count": 6,
   "metadata": {},
   "outputs": [
    {
     "data": {
      "text/html": [
       "<div>\n",
       "<style scoped>\n",
       "    .dataframe tbody tr th:only-of-type {\n",
       "        vertical-align: middle;\n",
       "    }\n",
       "\n",
       "    .dataframe tbody tr th {\n",
       "        vertical-align: top;\n",
       "    }\n",
       "\n",
       "    .dataframe thead th {\n",
       "        text-align: right;\n",
       "    }\n",
       "</style>\n",
       "<table border=\"1\" class=\"dataframe\">\n",
       "  <thead>\n",
       "    <tr style=\"text-align: right;\">\n",
       "      <th></th>\n",
       "      <th>product_name</th>\n",
       "      <th>description</th>\n",
       "    </tr>\n",
       "  </thead>\n",
       "  <tbody>\n",
       "    <tr>\n",
       "      <th>296409</th>\n",
       "      <td>Victoria Sport NEW! Incredible by Victoria Spo...</td>\n",
       "      <td>Tackle high-intensity workouts in a truly Incr...</td>\n",
       "    </tr>\n",
       "    <tr>\n",
       "      <th>16884</th>\n",
       "      <td>Perfectly Fit Memory Touch Push-Up Bra QF1120</td>\n",
       "      <td>Lightweight, natural support gets the classic,...</td>\n",
       "    </tr>\n",
       "    <tr>\n",
       "      <th>2632</th>\n",
       "      <td>b.tempt'd Lace Kiss Thong</td>\n",
       "      <td>This is a wearable way to WOW in any situation...</td>\n",
       "    </tr>\n",
       "    <tr>\n",
       "      <th>366785</th>\n",
       "      <td>Victoria Sport Lightweight by Victoria Sport Bra</td>\n",
       "      <td>Our #1 sport bra for a reason: with a supersof...</td>\n",
       "    </tr>\n",
       "    <tr>\n",
       "      <th>396428</th>\n",
       "      <td>The Bralette Collection Lace Racerback Bralette</td>\n",
       "      <td>Upgrade your everyday with pretty scalloped la...</td>\n",
       "    </tr>\n",
       "    <tr>\n",
       "      <th>6937</th>\n",
       "      <td>Aerie Boho Racerback Bralette</td>\n",
       "      <td>Peace, love and lace. Wear often. Feel good! s...</td>\n",
       "    </tr>\n",
       "    <tr>\n",
       "      <th>330567</th>\n",
       "      <td>Sexy Tee Demi Bra</td>\n",
       "      <td>Sleek and lightweight, this low-cut demi is de...</td>\n",
       "    </tr>\n",
       "    <tr>\n",
       "      <th>7834</th>\n",
       "      <td>Calvin Klein Women's Perfectly Fit Lightly Lin...</td>\n",
       "      <td>This full coverage bra features lightly lined ...</td>\n",
       "    </tr>\n",
       "    <tr>\n",
       "      <th>36224</th>\n",
       "      <td>Logo Bikini F3787</td>\n",
       "      <td>You'll want this classic style in your collect...</td>\n",
       "    </tr>\n",
       "    <tr>\n",
       "      <th>27532</th>\n",
       "      <td>Calvin Klein Women's 5 Pack Cotton Stretch Log...</td>\n",
       "      <td>This essential, bikini 5-pack features 5 pairs...</td>\n",
       "    </tr>\n",
       "  </tbody>\n",
       "</table>\n",
       "</div>"
      ],
      "text/plain": [
       "                                             product_name  \\\n",
       "296409  Victoria Sport NEW! Incredible by Victoria Spo...   \n",
       "16884       Perfectly Fit Memory Touch Push-Up Bra QF1120   \n",
       "2632                            b.tempt'd Lace Kiss Thong   \n",
       "366785   Victoria Sport Lightweight by Victoria Sport Bra   \n",
       "396428    The Bralette Collection Lace Racerback Bralette   \n",
       "6937                        Aerie Boho Racerback Bralette   \n",
       "330567                                  Sexy Tee Demi Bra   \n",
       "7834    Calvin Klein Women's Perfectly Fit Lightly Lin...   \n",
       "36224                                   Logo Bikini F3787   \n",
       "27532   Calvin Klein Women's 5 Pack Cotton Stretch Log...   \n",
       "\n",
       "                                              description  \n",
       "296409  Tackle high-intensity workouts in a truly Incr...  \n",
       "16884   Lightweight, natural support gets the classic,...  \n",
       "2632    This is a wearable way to WOW in any situation...  \n",
       "366785  Our #1 sport bra for a reason: with a supersof...  \n",
       "396428  Upgrade your everyday with pretty scalloped la...  \n",
       "6937    Peace, love and lace. Wear often. Feel good! s...  \n",
       "330567  Sleek and lightweight, this low-cut demi is de...  \n",
       "7834    This full coverage bra features lightly lined ...  \n",
       "36224   You'll want this classic style in your collect...  \n",
       "27532   This essential, bikini 5-pack features 5 pairs...  "
      ]
     },
     "execution_count": 6,
     "metadata": {},
     "output_type": "execute_result"
    }
   ],
   "source": [
    "df = dataFrame.sample(n=10000, random_state=42)\n",
    "df.sample(10)"
   ]
  },
  {
   "cell_type": "code",
   "execution_count": 7,
   "metadata": {},
   "outputs": [
    {
     "data": {
      "text/plain": [
       "(10000, 2)"
      ]
     },
     "execution_count": 7,
     "metadata": {},
     "output_type": "execute_result"
    }
   ],
   "source": [
    "df.shape"
   ]
  },
  {
   "cell_type": "code",
   "execution_count": 8,
   "metadata": {},
   "outputs": [
    {
     "data": {
      "text/plain": [
       "564187"
      ]
     },
     "execution_count": 8,
     "metadata": {},
     "output_type": "execute_result"
    }
   ],
   "source": [
    "df.index = range(10000)\n",
    "df['description'].apply(lambda x: len(x.split(' '))).sum()"
   ]
  },
  {
   "cell_type": "code",
   "execution_count": 9,
   "metadata": {},
   "outputs": [],
   "source": [
    "from bs4 import BeautifulSoup\n",
    "def cleanText(text):\n",
    "    text = BeautifulSoup(text, \"lxml\").text\n",
    "    text = re.sub(r'\\|\\|\\|', r' ', text)\n",
    "    text = re.sub(r'http\\S+', r'<URL>', text)\n",
    "    text = text.lower()\n",
    "    text = text.replace('x', '')\n",
    "    return text\n",
    "df['description'] = df['description'].apply(cleanText)"
   ]
  },
  {
   "cell_type": "code",
   "execution_count": 10,
   "metadata": {},
   "outputs": [
    {
     "name": "stdout",
     "output_type": "stream",
     "text": [
      "Description:\n",
      " our #1 push-up is seier than ever with plush, even softer padding for the lift and cleavage you love and a more natural feel, plus edges that disappear under clothes.lift & lining push-up padding adds 1 cup size underwire cupsstraps & hooks fully adjustable straps back closure double row of hook-and-eye closures 4 settings to ensure a perfect fit can be worn classic or crossbackdetails & fabric supersmooth neckline disappears under clothes cutouts between cups vs charm on side of cup imported nylon/spande \n",
      "\n",
      " product_name: Very Sexy Push-Up Bra\n"
     ]
    }
   ],
   "source": [
    "def print_description(index):\n",
    "    example = df[df.index == index][['description', 'product_name']].values[0]\n",
    "    if len(example) > 0:\n",
    "        print('Description:\\n', example[0])\n",
    "        print('\\n product_name:', example[1])\n",
    "        \n",
    "print_description(12)"
   ]
  },
  {
   "cell_type": "code",
   "execution_count": 11,
   "metadata": {},
   "outputs": [
    {
     "name": "stdout",
     "output_type": "stream",
     "text": [
      "Description:\n",
      " pretty lace makes the silky-soft cotton panty you love all the more feminine, in colors and prints to brighten your lingerie drawer. lace trim low rise moderate back coverage: shows a little, but not all machine wash imported cotton/nylon/spande\n",
      "\n",
      " product_name: Cotton Lingerie NEW! Lace-waist String Bikini Panty\n"
     ]
    }
   ],
   "source": [
    "print_description(20)"
   ]
  },
  {
   "cell_type": "markdown",
   "metadata": {},
   "source": [
    "## 3. Features Extraction"
   ]
  },
  {
   "cell_type": "code",
   "execution_count": 12,
   "metadata": {},
   "outputs": [],
   "source": [
    "train, test = train_test_split(df, test_size=0.3, random_state=42)\n",
    "import nltk\n",
    "def tokenize_text(text):\n",
    "    tokens = []\n",
    "    for sent in nltk.sent_tokenize(text):\n",
    "        for word in nltk.word_tokenize(sent):\n",
    "            if len(word) < 2:\n",
    "                continue\n",
    "            tokens.append(word.lower())\n",
    "    return tokens\n",
    "train_tagged = train.apply(\n",
    "    lambda r: TaggedDocument(words=tokenize_text(r['description']), tags=[r.product_name]), axis=1)\n",
    "test_tagged = test.apply(\n",
    "    lambda r: TaggedDocument(words=tokenize_text(r['description']), tags=[r.product_name]), axis=1)"
   ]
  },
  {
   "cell_type": "code",
   "execution_count": 13,
   "metadata": {},
   "outputs": [
    {
     "data": {
      "text/plain": [
       "TaggedDocument(words=['an', 'everyday', 'bra', 'that', 'essential', 'for', 'every', 'bra', 'wardrobe', 'convertible', 'straps', 'make', 'it', 'perfect', 'for', 'wearing', 'with', 'any', 'tank', 'or', 't-shirt', 'lightly', 'lined', 'for', 'subtle', 'lift', 'underwire', 'cups', 'light', 'push', 'fully', 'adjustable', 'straps', 'can', 'convert', 'to', 'crossback', 'and', 'snap', 'into', 'place', 'for', 'secure', 'hold', 'back', 'closure', 'hook', 'and', 'eye', 'closure', 'imported', 'polyamide/spande'], tags=['PINK NEW! Wear Everywhere T-Shirt Bra'])"
      ]
     },
     "execution_count": 13,
     "metadata": {},
     "output_type": "execute_result"
    }
   ],
   "source": [
    "train_tagged.values[30]"
   ]
  },
  {
   "cell_type": "code",
   "execution_count": 14,
   "metadata": {},
   "outputs": [],
   "source": [
    "import multiprocessing\n",
    "cores = multiprocessing.cpu_count()"
   ]
  },
  {
   "cell_type": "code",
   "execution_count": 15,
   "metadata": {},
   "outputs": [
    {
     "name": "stderr",
     "output_type": "stream",
     "text": [
      "100%|██████████████████████████████████████████████████████████████████████████████████████| 7000/7000 [00:00<?, ?it/s]\n"
     ]
    }
   ],
   "source": [
    "model = Doc2Vec(dm=0, vector_size=300, negative=5, hs=0, min_count=2, sample = 0, workers=cores)\n",
    "model.build_vocab([x for x in tqdm(train_tagged.values)])"
   ]
  },
  {
   "cell_type": "code",
   "execution_count": 16,
   "metadata": {},
   "outputs": [
    {
     "data": {
      "text/plain": [
       "1297"
      ]
     },
     "execution_count": 16,
     "metadata": {},
     "output_type": "execute_result"
    }
   ],
   "source": [
    "len(model.docvecs)"
   ]
  },
  {
   "cell_type": "code",
   "execution_count": 17,
   "metadata": {},
   "outputs": [
    {
     "data": {
      "text/plain": [
       "dict_keys(['our', 'sport', 'bra', 'for', 'reason', 'with', 'supersoft', 'elastic', 'band', 'and', 'wireless', 'cups', 'that', 'breathe', 'easy', 'this', 'medium-support', 'favorite', 'is', 'ready', 'to', 'bike', 'bo', 'train', 'hard', 'details', 'medium', 'support', 'unstructured', 'design', 'adjustable', 'straps', 'no', 'clasps', 'or', 'hooks', 'strappy', 'back', 'performance', 'fabric', 'perfect', 'spinning', 'kickboing', 'circuit', 'training', 'super-soft', 'comfort', 'movement', 'lightweight', 'breathable', 'body-wick', 'keeps', 'you', 'cool', 'dry', 'machine', 'wash.', 'tumble', 'imported', 'polyamide/spande', 'best', 'selling', 'convertible', 'push-up', 'available', 'in', 'basic', 'colors', 'new', 'fashion', 'color', 'no-show', 'fit—even', 'under', 'your', 'tightest', 'clothes', 'barely-there', 'thong', 'features', 'sporty', 'logo', 'waist', 'soft', 'cotton', 'only', 'by', 'victoria', 'secret', 'pink', 'iconic', 'waistband', 'etra', 'low', 'rise', 'cotton/elastane/polyamide/polyester', 'without', 'the', 'wires', 'lightly', 'lined', 'conforms', 'curves', 'lift', 'lining', 'boning', 'at', 'side', 'wing', 'scoop', 'neckline', 'enhance', 'natural', 'curve', 'minimal', 'fully', 'j-hook', 'cross-back', 'option', 'single', 'bulk-free', 'hook', 'eye', 'closure', 'settings', 'adjustability', 'double', 'closures', 'sizes', '36c-dd', '38b-dd', 'no-slip', 'invisible', 'all-day', 'hold', 'small', 'vs', 'tag', 'on', 'inside', 'of', 'nylon/spande', 'seier', 'than', 'ever', 'plush', 'even', 'softer', 'padding', 'cleavage', 'love', 'more', 'feel', 'plus', 'edges', 'disappear', 'adds', 'cup', 'size', 'underwire', 'front', 'classic', 'row', 'hook-and-eye', 'ensure', 'fit', 'all', 'need', 'little', 'lace', 'here', 'cutest', 'shape', 'scalloped', 'hem', 'slight', 'v-neck', 'sheer', 'unlined', 'v-back', '32', \"''\", 'from', 'shoulder', 'hits', 'thigh', 'season', \"'s\", '``', 'it', 'piece', 'comfy', 'essential', 'hipster', 'binding', 'an', 'detail', 'panel', 'cotton/elastane/polyamide', 'girl', 'go-to', 'featuring', 'super', 'smooth', 't-back', 'sporting', 'racerback', 'tanks', 'tops', 'most', 'push', 'pad', 'structured', 'panty', 'things', 'simple', 'ck', 'everyday', 'fave', 'comfortable', 'straps\\xad–wear', 'crossback', 'peek', 'pleasure', 'sultry', 'babydoll', 'why', 'buy', 'world', 'seiest', 'boho', 'babe', 'beautiful', 'crochet', 'sides', 'contrast', 'piping', 'every', 'wardrobe', 'make', 'wearing', 'any', 'tank', 't-shirt', 'subtle', 'light', 'can', 'convert', 'snap', 'into', 'place', 'secure', 'ca', \"n't\", 'go', 'wrong', 'hanky', 'panky', 'signature', 'retro', 'has', 'high-waist', 'designed', 'etra-generous', 'tummy', 'appear', 'slimmer', 'fits', '0-12.', 'style', '9k1926', 'seamless', 'raw-cut', 'totally', 'collection', 'show', 'through', 'popular', 'top', 'great', 'layering', 'its', 'own', 'modern', 'demi', 'contrasting', 'ma', 'yet', 'padded', 'deep', 'plunging', 'bump', 'create', 'straps—wear', 'click', 'zip', 'patented', 'bra-within-a-bra', 'technology', 'offers', 'maimum', 'reveals', 'clip', 'together', 'off…and', 'bounce', 'within', 'layer', 'provides', 'concealed', 'wire', 'cushioned', 'wicking', 'liner', 'keep', 'running', 'boing', 'cardio', 'gift', 'special', 'day', 'beauty', 'mesh', 'appliqué', 'flowers', 'flirty', 'cutout', 'floral', 'hand', 'wash', 'polyester/nylon/spande', 'wear', 'solo', 'rock', 'tank—this', 'wildflower', 'cute', 'matter', 'what', 'way', 'pull', 'high', 'neck', 'up', 'bralette', 'fleible', 'provide', 'moves', 'additional', '36d-38dd', 'game-changer', 'maimum-support', 'meets', 'zip-front', 'off', 'stay-cool', 'bonded', 'eliminates', 'irritation', 'locking', 'hook-', '-eye', 'body', 'nylon/lycra®spande', 'polyester/spande', 'goes', 'long', 'eyelash', 'gives', 'boost', 'thanks', 'hidden', 'sling', 'innovative', 'be', 'worn', 'allover', 'bows', 'nylon/spande/metallic', 'threads', 'nylon/elastane', 'now', 'see', 'it––now', 'do', 'panties', 'are', 'as', 'stylish', 'they', 'must-have', 'no-more-lines', '3-pack', 'calvin', 'klein', 'left', 'camisole', 'made', '1390l', 'molded', 'two-ply', 'inner', 'tackle', 'high-intensity', 'workouts', 'truly', 'incredible', 'wick', 'large', 'keyhole', 'solids/prints-', 'nylon', 'spande', 'insets', 'polyamide/elastane', 'marl-', 'polyester/elastane', 'heavenly', 'memory', 'lots', 'stretchier', 'smoothing', 'u-shaped', '36-38dd', 'have', 'triple', 'plunge', 'ballet', 'prevents', 'riding', 'styling', 'chic', 'addition', 'supremely', 'bikini', 'fullest', 'coverage', 'meet', 'lighter', 'full', '34ddd', '36dd-36ddd', '38-40d-ddd', '40c', 'double-lined', 'smoothest', 'jersey', 'underwear', 'styled', 'double-layered', 'amazing', 'disappears', 'curve-hugging', 'styles', 'etreme', 'night', 'infinity', 'edge', 'look', 'red', 'carpet', 'figure', 'strapless', 'supportive', 'stays', 'beyond', 'stunning', 'long-line', 'shaped', 'cut', 'reveal', 'microfiber', 'pullover', 'silky-soft', 'stretchy', 'makes', 'cheeky', 'naturally', 'while', 'sey', 'pretty', 'prints', 'undies', 'lingerie', 'drawer', 'anything', 'but', 'ordinary', 'trim', 'lays', 'flat', 'cotton/nylon/spande', 'pure', 'silhouette', 'tees', 'flwr', 'pwr', 'swirls', 'feminine', 'grl', 'feels', '4447-2326', '412', 'cozy', 'give', 'open', '97', 'elastane', 'read', 'less', 'elegance', 'pearls', 'like', 'magic', 'unbelievably', 'sleek', 'line', 'etra-wide', 'stretch-lace', 'appeal', 'bohemian', 'gorgeous', 'ruffles', 'lace.lift', 'removable', 'flounce', 'nylon/polyester/spande', 'bottom', 'fun', 'ruched', 'mi', 'match', 'suits—swimwear', 'bolder', 'better', 'gets', 'treatment', 'logo-print', 'print', 'mid', 'moderate', 'cotton/spande', 'supersmooth', 'elastic-free', 'laser-cut', 'hiphugger', 'cuts', 'sleekest', 'sunnie', 'real', 'soft®', 'bras', '9792-3487', '073', '360', 'degree', 'stretch', 'if', 'loved', 'sofie', 'jennifer', \"'ll\", 'adore', '64', '36', 'crisscrossing', 'add', 'sophistication', 'lacy', 'black', 'endless', 'date', 'cotton/spande/nylon', 'just', 'cheek', 'perfection', 'beautifully', 'applique', 'cutouts', 'between', 'charm', 'hint', 'drama', 'nighttime', 'glamour', 'slip', 'silky', 'wrap', 'wide', 'sleeves', 'short', 'pockets', 'mid-thigh', 'length', 'tie', 'polyester', 'clothes.lift', 'cupsstraps', 'crossbackdetails', 'lounging', 'halter', 'strap', 'scoopneck', 'two', 'ways', 'one', 'watch', 'lovely', 'sets', 'play', 'peek-a-boo', 'racy', 'leopard', 'nouveau', 'daisy', 'everything', 'perfectly', 'contoured', 'versatile', 'lower', 'revealing', 'necklines', 'choices', 'foam', '38d-38ddd', 'satin', 'flawless', 'promise', 'late-night', 'pulls', '39', 'below', 'knee', 'polyester/nylon', 'upgrade', 'effortless', 'over', 'wearability', 'hello', 'happy', 'happiness', 'feeling', 'welcome', '2792-7888', 'out', 'interior', 'cage', 'stay', '91', 'curvestraps', '38b-dddetails', 'so', 'ultra', 'won', 'cycling', '4-way', 'tee', 'back—all', 'front-close', 'partially', 'back-close', 'solids', 'marl', 'sweet', 'cross', 'boyshort', 'total', 'palm', 'combines', 'flattering', 'original', 'underneath', 'when', 'want', 'show-through', 'swan', 'bust', 'tip', 'fronts', 'backs', 'ultimate', 'lift-loving', 'fullness', 'crisscross', 'start', 'low-cut', 'embossed', 'bandeau', 'overlay', 'nylons/spande/polyester', 'touch', 'raceback', 'yoga', 'terry', 'crew', 'thumbholes', 'split', 'detailing', 'relaed', 'high-low', 'cotton/polyester/viscose', \"'re\", 'sure', 'best-selling', 'showing', '•lightly', '•underwire', '•front', '•front-close', '•back-close', '32dd', '34d-34dd', '36c-36dd', '38b-38dd', '•infinity', '•imported', 'back—this', 'not', 'bow', 'wo', 'covered', 'nylon/spande/polyester', '24/7', 'high-neck', 'll', 'live', 'peace', 'bralettes', 'we', 'did', 'them', 'first', \"'em\", 'their', '4447-7522', '331', 'right', 'amount', 'let', 'colorful', '93', 'pairs', 'uplift', '38ddd', 'nylon/polyester', '•full', '36dd', '38-40d-dd', 'high-cut', 'b-smooth', 'wacoal', 'brief', '834175', 'ultra-comfy', 'better-than-ever', 'finishing', 'legs', 'oh-so', '604', 'going', 'crop', 'pair', 'wide-neck', 'perk', '4447-2160', '410', 'romantic', 'longline', 'fringe', '92', 'prettiest', 'frames', 'non-padded', 'logo-branded', 'serious', 'memorizes', '1½', 'foam-encased', 'shine', 'finish', 'matte', 'get', 'trend', 'macramé', 'bottoms', 'customize', 'built', 'pants', 'party', 'gettin', 'stringy', 'it…', '5441-4301', '184', 'call', 'favorites', 'say', '95', 'dare', 'bare', 'bold', 'finished', 'laces', 'lace-up', 'nylon/spande/cotton', 'crafted', 'all-over', 'qf1205', \"'ve\", 'been', 'looking', 'visual', 'effects', 'minimizer', '857210', '5777-6103', '669', 'aerie', 'got', '88', '12', 'how', 'lace—we', 're', 'crushin', 'prettier', '5772-6106', '85', '15', 'bodysuede', 'full-coverage', '89371', 'simply', 'many', 'delicate', 'picot', 'cotton/lycra®', 'summer', 'v-wire', 'hides', 'lowest', 'awareness', 'jacquard', 'lily', 'woman', 'boy', 'control', '|wacoal', 'looks', 'center', 'brings', 'blue', 'big', 'g-string', 'undetectable', 'rear', 'vibe', 'elegant', 'halo', 'cross-dye', 'fully-adjustable', 'adjustment', '851205', 'microdenier', 'include', 'shaping', 'relieve', 'strain', 'ivory', 'french', 'nude', '34-40', 'dd', 'ddd', '32-40', '|bodysuede', 'five', 'plenty', 'options—in', '32c-', '32d', '34a-', '34c', '36a-', '36b', '32dd-32ddd', '36c-', '36d', '38b-38c', 'rows', 'one-strap', 'accents', 'vikini', 'v-shaped', '482374', 'angels', 'who', 'options', 'multi-way', '36-38dd-ddd', 'hot', 'customized', 'ties', '6443-5402', '092', '40dd', '40ddd', 'vanity', 'fair', 'variety', 'ideal', 'outfit', '75339', 'leave', 'breathless', 'takes', 'fabrics', 'treat', 'yourself', 'something', 'ciao', 'bella', 'b.tempt', \"'d\", 'triangle', 'security', 'workout', 'high-drive', 'sports', 'wings', 'sophisticated', 'pick', 'kiss', 'hugs', 'digging', '970182', 'life', 'aeriereal', 'time', 'too', '2792-7896', '678', 'take', 'often', 'good', '4447-2325', '125', '90', '10', 'push.•most', 'push•super', 'cups•racerback', 'straps•structured', 'cups•hook-and-eye', 'closure•imported', 'goals', 'strong', 'minimum', 'pilates', 'weight', 'anti-microbial', 'pull-on', 'white', 'oh', 'street', 'optional', 'low-impact', 'during', 'activity', 'inset', 'major', 'points', 'embrace', 'matches', 'coordinating', 'pieces', '|embrace', 'dreams', 'balconette', 'corded', 'dramatic', 'scallop', 'logos', 'tons', 'push—this', 'dreamy', 'fit.lift', '36-40dd-ddd', 'fitdetails', 'hide', 'added', 'inserted', 'underbust', 'care', 'origin', 'icon', 'air', 'gel', 'desire', 'versatility', 'f3647', 'hotter', 'teddy', 'down-to-there', 'contour', 'seams', 'naked', 'luurious', 'effortlessly', 'glamorous', 'comfier', 'nylon/polyester/elastane', 'unique', 'feature', 'each', 'creates', 'come', 'package', '4793-7762', '536', 'so-soft', 'two-way', 'mold', 'etended', 'smooths', 'twist', 'runs', 'down', '14-24.', 'bbv', 'nylon/lycra®', 'bride', '--', 'count', 'status', 'bearing', 'sparkly', 'cursive', 'pro-support', 'anti-smash', 'teams', 'striped', 'net-best', 'thing', 'eclusive', 'bag', 'was', 'protect', 'precious', 'treasures', 'washing', 'gentle', 'cycle', 'cold', 'water', 'princess', 'lady', 'catherine', 'cheekster', 'audrey', 'there', 'nothing', '0796-7214', '153', 'stay-secure', 'rubber-lined', 'cross-strap', '73', '27', 'strap.push', 'linedstraps', 'closuredetails', 'all-around', 'flirt.lift', '38d-38dd', 'doesn', 'shy', 'away', 'being', 'core', 'these', 'boyshorts', 'ultra-comfortable', 'mini', '2791-7747', 'heathered', 'effect', '51', 'captivating', 'work', 'required', 'studio-to-street', '•u-shaped', '•stretchy', 'spacer', 'appearance', 'bring', '9k2124', 'standout', 'ultra-soft', 'neon', 'banding', 'chemise', 'will', 'mesh-lined', 'barely', 'celebrate', 'loves', 'listen', 'heart', 'leg', 'openings', 'braided', 'studio', 'braid', 'metallic', 'polyester/polyamide/elastane', 'flirt', 'those', 't-shirts', 'pads', 'topped', 'shimmering', 'contouring', 'frame', 'around', 'us', 'true', '2¼', 'inseam', 'shortie', 'update', 'on-trend', 'shows', 'skin', 'longer', '1694-2447', '461', '84', '16', '|t-shirt', 'fabrication', 'edging', 'repeating', 'bare®', 'includes', 'included', '835275', 'completely', 'second-skin', 'telltale', 'lines', 'diamond', 'cross-dyed', 'dynamically', 'combine', 'b.inspired', 'seriously', 'marled', 'virtually', 'beneath', 'back-smoothing', 'eliminate', 'bulges', '853192', 'about', 'flutter', 'sleeve', 'wicks', 'moisture', 'flyaway', 'matching', 'v-string', '28', 'polyester/polyamide', 'net-level', 'daring', 'garter', 'attach', 'etra-cushioned', 'plus-size', 'midsection', 'tricks', 'tummies', 'svelte', 'dainty', 'wrap-style', '36dd-38ddd', 'criss-cross', 'illumination', 'full-figure', 'tonal', 'satin-like', '76338', '52', 'offer', '|basic', 'fuller', 'figures', 'eactly', 'where', '854119', 'inserts', 'accent', 'chantilly', 'superior', '|beautiful', 'quick', 'backless', 'adhesive', '25', 'times', 'complete', 'instructions', 'silicone', '30', 'simplicity', 'ignore', 'switch', 'conventional', 'eclusively', 'ours', 'three', 'thongs', 'tied', 'shape—this', 'bustier', 'bad', 'curved', 'body-loving', 'embellished', 'equisitely', 'high-waisted', 'cheekini', 'mesh…just', 'try', 'resist', 'refined', 'embroidery', 'flower', 'polyamide/polyester/elastane', 'impact', 'l/l', 'young', 'pattern', 'narrow', 'elasticized', 'wisp', 'cotton/elastane', 'contender', 'gym', 'premium', 'activities', 'lasts', 'her', 'stem', 'roses', 'tissue', 'packet', 'intricate', 'irresistible', 'angle', 'curve-creating', 'dramatically', 'ultrasmooth', 'clingy', 'knits', 'front-clasp', 'sends', 'signals', 'swoon-worthy', 'patterns', 'enjoy', '5444-5448', '933', 'forms', 'definitely', 'set', 'knickers', 'feline', 'sides—it', 'overlays', 'enchanting', 'opening', 'laced', '4447-7623', 'v-front', 'festive', 'button', 'silhouettes', 'airy', 'adored', 'lock', 'amp', 'game', 'support.details', '2792-7829', 'bit', 'succulent', 'micro', 'holiday', 'spirit', 'lace-trim', 'cotton/polyamide/elastane', 'contours', 'curing', 'concern', 'shifting', 'maintaining', 'clothing', 'knit', 'italy', 'ultra-lightweight', 'disappearing', 'clingiest', 'fashions', 'sacrificing', 'quality', '4812', 'joins', '33', '4447-2142', '642', 'illusions', 'comes', 'array', 'visible', '4911', 'updated', 'shimmer', 'ribbon', '13109', 'attitude', 'wild', 'seduction', 'one-of-a-kind', 'equisite', 'ultra-heated', 'moments', 'after', 'dark', 'number', '1773-5901', '72', 'half', 'still', 'flowery', 'invisibles', 'qf1184', '34', 'island', 'hopping', 'thin', 'turn', 'heads', 'wow-worthy', 'one-piece', 'georgette', 'pleats', 'shiny', 'empire', 'whimsy', 'eceptionally', 'swimsuit', 'showoff', 'leg-lengthening', 'places.lift', 'embroidered', 'tulle', 'version', '2792-2300', '645', 'rockin', 'wonder', 'back.lift', 'discover', 'enough', 'sheer-lace', 'highly', 'seductive', 'brazilian-cut', 'pineapple', 'crystals', 'sparkle', 'pairing', 'packed', 'wedding', 'essentials', 'most-loved', 'playful', 'dotted', '22¼', 'hip', 'confidence', 'introducing', 'loves™', 'whole', 'lot', 'wow', '5776-5974', 'such', 'off-the-shoulder', 'shape.lift', 'fresh', 'tanga', 'fashioned', 'framed', 'coolma', 'removes', 'keeping', '853209', 'string', 'shirt', '|great', 'masters', 'art', 'renowned', 'packaged', 'adorable', 'roll', 'heather', '496', '2790-7598', 'stunner', 'clean', '6734-4566', 'pushup', 'level', 'perkier', 'harper', 'ella', 'jacklyn', 'emma', 'cream', 'mied', 'polyamide', '5779-6110', 'must', 'indulge', 'yours', 'ravissant', 'regular', '15712', 'crewneck', 'heavyweight', 'cotton/polyester', 'works', '100', 'trimmed', 'rainbow', 'prints–why', 'graphics', 'dropped', 'armholes', 'armhole', 'defines', 'snug', 'graces', 'beach', 'wrap-around', 'practical', 'bralet', 'modal', 'blend', 'branded', 'underband', '35', 'hawaii', 'chill', 'move.™', 'net', 'sweat', 'sesh', '0785-2319', '213', '*worry', 'free', 'zipper', 'falling', '89', '11', 'super-smooth', 'sensation', 'easiness', 'power', 'shapewear', 'banded', 'slim', 'ultra-smooth', '71380', '5777-6108', 'maternity', 'detailed', 'underpinnings', 'hydrophilic', 'filament', 'rayon', 'lycra®', 'resists', 'generating', 'static', 'compared', 'synthetic', 'fibers', '2792-2308', '1776-6107', '633', 'shaper', 'old', 'hollywood', 'details…this', 'kind', 'laid', 'days', 'f3785', 'mycalvins', '4447-2071', 'pack', 'heaven-sent', '6733-4352', 'cotton/nylon/polyester/spande', '666', 'some', 'begs', 'shown', '852215', 'strengthen', 'woven', 'cami', 'pocket', 'shoe', 'gusset', 'comfiest', 'ruching', 'cotton/elastane/nylon', 'three-section', 'seamed', 'evoke', 'midriff', 'inspire', 'vien', 'dress', 'kinds', 'alarms', 'brands', 'v-shape', 'topping', 'trims', 'briefs', 'y.a.s', 'shake', 'booty', '0442-4559', 'lingerie…', 'romance', 'foundation', '113', 'decorated', 'brand', 'f3787', 'etremely', 'well', '7441-5361', 'kick', 'gear', 'peekaboo', 'mind', 'bodysuede®', 'against', 'tailored', 'sweaters', 'offered', 'twice', 'find', '855192', 'slim-fit', 'skinny', 'jeans', 'raw', 'plunge-neck', 'converts', 'shoulder-baring', 't-strap', 'proves', '1775-5973', 'both', 'worlds', 'vintage-inspired', 'supports', 'shapes', 'comfortably', 'crystal', '855186', 'low-rise', 'product', 'crossover', 'knotted', 'straight', 'barre', 'brunch', '0785-2360', 'pop', 'fashionable', 'evening', 'right-now', '9793-7552', 'flatter', 'legging', 'quick-dry', 'sweat-wicking', 'after-dark', 'delight', 'entices', 'slit', 'accentuates', 'lace—a', 'few', 'rose', 'win', 'colorblock', '4447-2355', 'imagination', 'crotchless', '062', 'fully-lined', 'teeniest', 'much', 'heart-shaped', 'teal', 'geometric', '87', '13', '0692-2314', 'radiant', 'qd3539', '382', 'competitive', 'medium-impact', 'matchy', 'everywhere', 'matchback', '1772-6080', 'accented', 'one-shoulder', 'delicately', 'vintage', 'innerwear', 'offering', 'overall', 'festival', 'seen', 'shorts', 'belt', 'cropped', 'hoodie', 'raglan', 'lining•', 'padding•', 'hooks•', 'straps•', 'fabric•', 'front•', 't-back•', 'line•', 'shape•', 'tanlines', 'nah', 'bodysuit', 'heat', '401', 'duo', 'slits', 'lounge', 'scintillating', 'leaves', 'silky-smooth', 'asymmetric', 'sleeping', 'staying', 'late', 'across', '23', '1/4', '853281', 'newest', 'fantastic', '1774-6116', '56', '199', 'loops', '6734-4530', '133', '1694-2451', '76', '24', 'outfits', 'thick', 'eye-catching', 'rounded', 'reasons', 'instantly', 'never', 'looked', 'cooler', '0785-2341', 'hi-neck', '96', 'tagless', '130', 've', 'felt', 'before', '•details', '•supersoft', '•keyhole', 'select', 'seam-free', 'flaunt', 'scoopback', 'y-back', 'miing', 'fierce', 'leopard-print', '5774-6109', 'accentuate', 'hips', 'saucy', 'skimpier', 'organic', '5442-5400', '030', 'success', 'bright', 'trims\\xad—now', 'navy', '651', 'perkiness', '9731-2865', 'perky', 'double-layer', '32aa-38dd', 'hipsters', 'remi', 'words', 'rhinestones', '6511', 'supported', 'separated', '65115', 'repay', 'debt', 'gratitude', 'bridesmaid', 'ladies', 'ages', 'swoon', 'bedecked', 'spelling', 'all-there', '4811', 'active-inspired', 'in-between', 'very', 'lay', 'withstand', 'high-impact', 'motion', '855170', 'lue', 'scrolling', 'edge.lift', 'fabulously', 'does', 'free-spirited', 'brighten', 'minimum-support', 'name', 'everyone', 'hips®', 'taking', 'risks', 'keyholes', 'nylon/polyester/cotton', 'describes', 'figure-flattering', 'non-binding', 'modest', 'measurement', 'taken', 'inch', 'eotic', 'zebra', 'heat-seal', 'means', 'skinsense', '953144', 'b.adorable', 'cami-bralette', 'ultra-premium', 'supima®', 'organically-grown', 'usa', 'blended', 'soft-cup', 'smaller', 'updates', 'construction', 'started', 'boybrief', 'years', 'later', '4811f', 'wraps', 'helps', '397', 'hi-rise', 'granny', '1779-6296', 'higher', 'f3788', 'says', 'b.gorgeous', '910236', '808', 'luuriously', 'whoa', '6732-4660', 'adjust', '86', '14', 'youthful', '6443-4801', '328', 'seen.lift', 'slightly', 'typical', 'silhouettestraps', 'catch', 'peeking', 'dream', '33½', 'shirttail', 'novel', 'marble', 'draw', 'cover', 'could', 'incorporating', 'wearable', 'situation-', 'always', 'peek…and', 'b.sultry', 'logo-enhanced', 'completes', 'incredibly', 'collector', 'limited', 'edition', 'jar', 'opens', 'gifting', 'treating', 'flirtiest', 'charming', 'iron', 'strength', 'asking', 'casual', 'close', 'choose', 'bonds', 'side-to-side', 'ombre', 'linear', 'eyelet', 'galloon', 'plaque', '6443-5100', 'along', 'lettering', 'gold', '79', '21', 'sheerly', 'dares', 'closuresdetails', 'highlight', 'sunkissed', 'shoulders', 'neutral', 'hues', 'wink', '9793-7340', 'hi-cut', 'absolutely', 'nowhere', 'fishnet', 'four', 'retro-inspired', 'thong-back', 'functional', 'beautifier', '65191', 'plays', '9731-2666', 'scallop-edged', 'medical-grade', '437', 'illuminations', 'coordinates', 'metal', 'ring', 'designer', 'qd3540', '2792-2366', 'luscious', '841186', '700', 'lustrous', 'stretch-cotton', 'enhanced', 'nice', 'ruffle', '7/8', 'latest', 'collaboration', 'stripe', 'move', 'girls', 'others', 'namaste', 'layers', 'combined', 'know', 'everything-', 'including', 'slyly', 'sew', 'brazilian', 'channel', 'flouncy', 'festival-ready', 'jean', 'multiway', 'sensual', 'ultrasoft', 'weights', 't-back.details', 'antimicrobial', '1446-5971', '890', 'seductively', 'retro-vibe', 'high-rise', 'lends', 'velvet', 'attractive', 'marquisette', 'romances', 'full-cut', 'silk-soft', 'sueded', 'v-neckline', '0785-2365', '341', 'superb', 'forget', 'makeup', '0785-2367', '65', 'highlights', '6441-1499', 'notch', 'cooling', 'unleash', 'midnight', 'touches', 'viscose/polyester/spande/nylon', 'hide.lift', 'liftstraps', 'supportdetails', '¡amor', '4447-2322', 'guipure', 'unpadded', 'lacework', 'unforgettable', '389', 'all-lace', 'dual', 'ply', 'maid', 'honor', 'covers', 'impress', 'ultra-strappy', 'smoother', 'paired', 'brushed', 'foam-lined', 'smoothes', 'underarms', 'support.lift', 'darts', '1774-5447', 'limit', 'gently', 'caress', 'definition', 'wrapped', 'clear', 'cellophane', 'hang', 'attached', 'she', 'releases', 'pin', 'unfold', 'silk', 'lace-trimmed', 'quintessential', 'constructed', 'compression', '5442-5435', 'customized-lift', 'f2892', '6443-5448', 'proof', \"b.tempt'd\", \"b'wow\", 'super-low', '958287', 'spot', '910182', 'magical', 'act', 'd3428', 'minimizing', 'rigid', 'minimizes', 'bustline', 'women', '71', '29', 'spande/elastane', 'lining:100', '|full', 'assets', 'pillow', 'also', 'leotard', '853220', 'qd3538', 'eposed', 'v-kini', 'giving', '|body', 'softness', 'advantages', 'supple', 'prefer', 'convenience', 'necessary', 'armholes-', 'slipping', 'burnout', '22', 'angled', 'update—a', 'underpinning', 'put', '5775-5972', '1692-2259', 'day…comfy', 'o-so-cute', '...', '5441-5351', 'solid', 'polished', 'year', 'epitome', 'qf1197', 'dylan', 'candy', 'bar', 'ultrafine', '35¾', 'skimp', 'polyester/spande/nylon', 'bands', 'layered', 'striking', 'curve-loving', 'breathtaking', 'garters', 'coming', '76380', 'cotton.in', 'stitch-free', 'id', 'bestie', '3732-4656', 'charley', 'brooke', '62', 'patterning', 'rich', 'depth', 'personalized', 'f3837', 'cuter', 'loyalty', 'dot', 'co-ord', 'decidedly', 'nylon/cotton/spande', 'case', 'which', 'tease', 'semi', 'almost', 'one-', 'criss', 'captures', 'said', 'sentiment', 'forward', 'head', 'custom', 'whoever', 'whatever', 'please', 'minimalist', '4445-2306', 'edgy', 'brighter', '0785-2272', 'help', '67', '1692-2448', 'traced', 'wonderful', 'dances', 'cotton-blend', '0692-7618', 'half-adjustable', 'half-lace', 'encased', 'affair', 'keepin', '5778-6082', 'balconet', 'oversized', 'printed', 'clever', 'choice', 'breath', 'edged', '2792-2337', 'corset', 'infused', '953261', 'seamlessly', 'b.splendid', 'purple', 'posies', '046', 'stripes', 'splash', 'midline', 'proclaim', '7441-5328', 'fabulous', 'same', 'knew', 'mean', 'swarovski®', 'teensy', 'lorna', 'jane', 'nourish', 'believe', 'motivate', 'achieve', 'australia', '0762-1017', '628', 'lj', 'ecel', 'fabric™', 'moisture-wicking', 'shrink', 'fade', 'resistant', 'clasp', 'eligible', 'promotions', 'ships', 'canada', 'tiny', 'surprises', 'surround', 'long-sleeved', 'glance', 'lies', 'quite', '4447-2095', 'qd3546', '36c-38dd', 'boed', 'donkey', 'election', 'democrat', 'locks', 'flow', 'gorgeously', 'temptation', 'lover', '1¼', 'skirt', 'bringing', 'form', 'bared', 'draped', 'because', 'desired', '978171', 'square-neck', 'subtly', 'hotness', 'puts', 'ringer', 'details—features', '023', 'super-comfy', 'body-conscious', 'boys', 'ribbons', 'wacaol', '914261', 'panels', 'smoothly', 'tighter', 'all-out', 'spicier', '5442-5326', 'anchored', 'ride', 'head-turning', 'la', 'femme', '853117', 'strings', '0442-5117', '481281', 'pleated', 'dip-dyed', 'ombré', 'touched', 'teture', 'reinvents', 'starts', 'part', '853191', 'cutaway', 'crop-top', '7442-5401', 'frills', 'ruffled', 'chiffon', '5442-5444', 'seemingly', 'floats', '413', '5-pack', 'hottest', 'plum', 'newbie', 'workout…or', 'not—it', 'perf', 'low-medium', 'bottom-band', 'compressive', 'freedom', '6441-5336', '012', 'word', 'spelled', 'chest', 'hi-leg', '6447-5511', 'door', '4441-7167', 'reintroducing', 'diagonal', 'v-design', 'dkny', '8442-5403', 'd3429', 'above', 'usa-grown', 'cotton-spande', '417', 'itsy', 'bitsy', 'stylized'])"
      ]
     },
     "execution_count": 17,
     "metadata": {},
     "output_type": "execute_result"
    }
   ],
   "source": [
    "model.wv.vocab.keys()"
   ]
  },
  {
   "cell_type": "code",
   "execution_count": 18,
   "metadata": {},
   "outputs": [
    {
     "name": "stderr",
     "output_type": "stream",
     "text": [
      "C:\\Users\\Yolanda Nainggolan\\Anaconda3\\lib\\site-packages\\ipykernel_launcher.py:1: DeprecationWarning: Call to deprecated `most_similar` (Method will be removed in 4.0.0, use self.wv.most_similar() instead).\n",
      "  \"\"\"Entry point for launching an IPython kernel.\n"
     ]
    },
    {
     "data": {
      "text/plain": [
       "[('repay', 0.18559274077415466),\n",
       " ('midriff', 0.1787772923707962),\n",
       " ('flirty', 0.16629986464977264),\n",
       " ('synthetic', 0.16413606703281403),\n",
       " ('sweaters', 0.15486739575862885),\n",
       " ('so', 0.15115562081336975),\n",
       " ('simple', 0.1508401483297348),\n",
       " ('few', 0.1496153026819229),\n",
       " ('pearls', 0.14841711521148682),\n",
       " ('1½', 0.14837251603603363)]"
      ]
     },
     "execution_count": 18,
     "metadata": {},
     "output_type": "execute_result"
    }
   ],
   "source": [
    "model.most_similar('fabric')"
   ]
  },
  {
   "cell_type": "code",
   "execution_count": 19,
   "metadata": {},
   "outputs": [
    {
     "name": "stderr",
     "output_type": "stream",
     "text": [
      "100%|██████████████████████████████████████████████████████████████████████████| 7000/7000 [00:00<00:00, 497536.53it/s]\n",
      "100%|█████████████████████████████████████████████████████████████████████████| 7000/7000 [00:00<00:00, 1167725.73it/s]\n",
      "100%|██████████████████████████████████████████████████████████████████████████| 7000/7000 [00:00<00:00, 304657.29it/s]\n",
      "100%|██████████████████████████████████████████████████████████████████████████| 7000/7000 [00:00<00:00, 590082.16it/s]\n",
      "100%|█████████████████████████████████████████████████████████████████████████| 7000/7000 [00:00<00:00, 1000822.47it/s]\n",
      "100%|██████████████████████████████████████████████████████████████████████████| 7000/7000 [00:00<00:00, 741230.19it/s]\n",
      "100%|██████████████████████████████████████████████████████████████████████████| 7000/7000 [00:00<00:00, 554655.38it/s]\n",
      "100%|██████████████████████████████████████████████████████████████████████████| 7000/7000 [00:00<00:00, 289988.03it/s]\n",
      "100%|██████████████████████████████████████████████████████████████████████████| 7000/7000 [00:00<00:00, 550443.92it/s]\n",
      "100%|██████████████████████████████████████████████████████████████████████████| 7000/7000 [00:00<00:00, 389025.29it/s]\n",
      "100%|██████████████████████████████████████████████████████████████████████████| 7000/7000 [00:00<00:00, 331423.31it/s]\n",
      "100%|██████████████████████████████████████████████████████████████████████████| 7000/7000 [00:00<00:00, 355712.18it/s]\n",
      "100%|██████████████████████████████████████████████████████████████████████████| 7000/7000 [00:00<00:00, 348359.99it/s]\n",
      "100%|██████████████████████████████████████████████████████████████████████████| 7000/7000 [00:00<00:00, 778411.58it/s]\n",
      "100%|██████████████████████████████████████████████████████████████████████████| 7000/7000 [00:00<00:00, 559357.73it/s]\n",
      "100%|██████████████████████████████████████████████████████████████████████████| 7000/7000 [00:00<00:00, 506610.90it/s]\n",
      "100%|██████████████████████████████████████████████████████████████████████████| 7000/7000 [00:00<00:00, 871660.13it/s]\n",
      "100%|██████████████████████████████████████████████████████████████████████████| 7000/7000 [00:00<00:00, 406042.60it/s]\n",
      "100%|██████████████████████████████████████████████████████████████████████████| 7000/7000 [00:00<00:00, 450896.54it/s]\n",
      "100%|██████████████████████████████████████████████████████████████████████████| 7000/7000 [00:00<00:00, 590485.66it/s]\n",
      "100%|██████████████████████████████████████████████████████████████████████████| 7000/7000 [00:00<00:00, 429247.91it/s]\n",
      "100%|██████████████████████████████████████████████████████████████████████████| 7000/7000 [00:00<00:00, 571653.58it/s]\n",
      "100%|█████████████████████████████████████████████████████████████████████████| 7000/7000 [00:00<00:00, 1400702.64it/s]\n",
      "100%|██████████████████████████████████████████████████████████████████████████| 7000/7000 [00:00<00:00, 300218.09it/s]\n",
      "100%|██████████████████████████████████████████████████████████████████████████| 7000/7000 [00:00<00:00, 324088.26it/s]\n",
      "100%|██████████████████████████████████████████████████████████████████████████| 7000/7000 [00:00<00:00, 778473.50it/s]\n",
      "100%|██████████████████████████████████████████████████████████████████████████| 7000/7000 [00:00<00:00, 302762.88it/s]\n",
      "100%|██████████████████████████████████████████████████████████████████████████| 7000/7000 [00:00<00:00, 409948.87it/s]\n",
      "100%|██████████████████████████████████████████████████████████████████████████| 7000/7000 [00:00<00:00, 804497.27it/s]\n",
      "100%|██████████████████████████████████████████████████████████████████████████| 7000/7000 [00:00<00:00, 923274.47it/s]\n"
     ]
    },
    {
     "name": "stdout",
     "output_type": "stream",
     "text": [
      "Wall time: 26.6 s\n"
     ]
    }
   ],
   "source": [
    "%%time\n",
    "for epoch in range(30):\n",
    "    model.train(utils.shuffle([x for x in tqdm(train_tagged.values)]), total_examples=len(train_tagged.values), epochs=1)\n",
    "    model.alpha -= 0.002\n",
    "    model.min_alpha = model.alpha"
   ]
  },
  {
   "cell_type": "code",
   "execution_count": null,
   "metadata": {},
   "outputs": [],
   "source": [
    "model.save(\"model.doc2vec\")"
   ]
  },
  {
   "cell_type": "code",
   "execution_count": null,
   "metadata": {},
   "outputs": [],
   "source": [
    "model = gensim.models.Doc2Vec.load('model.doc2vec')  "
   ]
  },
  {
   "cell_type": "code",
   "execution_count": 23,
   "metadata": {},
   "outputs": [],
   "source": [
    "def vec_for_learning(model, tagged_docs):\n",
    "    sents = tagged_docs.values\n",
    "    targets, regressors = zip(*[(doc.tags[0], model.infer_vector(doc.words, steps=20)) for doc in sents])\n",
    "    return targets, regressors"
   ]
  },
  {
   "cell_type": "code",
   "execution_count": null,
   "metadata": {},
   "outputs": [
    {
     "name": "stderr",
     "output_type": "stream",
     "text": [
      "C:\\Users\\Yolanda Nainggolan\\Anaconda3\\lib\\site-packages\\sklearn\\linear_model\\logistic.py:432: FutureWarning: Default solver will be changed to 'lbfgs' in 0.22. Specify a solver to silence this warning.\n",
      "  FutureWarning)\n",
      "C:\\Users\\Yolanda Nainggolan\\Anaconda3\\lib\\site-packages\\sklearn\\linear_model\\logistic.py:469: FutureWarning: Default multi_class will be changed to 'auto' in 0.22. Specify the multi_class option to silence this warning.\n",
      "  \"this warning.\", FutureWarning)\n"
     ]
    }
   ],
   "source": [
    "y_train, X_train = vec_for_learning(model, train_tagged)\n",
    "y_test, X_test = vec_for_learning(model, test_tagged)\n",
    "logreg = LogisticRegression(n_jobs=1, C=1e5)\n",
    "logreg.fit(X_train, y_train)\n",
    "y_pred = logreg.predict(X_test)\n",
    "\n",
    "from sklearn.metrics import accuracy_score, f1_score\n",
    "print('Testing accuracy %s' % accuracy_score(y_test, y_pred))\n",
    "print('Testing F1 score: {}'.format(f1_score(y_test, y_pred, average='weighted')))"
   ]
  },
  {
   "cell_type": "markdown",
   "metadata": {},
   "source": [
    "## 4. Kalkulasi Kemiripan"
   ]
  },
  {
   "cell_type": "code",
   "execution_count": 20,
   "metadata": {},
   "outputs": [],
   "source": [
    "def matching(inputs):\n",
    "    new_sentence = inputs.split(\" \")\n",
    "    print(\"Berikut adalah 10 produk yang mirip\")\n",
    "    tag = model.docvecs.most_similar(positive=[model.infer_vector(new_sentence)],topn=10)\n",
    "    \n",
    "    return tag"
   ]
  },
  {
   "cell_type": "code",
   "execution_count": 21,
   "metadata": {},
   "outputs": [
    {
     "name": "stdout",
     "output_type": "stream",
     "text": [
      "Berikut adalah 10 produk yang mirip\n"
     ]
    },
    {
     "data": {
      "text/plain": [
       "[('Body by Victoria Cheekini Panty', 0.0846535861492157),\n",
       " ('Very Sexy Strappy Lace Cheeky Panty', 0.0774226114153862),\n",
       " ('Body by Victoria Thong Panty', 0.07572682201862335),\n",
       " ('Cotton Lingerie V-string Panty', 0.07400381565093994),\n",
       " ('PINK NEW! Super Soft Lace Trim Thong', 0.07398561388254166),\n",
       " ('Very Sexy Strappy Lace Thong Panty', 0.07314929366111755),\n",
       " ('PINK NEW! Wear Everywhere Logo Trim Hipster', 0.06827020645141602),\n",
       " ('PINK Super Soft Lace Trim Thong', 0.06763197481632233),\n",
       " ('Cotton Lingerie NEW! Lace-waist Thong Panty', 0.06280837953090668),\n",
       " ('Very Sexy NEW! Strappy Lace Thong Panty', 0.06242937222123146)]"
      ]
     },
     "execution_count": 21,
     "metadata": {},
     "output_type": "execute_result"
    }
   ],
   "source": [
    "matching(\"Dream Angels Lace Bustier\")"
   ]
  },
  {
   "cell_type": "code",
   "execution_count": 22,
   "metadata": {},
   "outputs": [
    {
     "name": "stdout",
     "output_type": "stream",
     "text": [
      "Berikut adalah 10 produk yang mirip\n"
     ]
    },
    {
     "data": {
      "text/plain": [
       "[('PINK NEW! Lace Back No-Show Cheekster', 0.9154719114303589),\n",
       " ('PINK NEW! Ultimate Lace-Up Plunge Sports Bra', 0.9068278074264526),\n",
       " ('PINK Ultimate Lace-Up Plunge Sports Bra', 0.9013830423355103),\n",
       " ('Aerie Play Mesh Back Sports Bra', 0.8929629325866699),\n",
       " ('Signature Lace Melanie Bra', 0.8910152316093445),\n",
       " ('PINK Eyelash Lace Cheekster', 0.8823460340499878),\n",
       " ('Chalk Stripe Cheeky Hipster', 0.8739190101623535),\n",
       " ('Very Sexy NEW! Satin Midi Slip', 0.8712292909622192),\n",
       " ('Hannah Cotton Lightly Lined Bra', 0.8634597063064575),\n",
       " ('Very Sexy Crossback Satin Slip', 0.862072229385376)]"
      ]
     },
     "execution_count": 22,
     "metadata": {},
     "output_type": "execute_result"
    }
   ],
   "source": [
    "matching(\"clothes Cutouts between cups VS charm on side of cup\")"
   ]
  },
  {
   "cell_type": "code",
   "execution_count": null,
   "metadata": {},
   "outputs": [],
   "source": []
  }
 ],
 "metadata": {
  "kernelspec": {
   "display_name": "Python 3",
   "language": "python",
   "name": "python3"
  },
  "language_info": {
   "codemirror_mode": {
    "name": "ipython",
    "version": 3
   },
   "file_extension": ".py",
   "mimetype": "text/x-python",
   "name": "python",
   "nbconvert_exporter": "python",
   "pygments_lexer": "ipython3",
   "version": "3.7.3"
  }
 },
 "nbformat": 4,
 "nbformat_minor": 2
}
