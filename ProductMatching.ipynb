{
 "cells": [
  {
   "cell_type": "markdown",
   "metadata": {},
   "source": [
    "# Product Matching\n",
    "### Kelompok 1\n",
    "1. 12S16002 - Diana Pebrianty Pakpahan\n",
    "2. 12S16022 - Rosa Afresia Siagian\n",
    "3. 12S16026 - Yolanda Nainggolan\n",
    "4. 12S16028 - Kaleb Lonari Simanungkalit\n",
    "\n",
    "\n",
    "### Dataset\n",
    "Data yang digunakan pada proyek ini berasal dari kaggle (https://www.kaggle.com/PromptCloudHQ/innerwear-data-from-victorias-secret-and-others) yang terdiri dari 9 file csv mengenai produk pakaian dalam."
   ]
  },
  {
   "cell_type": "markdown",
   "metadata": {},
   "source": [
    "## 1. Load Data"
   ]
  },
  {
   "cell_type": "code",
   "execution_count": 1,
   "metadata": {},
   "outputs": [
    {
     "name": "stderr",
     "output_type": "stream",
     "text": [
      "C:\\Users\\Yolanda Nainggolan\\Anaconda3\\lib\\site-packages\\tqdm\\std.py:654: FutureWarning: The Panel class is removed from pandas. Accessing it from the top-level namespace will also be removed in the next version\n",
      "  from pandas import Panel\n"
     ]
    }
   ],
   "source": [
    "import pandas as pd\n",
    "import numpy as np\n",
    "from tqdm import tqdm\n",
    "tqdm.pandas(desc=\"progress-bar\")\n",
    "from gensim.models import Doc2Vec\n",
    "from sklearn import utils\n",
    "from sklearn.model_selection import train_test_split\n",
    "import gensim\n",
    "from sklearn.linear_model import LogisticRegression\n",
    "from gensim.models.doc2vec import TaggedDocument\n",
    "import re\n",
    "\n",
    "df_1 = pd.read_csv('C:/Users/Yolanda Nainggolan/Productmatching/ae_com.csv')\n",
    "df_2 = pd.read_csv('C:/Users/Yolanda Nainggolan/Productmatching/amazon_com.csv')\n",
    "df_3 = pd.read_csv('C:/Users/Yolanda Nainggolan/Productmatching/btemptd_com.csv')\n",
    "df_4 = pd.read_csv('C:/Users/Yolanda Nainggolan/Productmatching/calvinklein_com.csv')\n",
    "df_5 = pd.read_csv('C:/Users/Yolanda Nainggolan/Productmatching/hankypanky_com.csv')\n",
    "df_6 = pd.read_csv('C:/Users/Yolanda Nainggolan/Productmatching/macys_com.csv')\n",
    "df_7 = pd.read_csv('C:/Users/Yolanda Nainggolan/Productmatching/shop_nordstrom_com.csv')\n",
    "df_8 = pd.read_csv('C:/Users/Yolanda Nainggolan/Productmatching/us_topshop_com.csv')\n",
    "df_9 = pd.read_csv('C:/Users/Yolanda Nainggolan/Productmatching/victoriassecret_com.csv')"
   ]
  },
  {
   "cell_type": "code",
   "execution_count": 2,
   "metadata": {},
   "outputs": [
    {
     "data": {
      "text/html": [
       "<div>\n",
       "<style scoped>\n",
       "    .dataframe tbody tr th:only-of-type {\n",
       "        vertical-align: middle;\n",
       "    }\n",
       "\n",
       "    .dataframe tbody tr th {\n",
       "        vertical-align: top;\n",
       "    }\n",
       "\n",
       "    .dataframe thead th {\n",
       "        text-align: right;\n",
       "    }\n",
       "</style>\n",
       "<table border=\"1\" class=\"dataframe\">\n",
       "  <thead>\n",
       "    <tr style=\"text-align: right;\">\n",
       "      <th></th>\n",
       "      <th>product_name</th>\n",
       "      <th>mrp</th>\n",
       "      <th>price</th>\n",
       "      <th>pdp_url</th>\n",
       "      <th>brand_name</th>\n",
       "      <th>product_category</th>\n",
       "      <th>retailer</th>\n",
       "      <th>description</th>\n",
       "      <th>rating</th>\n",
       "      <th>review_count</th>\n",
       "      <th>style_attributes</th>\n",
       "      <th>total_sizes</th>\n",
       "      <th>available_size</th>\n",
       "      <th>color</th>\n",
       "    </tr>\n",
       "  </thead>\n",
       "  <tbody>\n",
       "    <tr>\n",
       "      <th>304934</th>\n",
       "      <td>The Lacie Medallion Lace Thong Panty</td>\n",
       "      <td>$10.50</td>\n",
       "      <td>$4.99</td>\n",
       "      <td>https://www.victoriassecret.com/panties/shop-a...</td>\n",
       "      <td>Victoria's Secret</td>\n",
       "      <td>Medallion Lace Thong Panty</td>\n",
       "      <td>Victoriassecret US</td>\n",
       "      <td>The world’s sexiest no-show thong in supersoft...</td>\n",
       "      <td>NaN</td>\n",
       "      <td>NaN</td>\n",
       "      <td>NaN</td>\n",
       "      <td>[\"XS\", \"S\", \"M\", \"L\", \"XL\"]</td>\n",
       "      <td>M</td>\n",
       "      <td>champagne</td>\n",
       "    </tr>\n",
       "    <tr>\n",
       "      <th>384574</th>\n",
       "      <td>PINK NEW! High Waist Strappy Bikini Bottom</td>\n",
       "      <td>$34.95</td>\n",
       "      <td>$34.95</td>\n",
       "      <td>https://www.victoriassecret.com/pink/shop-all-...</td>\n",
       "      <td>Victoria's Secret Pink</td>\n",
       "      <td>High Waist Strappy Bikini Bottom</td>\n",
       "      <td>Victoriassecret US</td>\n",
       "      <td>Rock the retro-vibe with open, crisscross side...</td>\n",
       "      <td>NaN</td>\n",
       "      <td>NaN</td>\n",
       "      <td>NaN</td>\n",
       "      <td>[\"XS\", \"S\", \"M\", \"L\"]</td>\n",
       "      <td>S</td>\n",
       "      <td>red pepper palm print</td>\n",
       "    </tr>\n",
       "    <tr>\n",
       "      <th>393781</th>\n",
       "      <td>Victoria Sport NEW! Incredible by Victoria Spo...</td>\n",
       "      <td>$36.50</td>\n",
       "      <td>$36.50</td>\n",
       "      <td>https://www.victoriassecret.com/victorias-secr...</td>\n",
       "      <td>Victoria's Secret</td>\n",
       "      <td>Incredible by Victoria Sport Front-close Sport...</td>\n",
       "      <td>Victoriassecret US</td>\n",
       "      <td>Game-changer: your favorite maximum-support sp...</td>\n",
       "      <td>4.0</td>\n",
       "      <td>261.0</td>\n",
       "      <td>NaN</td>\n",
       "      <td>[\"32A\", \"32B\", \"32C\", \"32D\", \"32DD\", \"32DDD\", ...</td>\n",
       "      <td>38DD</td>\n",
       "      <td>Black</td>\n",
       "    </tr>\n",
       "    <tr>\n",
       "      <th>280826</th>\n",
       "      <td>Body by Victoria Lace Triangle Underwire Bralette</td>\n",
       "      <td>$34.50</td>\n",
       "      <td>$14.99</td>\n",
       "      <td>https://www.victoriassecret.com/bras/shop-all-...</td>\n",
       "      <td>Victoria's Secret</td>\n",
       "      <td>Lace Triangle Underwire Bralette</td>\n",
       "      <td>Victoriassecret US</td>\n",
       "      <td>Unlined and all you, this bralette has a flexi...</td>\n",
       "      <td>NaN</td>\n",
       "      <td>NaN</td>\n",
       "      <td>NaN</td>\n",
       "      <td>[\"32A\", \"32B\", \"32C\", \"32D\", \"32DD\", \"34A\", \"3...</td>\n",
       "      <td>32A</td>\n",
       "      <td>faded denim lace</td>\n",
       "    </tr>\n",
       "    <tr>\n",
       "      <th>145615</th>\n",
       "      <td>Dream Angels NEW! Crochet Lace Cheekster Panty</td>\n",
       "      <td>$25.00</td>\n",
       "      <td>$25.00</td>\n",
       "      <td>https://www.victoriassecret.com/panties/shop-a...</td>\n",
       "      <td>Victoria's Secret</td>\n",
       "      <td>Crochet Lace Cheekster Panty</td>\n",
       "      <td>Victoriassecret US</td>\n",
       "      <td>The prettiest crochet lace, in a cheekini shap...</td>\n",
       "      <td>NaN</td>\n",
       "      <td>NaN</td>\n",
       "      <td>NaN</td>\n",
       "      <td>[\"XS\", \"S\", \"M\", \"L\", \"XL\"]</td>\n",
       "      <td>XL</td>\n",
       "      <td>black</td>\n",
       "    </tr>\n",
       "  </tbody>\n",
       "</table>\n",
       "</div>"
      ],
      "text/plain": [
       "                                             product_name      mrp    price  \\\n",
       "304934               The Lacie Medallion Lace Thong Panty  $10.50    $4.99    \n",
       "384574         PINK NEW! High Waist Strappy Bikini Bottom  $34.95   $34.95    \n",
       "393781  Victoria Sport NEW! Incredible by Victoria Spo...  $36.50   $36.50    \n",
       "280826  Body by Victoria Lace Triangle Underwire Bralette  $34.50   $14.99    \n",
       "145615     Dream Angels NEW! Crochet Lace Cheekster Panty  $25.00   $25.00    \n",
       "\n",
       "                                                  pdp_url  \\\n",
       "304934  https://www.victoriassecret.com/panties/shop-a...   \n",
       "384574  https://www.victoriassecret.com/pink/shop-all-...   \n",
       "393781  https://www.victoriassecret.com/victorias-secr...   \n",
       "280826  https://www.victoriassecret.com/bras/shop-all-...   \n",
       "145615  https://www.victoriassecret.com/panties/shop-a...   \n",
       "\n",
       "                    brand_name  \\\n",
       "304934       Victoria's Secret   \n",
       "384574  Victoria's Secret Pink   \n",
       "393781       Victoria's Secret   \n",
       "280826       Victoria's Secret   \n",
       "145615       Victoria's Secret   \n",
       "\n",
       "                                         product_category            retailer  \\\n",
       "304934                         Medallion Lace Thong Panty  Victoriassecret US   \n",
       "384574                   High Waist Strappy Bikini Bottom  Victoriassecret US   \n",
       "393781  Incredible by Victoria Sport Front-close Sport...  Victoriassecret US   \n",
       "280826                   Lace Triangle Underwire Bralette  Victoriassecret US   \n",
       "145615                       Crochet Lace Cheekster Panty  Victoriassecret US   \n",
       "\n",
       "                                              description  rating  \\\n",
       "304934  The world’s sexiest no-show thong in supersoft...     NaN   \n",
       "384574  Rock the retro-vibe with open, crisscross side...     NaN   \n",
       "393781  Game-changer: your favorite maximum-support sp...     4.0   \n",
       "280826  Unlined and all you, this bralette has a flexi...     NaN   \n",
       "145615  The prettiest crochet lace, in a cheekini shap...     NaN   \n",
       "\n",
       "        review_count style_attributes  \\\n",
       "304934           NaN              NaN   \n",
       "384574           NaN              NaN   \n",
       "393781         261.0              NaN   \n",
       "280826           NaN              NaN   \n",
       "145615           NaN              NaN   \n",
       "\n",
       "                                              total_sizes available_size  \\\n",
       "304934                        [\"XS\", \"S\", \"M\", \"L\", \"XL\"]              M   \n",
       "384574                              [\"XS\", \"S\", \"M\", \"L\"]              S   \n",
       "393781  [\"32A\", \"32B\", \"32C\", \"32D\", \"32DD\", \"32DDD\", ...           38DD   \n",
       "280826  [\"32A\", \"32B\", \"32C\", \"32D\", \"32DD\", \"34A\", \"3...            32A   \n",
       "145615                        [\"XS\", \"S\", \"M\", \"L\", \"XL\"]             XL   \n",
       "\n",
       "                        color  \n",
       "304934              champagne  \n",
       "384574  red pepper palm print  \n",
       "393781                  Black  \n",
       "280826       faded denim lace  \n",
       "145615                  black  "
      ]
     },
     "execution_count": 2,
     "metadata": {},
     "output_type": "execute_result"
    }
   ],
   "source": [
    "dataFrame = pd.concat([df_1, df_2, df_3, df_4, df_5, df_6, df_7, df_8, df_9])\n",
    "dataFrame.sample(5)"
   ]
  },
  {
   "cell_type": "markdown",
   "metadata": {},
   "source": [
    "## 2. Data Preprocessing"
   ]
  },
  {
   "cell_type": "code",
   "execution_count": 3,
   "metadata": {},
   "outputs": [
    {
     "data": {
      "text/html": [
       "<div>\n",
       "<style scoped>\n",
       "    .dataframe tbody tr th:only-of-type {\n",
       "        vertical-align: middle;\n",
       "    }\n",
       "\n",
       "    .dataframe tbody tr th {\n",
       "        vertical-align: top;\n",
       "    }\n",
       "\n",
       "    .dataframe thead th {\n",
       "        text-align: right;\n",
       "    }\n",
       "</style>\n",
       "<table border=\"1\" class=\"dataframe\">\n",
       "  <thead>\n",
       "    <tr style=\"text-align: right;\">\n",
       "      <th></th>\n",
       "      <th>product_name</th>\n",
       "      <th>description</th>\n",
       "    </tr>\n",
       "  </thead>\n",
       "  <tbody>\n",
       "    <tr>\n",
       "      <th>87053</th>\n",
       "      <td>Lace Easy Push-Up Bra</td>\n",
       "      <td>Like magic: the lift you love without the wire...</td>\n",
       "    </tr>\n",
       "    <tr>\n",
       "      <th>13773</th>\n",
       "      <td>Signature Lace Original Rise Thong 4811</td>\n",
       "      <td>You can't go wrong with Hanky Panky's signatur...</td>\n",
       "    </tr>\n",
       "    <tr>\n",
       "      <th>403847</th>\n",
       "      <td>The T-Shirt Perfect Shape Bra</td>\n",
       "      <td>The everyday go-to bra pairs sexy lift and the...</td>\n",
       "    </tr>\n",
       "    <tr>\n",
       "      <th>300940</th>\n",
       "      <td>Body by Victoria Perfect Shape Bra</td>\n",
       "      <td>The sexy lift of a push-up meets the coverage ...</td>\n",
       "    </tr>\n",
       "    <tr>\n",
       "      <th>344766</th>\n",
       "      <td>PINK NEW! Wear Everywhere Lightly Lined Bra</td>\n",
       "      <td>A true wardrobe essential made new with even s...</td>\n",
       "    </tr>\n",
       "  </tbody>\n",
       "</table>\n",
       "</div>"
      ],
      "text/plain": [
       "                                       product_name  \\\n",
       "87053                         Lace Easy Push-Up Bra   \n",
       "13773       Signature Lace Original Rise Thong 4811   \n",
       "403847                The T-Shirt Perfect Shape Bra   \n",
       "300940           Body by Victoria Perfect Shape Bra   \n",
       "344766  PINK NEW! Wear Everywhere Lightly Lined Bra   \n",
       "\n",
       "                                              description  \n",
       "87053   Like magic: the lift you love without the wire...  \n",
       "13773   You can't go wrong with Hanky Panky's signatur...  \n",
       "403847  The everyday go-to bra pairs sexy lift and the...  \n",
       "300940  The sexy lift of a push-up meets the coverage ...  \n",
       "344766  A true wardrobe essential made new with even s...  "
      ]
     },
     "execution_count": 3,
     "metadata": {},
     "output_type": "execute_result"
    }
   ],
   "source": [
    "dataFrame = dataFrame[['product_name', 'description']]\n",
    "dataFrame = dataFrame[pd.notnull(dataFrame['description'])]\n",
    "dataFrame.sample(5)"
   ]
  },
  {
   "cell_type": "code",
   "execution_count": 4,
   "metadata": {},
   "outputs": [
    {
     "data": {
      "text/plain": [
       "(613143, 2)"
      ]
     },
     "execution_count": 4,
     "metadata": {},
     "output_type": "execute_result"
    }
   ],
   "source": [
    "dataFrame.shape"
   ]
  },
  {
   "cell_type": "code",
   "execution_count": 5,
   "metadata": {},
   "outputs": [
    {
     "data": {
      "text/plain": [
       "product_name    0\n",
       "description     0\n",
       "dtype: int64"
      ]
     },
     "execution_count": 5,
     "metadata": {},
     "output_type": "execute_result"
    }
   ],
   "source": [
    "dataFrame.isnull().sum()"
   ]
  },
  {
   "cell_type": "markdown",
   "metadata": {},
   "source": [
    "#### Catatan:\n",
    "Karena jumlah data sangat besar, kita hanya memakai 10.000 data yang akan dipilih secara random"
   ]
  },
  {
   "cell_type": "code",
   "execution_count": 6,
   "metadata": {},
   "outputs": [
    {
     "data": {
      "text/html": [
       "<div>\n",
       "<style scoped>\n",
       "    .dataframe tbody tr th:only-of-type {\n",
       "        vertical-align: middle;\n",
       "    }\n",
       "\n",
       "    .dataframe tbody tr th {\n",
       "        vertical-align: top;\n",
       "    }\n",
       "\n",
       "    .dataframe thead th {\n",
       "        text-align: right;\n",
       "    }\n",
       "</style>\n",
       "<table border=\"1\" class=\"dataframe\">\n",
       "  <thead>\n",
       "    <tr style=\"text-align: right;\">\n",
       "      <th></th>\n",
       "      <th>product_name</th>\n",
       "      <th>description</th>\n",
       "    </tr>\n",
       "  </thead>\n",
       "  <tbody>\n",
       "    <tr>\n",
       "      <th>395529</th>\n",
       "      <td>Victoria Sport NEW! Incredible by Victoria Spo...</td>\n",
       "      <td>Game-changer: your favorite maximum-support sp...</td>\n",
       "    </tr>\n",
       "    <tr>\n",
       "      <th>415719</th>\n",
       "      <td>Dream Angels Demi Bra</td>\n",
       "      <td>This dreamy demi is even more heavenly, with s...</td>\n",
       "    </tr>\n",
       "    <tr>\n",
       "      <th>331707</th>\n",
       "      <td>PINK NEW! Logo Boyshort</td>\n",
       "      <td>Comfy, classic, and perfect for lounging this ...</td>\n",
       "    </tr>\n",
       "    <tr>\n",
       "      <th>11046</th>\n",
       "      <td>b.inspired Convertible Push-Up Bra 958251</td>\n",
       "      <td>Switch between a conventional look and racerba...</td>\n",
       "    </tr>\n",
       "    <tr>\n",
       "      <th>404231</th>\n",
       "      <td>The Lacie NEW! Lace Cheeky Panty</td>\n",
       "      <td>A total flirt: the cheeky fit you love in silk...</td>\n",
       "    </tr>\n",
       "    <tr>\n",
       "      <th>308281</th>\n",
       "      <td>PINK NEW! Wear Everywhere Multi-Way Push-Up Bra</td>\n",
       "      <td>A true wardrobe essential with soft, no-show c...</td>\n",
       "    </tr>\n",
       "    <tr>\n",
       "      <th>355832</th>\n",
       "      <td>The T-Shirt Perfect Shape Bra</td>\n",
       "      <td>The everyday go-to bra pairs sexy lift and the...</td>\n",
       "    </tr>\n",
       "    <tr>\n",
       "      <th>189433</th>\n",
       "      <td>Victoria Sport NEW! Knockout by Victoria Sport...</td>\n",
       "      <td>Click, zip, go! Patented bra-within-a-bra tech...</td>\n",
       "    </tr>\n",
       "    <tr>\n",
       "      <th>8603</th>\n",
       "      <td>Dream Angels Demi Bra</td>\n",
       "      <td>This dreamy demi is even more heavenly, with s...</td>\n",
       "    </tr>\n",
       "    <tr>\n",
       "      <th>16930</th>\n",
       "      <td>Wacoal Women's Full Figure Basic Beauty Underw...</td>\n",
       "      <td>Seamless molded two-ply cups with inner sling ...</td>\n",
       "    </tr>\n",
       "  </tbody>\n",
       "</table>\n",
       "</div>"
      ],
      "text/plain": [
       "                                             product_name  \\\n",
       "395529  Victoria Sport NEW! Incredible by Victoria Spo...   \n",
       "415719                              Dream Angels Demi Bra   \n",
       "331707                            PINK NEW! Logo Boyshort   \n",
       "11046           b.inspired Convertible Push-Up Bra 958251   \n",
       "404231                   The Lacie NEW! Lace Cheeky Panty   \n",
       "308281    PINK NEW! Wear Everywhere Multi-Way Push-Up Bra   \n",
       "355832                      The T-Shirt Perfect Shape Bra   \n",
       "189433  Victoria Sport NEW! Knockout by Victoria Sport...   \n",
       "8603                                Dream Angels Demi Bra   \n",
       "16930   Wacoal Women's Full Figure Basic Beauty Underw...   \n",
       "\n",
       "                                              description  \n",
       "395529  Game-changer: your favorite maximum-support sp...  \n",
       "415719  This dreamy demi is even more heavenly, with s...  \n",
       "331707  Comfy, classic, and perfect for lounging this ...  \n",
       "11046   Switch between a conventional look and racerba...  \n",
       "404231  A total flirt: the cheeky fit you love in silk...  \n",
       "308281  A true wardrobe essential with soft, no-show c...  \n",
       "355832  The everyday go-to bra pairs sexy lift and the...  \n",
       "189433  Click, zip, go! Patented bra-within-a-bra tech...  \n",
       "8603    This dreamy demi is even more heavenly, with s...  \n",
       "16930   Seamless molded two-ply cups with inner sling ...  "
      ]
     },
     "execution_count": 6,
     "metadata": {},
     "output_type": "execute_result"
    }
   ],
   "source": [
    "df = dataFrame.sample(n=10000, random_state=42)\n",
    "df.sample(10)"
   ]
  },
  {
   "cell_type": "code",
   "execution_count": 7,
   "metadata": {},
   "outputs": [
    {
     "data": {
      "text/plain": [
       "(10000, 2)"
      ]
     },
     "execution_count": 7,
     "metadata": {},
     "output_type": "execute_result"
    }
   ],
   "source": [
    "df.shape"
   ]
  },
  {
   "cell_type": "code",
   "execution_count": 8,
   "metadata": {},
   "outputs": [
    {
     "data": {
      "text/plain": [
       "564187"
      ]
     },
     "execution_count": 8,
     "metadata": {},
     "output_type": "execute_result"
    }
   ],
   "source": [
    "df.index = range(10000)\n",
    "df['description'].apply(lambda x: len(x.split(' '))).sum()"
   ]
  },
  {
   "cell_type": "code",
   "execution_count": 9,
   "metadata": {},
   "outputs": [],
   "source": [
    "from bs4 import BeautifulSoup\n",
    "def cleanText(text):\n",
    "    text = BeautifulSoup(text, \"lxml\").text\n",
    "    text = re.sub(r'\\|\\|\\|', r' ', text)\n",
    "    text = re.sub(r'http\\S+', r'<URL>', text)\n",
    "    text = text.lower()\n",
    "    text = text.replace('x', '')\n",
    "    return text\n",
    "df['description'] = df['description'].apply(cleanText)"
   ]
  },
  {
   "cell_type": "code",
   "execution_count": 10,
   "metadata": {},
   "outputs": [
    {
     "name": "stdout",
     "output_type": "stream",
     "text": [
      "Description:\n",
      " our #1 push-up is seier than ever with plush, even softer padding for the lift and cleavage you love and a more natural feel, plus edges that disappear under clothes.lift & lining push-up padding adds 1 cup size underwire cupsstraps & hooks fully adjustable straps back closure double row of hook-and-eye closures 4 settings to ensure a perfect fit can be worn classic or crossbackdetails & fabric supersmooth neckline disappears under clothes cutouts between cups vs charm on side of cup imported nylon/spande \n",
      "\n",
      " product_name: Very Sexy Push-Up Bra\n"
     ]
    }
   ],
   "source": [
    "def print_description(index):\n",
    "    example = df[df.index == index][['description', 'product_name']].values[0]\n",
    "    if len(example) > 0:\n",
    "        print('Description:\\n', example[0])\n",
    "        print('\\n product_name:', example[1])\n",
    "        \n",
    "print_description(12)"
   ]
  },
  {
   "cell_type": "code",
   "execution_count": 11,
   "metadata": {},
   "outputs": [
    {
     "name": "stdout",
     "output_type": "stream",
     "text": [
      "Description:\n",
      " pretty lace makes the silky-soft cotton panty you love all the more feminine, in colors and prints to brighten your lingerie drawer. lace trim low rise moderate back coverage: shows a little, but not all machine wash imported cotton/nylon/spande\n",
      "\n",
      " product_name: Cotton Lingerie NEW! Lace-waist String Bikini Panty\n"
     ]
    }
   ],
   "source": [
    "print_description(20)"
   ]
  },
  {
   "cell_type": "markdown",
   "metadata": {},
   "source": [
    "## 3. Features Extraction"
   ]
  },
  {
   "cell_type": "code",
   "execution_count": 12,
   "metadata": {},
   "outputs": [],
   "source": [
    "train, test = train_test_split(df, test_size=0.3, random_state=42)\n",
    "import nltk\n",
    "def tokenize_text(text):\n",
    "    tokens = []\n",
    "    for sent in nltk.sent_tokenize(text):\n",
    "        for word in nltk.word_tokenize(sent):\n",
    "            if len(word) < 2:\n",
    "                continue\n",
    "            tokens.append(word.lower())\n",
    "    return tokens\n",
    "train_tagged = train.apply(\n",
    "    lambda r: TaggedDocument(words=tokenize_text(r['description']), tags=[r.product_name]), axis=1)\n",
    "test_tagged = test.apply(\n",
    "    lambda r: TaggedDocument(words=tokenize_text(r['description']), tags=[r.product_name]), axis=1)"
   ]
  },
  {
   "cell_type": "code",
   "execution_count": 13,
   "metadata": {},
   "outputs": [
    {
     "data": {
      "text/plain": [
       "TaggedDocument(words=['an', 'everyday', 'bra', 'that', 'essential', 'for', 'every', 'bra', 'wardrobe', 'convertible', 'straps', 'make', 'it', 'perfect', 'for', 'wearing', 'with', 'any', 'tank', 'or', 't-shirt', 'lightly', 'lined', 'for', 'subtle', 'lift', 'underwire', 'cups', 'light', 'push', 'fully', 'adjustable', 'straps', 'can', 'convert', 'to', 'crossback', 'and', 'snap', 'into', 'place', 'for', 'secure', 'hold', 'back', 'closure', 'hook', 'and', 'eye', 'closure', 'imported', 'polyamide/spande'], tags=['PINK NEW! Wear Everywhere T-Shirt Bra'])"
      ]
     },
     "execution_count": 13,
     "metadata": {},
     "output_type": "execute_result"
    }
   ],
   "source": [
    "train_tagged.values[30]"
   ]
  },
  {
   "cell_type": "code",
   "execution_count": 14,
   "metadata": {},
   "outputs": [],
   "source": [
    "import multiprocessing\n",
    "cores = multiprocessing.cpu_count()"
   ]
  },
  {
   "cell_type": "code",
   "execution_count": 15,
   "metadata": {},
   "outputs": [
    {
     "name": "stderr",
     "output_type": "stream",
     "text": [
      "100%|██████████████████████████████████████████████████████████████████████████| 7000/7000 [00:00<00:00, 387393.00it/s]\n"
     ]
    }
   ],
   "source": [
    "model = Doc2Vec(dm=0, vector_size=300, negative=5, hs=0, min_count=2, sample = 0, workers=cores)\n",
    "model.build_vocab([x for x in tqdm(train_tagged.values)])"
   ]
  },
  {
   "cell_type": "code",
   "execution_count": 16,
   "metadata": {},
   "outputs": [
    {
     "data": {
      "text/plain": [
       "1297"
      ]
     },
     "execution_count": 16,
     "metadata": {},
     "output_type": "execute_result"
    }
   ],
   "source": [
    "len(model.docvecs)"
   ]
  },
  {
   "cell_type": "code",
   "execution_count": 17,
   "metadata": {},
   "outputs": [
    {
     "data": {
      "text/plain": [
       "dict_keys(['our', 'sport', 'bra', 'for', 'reason', 'with', 'supersoft', 'elastic', 'band', 'and', 'wireless', 'cups', 'that', 'breathe', 'easy', 'this', 'medium-support', 'favorite', 'is', 'ready', 'to', 'bike', 'bo', 'train', 'hard', 'details', 'medium', 'support', 'unstructured', 'design', 'adjustable', 'straps', 'no', 'clasps', 'or', 'hooks', 'strappy', 'back', 'performance', 'fabric', 'perfect', 'spinning', 'kickboing', 'circuit', 'training', 'super-soft', 'comfort', 'movement', 'lightweight', 'breathable', 'body-wick', 'keeps', 'you', 'cool', 'dry', 'machine', 'wash.', 'tumble', 'imported', 'polyamide/spande', 'best', 'selling', 'convertible', 'push-up', 'available', 'in', 'basic', 'colors', 'new', 'fashion', 'color', 'no-show', 'fit—even', 'under', 'your', 'tightest', 'clothes', 'barely-there', 'thong', 'features', 'sporty', 'logo', 'waist', 'soft', 'cotton', 'only', 'by', 'victoria', 'secret', 'pink', 'iconic', 'waistband', 'etra', 'low', 'rise', 'cotton/elastane/polyamide/polyester', 'without', 'the', 'wires', 'lightly', 'lined', 'conforms', 'curves', 'lift', 'lining', 'boning', 'at', 'side', 'wing', 'scoop', 'neckline', 'enhance', 'natural', 'curve', 'minimal', 'fully', 'j-hook', 'cross-back', 'option', 'single', 'bulk-free', 'hook', 'eye', 'closure', 'settings', 'adjustability', 'double', 'closures', 'sizes', '36c-dd', '38b-dd', 'no-slip', 'invisible', 'all-day', 'hold', 'small', 'vs', 'tag', 'on', 'inside', 'of', 'nylon/spande', 'seier', 'than', 'ever', 'plush', 'even', 'softer', 'padding', 'cleavage', 'love', 'more', 'feel', 'plus', 'edges', 'disappear', 'adds', 'cup', 'size', 'underwire', 'front', 'classic', 'row', 'hook-and-eye', 'ensure', 'fit', 'all', 'need', 'little', 'lace', 'here', 'cutest', 'shape', 'scalloped', 'hem', 'slight', 'v-neck', 'sheer', 'unlined', 'v-back', '32', \"''\", 'from', 'shoulder', 'hits', 'thigh', 'season', \"'s\", '``', 'it', 'piece', 'comfy', 'essential', 'hipster', 'binding', 'an', 'detail', 'panel', 'cotton/elastane/polyamide', 'girl', 'go-to', 'featuring', 'super', 'smooth', 't-back', 'sporting', 'racerback', 'tanks', 'tops', 'most', 'push', 'pad', 'structured', 'panty', 'things', 'simple', 'ck', 'everyday', 'fave', 'comfortable', 'straps\\xad–wear', 'crossback', 'peek', 'pleasure', 'sultry', 'babydoll', 'why', 'buy', 'world', 'seiest', 'boho', 'babe', 'beautiful', 'crochet', 'sides', 'contrast', 'piping', 'every', 'wardrobe', 'make', 'wearing', 'any', 'tank', 't-shirt', 'subtle', 'light', 'can', 'convert', 'snap', 'into', 'place', 'secure', 'ca', \"n't\", 'go', 'wrong', 'hanky', 'panky', 'signature', 'retro', 'has', 'high-waist', 'designed', 'etra-generous', 'tummy', 'appear', 'slimmer', 'fits', '0-12.', 'style', '9k1926', 'seamless', 'raw-cut', 'totally', 'collection', 'show', 'through', 'popular', 'top', 'great', 'layering', 'its', 'own', 'modern', 'demi', 'contrasting', 'ma', 'yet', 'padded', 'deep', 'plunging', 'bump', 'create', 'straps—wear', 'click', 'zip', 'patented', 'bra-within-a-bra', 'technology', 'offers', 'maimum', 'reveals', 'clip', 'together', 'off…and', 'bounce', 'within', 'layer', 'provides', 'concealed', 'wire', 'cushioned', 'wicking', 'liner', 'keep', 'running', 'boing', 'cardio', 'gift', 'special', 'day', 'beauty', 'mesh', 'appliqué', 'flowers', 'flirty', 'cutout', 'floral', 'hand', 'wash', 'polyester/nylon/spande', 'wear', 'solo', 'rock', 'tank—this', 'wildflower', 'cute', 'matter', 'what', 'way', 'pull', 'high', 'neck', 'up', 'bralette', 'fleible', 'provide', 'moves', 'additional', '36d-38dd', 'game-changer', 'maimum-support', 'meets', 'zip-front', 'off', 'stay-cool', 'bonded', 'eliminates', 'irritation', 'locking', 'hook-', '-eye', 'body', 'nylon/lycra®spande', 'polyester/spande', 'goes', 'long', 'eyelash', 'gives', 'boost', 'thanks', 'hidden', 'sling', 'innovative', 'be', 'worn', 'allover', 'bows', 'nylon/spande/metallic', 'threads', 'nylon/elastane', 'now', 'see', 'it––now', 'do', 'panties', 'are', 'as', 'stylish', 'they', 'must-have', 'no-more-lines', '3-pack', 'calvin', 'klein', 'left', 'camisole', 'made', '1390l', 'molded', 'two-ply', 'inner', 'tackle', 'high-intensity', 'workouts', 'truly', 'incredible', 'wick', 'large', 'keyhole', 'solids/prints-', 'nylon', 'spande', 'insets', 'polyamide/elastane', 'marl-', 'polyester/elastane', 'heavenly', 'memory', 'lots', 'stretchier', 'smoothing', 'u-shaped', '36-38dd', 'have', 'triple', 'plunge', 'ballet', 'prevents', 'riding', 'styling', 'chic', 'addition', 'supremely', 'bikini', 'fullest', 'coverage', 'meet', 'lighter', 'full', '34ddd', '36dd-36ddd', '38-40d-ddd', '40c', 'double-lined', 'smoothest', 'jersey', 'underwear', 'styled', 'double-layered', 'amazing', 'disappears', 'curve-hugging', 'styles', 'etreme', 'night', 'infinity', 'edge', 'look', 'red', 'carpet', 'figure', 'strapless', 'supportive', 'stays', 'beyond', 'stunning', 'long-line', 'shaped', 'cut', 'reveal', 'microfiber', 'pullover', 'silky-soft', 'stretchy', 'makes', 'cheeky', 'naturally', 'while', 'sey', 'pretty', 'prints', 'undies', 'lingerie', 'drawer', 'anything', 'but', 'ordinary', 'trim', 'lays', 'flat', 'cotton/nylon/spande', 'pure', 'silhouette', 'tees', 'flwr', 'pwr', 'swirls', 'feminine', 'grl', 'feels', '4447-2326', '412', 'cozy', 'give', 'open', '97', 'elastane', 'read', 'less', 'elegance', 'pearls', 'like', 'magic', 'unbelievably', 'sleek', 'line', 'etra-wide', 'stretch-lace', 'appeal', 'bohemian', 'gorgeous', 'ruffles', 'lace.lift', 'removable', 'flounce', 'nylon/polyester/spande', 'bottom', 'fun', 'ruched', 'mi', 'match', 'suits—swimwear', 'bolder', 'better', 'gets', 'treatment', 'logo-print', 'print', 'mid', 'moderate', 'cotton/spande', 'supersmooth', 'elastic-free', 'laser-cut', 'hiphugger', 'cuts', 'sleekest', 'sunnie', 'real', 'soft®', 'bras', '9792-3487', '073', '360', 'degree', 'stretch', 'if', 'loved', 'sofie', 'jennifer', \"'ll\", 'adore', '64', '36', 'crisscrossing', 'add', 'sophistication', 'lacy', 'black', 'endless', 'date', 'cotton/spande/nylon', 'just', 'cheek', 'perfection', 'beautifully', 'applique', 'cutouts', 'between', 'charm', 'hint', 'drama', 'nighttime', 'glamour', 'slip', 'silky', 'wrap', 'wide', 'sleeves', 'short', 'pockets', 'mid-thigh', 'length', 'tie', 'polyester', 'clothes.lift', 'cupsstraps', 'crossbackdetails', 'lounging', 'halter', 'strap', 'scoopneck', 'two', 'ways', 'one', 'watch', 'lovely', 'sets', 'play', 'peek-a-boo', 'racy', 'leopard', 'nouveau', 'daisy', 'everything', 'perfectly', 'contoured', 'versatile', 'lower', 'revealing', 'necklines', 'choices', 'foam', '38d-38ddd', 'satin', 'flawless', 'promise', 'late-night', 'pulls', '39', 'below', 'knee', 'polyester/nylon', 'upgrade', 'effortless', 'over', 'wearability', 'hello', 'happy', 'happiness', 'feeling', 'welcome', '2792-7888', 'out', 'interior', 'cage', 'stay', '91', 'curvestraps', '38b-dddetails', 'so', 'ultra', 'won', 'cycling', '4-way', 'tee', 'back—all', 'front-close', 'partially', 'back-close', 'solids', 'marl', 'sweet', 'cross', 'boyshort', 'total', 'palm', 'combines', 'flattering', 'original', 'underneath', 'when', 'want', 'show-through', 'swan', 'bust', 'tip', 'fronts', 'backs', 'ultimate', 'lift-loving', 'fullness', 'crisscross', 'start', 'low-cut', 'embossed', 'bandeau', 'overlay', 'nylons/spande/polyester', 'touch', 'raceback', 'yoga', 'terry', 'crew', 'thumbholes', 'split', 'detailing', 'relaed', 'high-low', 'cotton/polyester/viscose', \"'re\", 'sure', 'best-selling', 'showing', '•lightly', '•underwire', '•front', '•front-close', '•back-close', '32dd', '34d-34dd', '36c-36dd', '38b-38dd', '•infinity', '•imported', 'back—this', 'not', 'bow', 'wo', 'covered', 'nylon/spande/polyester', '24/7', 'high-neck', 'll', 'live', 'peace', 'bralettes', 'we', 'did', 'them', 'first', \"'em\", 'their', '4447-7522', '331', 'right', 'amount', 'let', 'colorful', '93', 'pairs', 'uplift', '38ddd', 'nylon/polyester', '•full', '36dd', '38-40d-dd', 'high-cut', 'b-smooth', 'wacoal', 'brief', '834175', 'ultra-comfy', 'better-than-ever', 'finishing', 'legs', 'oh-so', '604', 'going', 'crop', 'pair', 'wide-neck', 'perk', '4447-2160', '410', 'romantic', 'longline', 'fringe', '92', 'prettiest', 'frames', 'non-padded', 'logo-branded', 'serious', 'memorizes', '1½', 'foam-encased', 'shine', 'finish', 'matte', 'get', 'trend', 'macramé', 'bottoms', 'customize', 'built', 'pants', 'party', 'gettin', 'stringy', 'it…', '5441-4301', '184', 'call', 'favorites', 'say', '95', 'dare', 'bare', 'bold', 'finished', 'laces', 'lace-up', 'nylon/spande/cotton', 'crafted', 'all-over', 'qf1205', \"'ve\", 'been', 'looking', 'visual', 'effects', 'minimizer', '857210', '5777-6103', '669', 'aerie', 'got', '88', '12', 'how', 'lace—we', 're', 'crushin', 'prettier', '5772-6106', '85', '15', 'bodysuede', 'full-coverage', '89371', 'simply', 'many', 'delicate', 'picot', 'cotton/lycra®', 'summer', 'v-wire', 'hides', 'lowest', 'awareness', 'jacquard', 'lily', 'woman', 'boy', 'control', '|wacoal', 'looks', 'center', 'brings', 'blue', 'big', 'g-string', 'undetectable', 'rear', 'vibe', 'elegant', 'halo', 'cross-dye', 'fully-adjustable', 'adjustment', '851205', 'microdenier', 'include', 'shaping', 'relieve', 'strain', 'ivory', 'french', 'nude', '34-40', 'dd', 'ddd', '32-40', '|bodysuede', 'five', 'plenty', 'options—in', '32c-', '32d', '34a-', '34c', '36a-', '36b', '32dd-32ddd', '36c-', '36d', '38b-38c', 'rows', 'one-strap', 'accents', 'vikini', 'v-shaped', '482374', 'angels', 'who', 'options', 'multi-way', '36-38dd-ddd', 'hot', 'customized', 'ties', '6443-5402', '092', '40dd', '40ddd', 'vanity', 'fair', 'variety', 'ideal', 'outfit', '75339', 'leave', 'breathless', 'takes', 'fabrics', 'treat', 'yourself', 'something', 'ciao', 'bella', 'b.tempt', \"'d\", 'triangle', 'security', 'workout', 'high-drive', 'sports', 'wings', 'sophisticated', 'pick', 'kiss', 'hugs', 'digging', '970182', 'life', 'aeriereal', 'time', 'too', '2792-7896', '678', 'take', 'often', 'good', '4447-2325', '125', '90', '10', 'push.•most', 'push•super', 'cups•racerback', 'straps•structured', 'cups•hook-and-eye', 'closure•imported', 'goals', 'strong', 'minimum', 'pilates', 'weight', 'anti-microbial', 'pull-on', 'white', 'oh', 'street', 'optional', 'low-impact', 'during', 'activity', 'inset', 'major', 'points', 'embrace', 'matches', 'coordinating', 'pieces', '|embrace', 'dreams', 'balconette', 'corded', 'dramatic', 'scallop', 'logos', 'tons', 'push—this', 'dreamy', 'fit.lift', '36-40dd-ddd', 'fitdetails', 'hide', 'added', 'inserted', 'underbust', 'care', 'origin', 'icon', 'air', 'gel', 'desire', 'versatility', 'f3647', 'hotter', 'teddy', 'down-to-there', 'contour', 'seams', 'naked', 'luurious', 'effortlessly', 'glamorous', 'comfier', 'nylon/polyester/elastane', 'unique', 'feature', 'each', 'creates', 'come', 'package', '4793-7762', '536', 'so-soft', 'two-way', 'mold', 'etended', 'smooths', 'twist', 'runs', 'down', '14-24.', 'bbv', 'nylon/lycra®', 'bride', '--', 'count', 'status', 'bearing', 'sparkly', 'cursive', 'pro-support', 'anti-smash', 'teams', 'striped', 'net-best', 'thing', 'eclusive', 'bag', 'was', 'protect', 'precious', 'treasures', 'washing', 'gentle', 'cycle', 'cold', 'water', 'princess', 'lady', 'catherine', 'cheekster', 'audrey', 'there', 'nothing', '0796-7214', '153', 'stay-secure', 'rubber-lined', 'cross-strap', '73', '27', 'strap.push', 'linedstraps', 'closuredetails', 'all-around', 'flirt.lift', '38d-38dd', 'doesn', 'shy', 'away', 'being', 'core', 'these', 'boyshorts', 'ultra-comfortable', 'mini', '2791-7747', 'heathered', 'effect', '51', 'captivating', 'work', 'required', 'studio-to-street', '•u-shaped', '•stretchy', 'spacer', 'appearance', 'bring', '9k2124', 'standout', 'ultra-soft', 'neon', 'banding', 'chemise', 'will', 'mesh-lined', 'barely', 'celebrate', 'loves', 'listen', 'heart', 'leg', 'openings', 'braided', 'studio', 'braid', 'metallic', 'polyester/polyamide/elastane', 'flirt', 'those', 't-shirts', 'pads', 'topped', 'shimmering', 'contouring', 'frame', 'around', 'us', 'true', '2¼', 'inseam', 'shortie', 'update', 'on-trend', 'shows', 'skin', 'longer', '1694-2447', '461', '84', '16', '|t-shirt', 'fabrication', 'edging', 'repeating', 'bare®', 'includes', 'included', '835275', 'completely', 'second-skin', 'telltale', 'lines', 'diamond', 'cross-dyed', 'dynamically', 'combine', 'b.inspired', 'seriously', 'marled', 'virtually', 'beneath', 'back-smoothing', 'eliminate', 'bulges', '853192', 'about', 'flutter', 'sleeve', 'wicks', 'moisture', 'flyaway', 'matching', 'v-string', '28', 'polyester/polyamide', 'net-level', 'daring', 'garter', 'attach', 'etra-cushioned', 'plus-size', 'midsection', 'tricks', 'tummies', 'svelte', 'dainty', 'wrap-style', '36dd-38ddd', 'criss-cross', 'illumination', 'full-figure', 'tonal', 'satin-like', '76338', '52', 'offer', '|basic', 'fuller', 'figures', 'eactly', 'where', '854119', 'inserts', 'accent', 'chantilly', 'superior', '|beautiful', 'quick', 'backless', 'adhesive', '25', 'times', 'complete', 'instructions', 'silicone', '30', 'simplicity', 'ignore', 'switch', 'conventional', 'eclusively', 'ours', 'three', 'thongs', 'tied', 'shape—this', 'bustier', 'bad', 'curved', 'body-loving', 'embellished', 'equisitely', 'high-waisted', 'cheekini', 'mesh…just', 'try', 'resist', 'refined', 'embroidery', 'flower', 'polyamide/polyester/elastane', 'impact', 'l/l', 'young', 'pattern', 'narrow', 'elasticized', 'wisp', 'cotton/elastane', 'contender', 'gym', 'premium', 'activities', 'lasts', 'her', 'stem', 'roses', 'tissue', 'packet', 'intricate', 'irresistible', 'angle', 'curve-creating', 'dramatically', 'ultrasmooth', 'clingy', 'knits', 'front-clasp', 'sends', 'signals', 'swoon-worthy', 'patterns', 'enjoy', '5444-5448', '933', 'forms', 'definitely', 'set', 'knickers', 'feline', 'sides—it', 'overlays', 'enchanting', 'opening', 'laced', '4447-7623', 'v-front', 'festive', 'button', 'silhouettes', 'airy', 'adored', 'lock', 'amp', 'game', 'support.details', '2792-7829', 'bit', 'succulent', 'micro', 'holiday', 'spirit', 'lace-trim', 'cotton/polyamide/elastane', 'contours', 'curing', 'concern', 'shifting', 'maintaining', 'clothing', 'knit', 'italy', 'ultra-lightweight', 'disappearing', 'clingiest', 'fashions', 'sacrificing', 'quality', '4812', 'joins', '33', '4447-2142', '642', 'illusions', 'comes', 'array', 'visible', '4911', 'updated', 'shimmer', 'ribbon', '13109', 'attitude', 'wild', 'seduction', 'one-of-a-kind', 'equisite', 'ultra-heated', 'moments', 'after', 'dark', 'number', '1773-5901', '72', 'half', 'still', 'flowery', 'invisibles', 'qf1184', '34', 'island', 'hopping', 'thin', 'turn', 'heads', 'wow-worthy', 'one-piece', 'georgette', 'pleats', 'shiny', 'empire', 'whimsy', 'eceptionally', 'swimsuit', 'showoff', 'leg-lengthening', 'places.lift', 'embroidered', 'tulle', 'version', '2792-2300', '645', 'rockin', 'wonder', 'back.lift', 'discover', 'enough', 'sheer-lace', 'highly', 'seductive', 'brazilian-cut', 'pineapple', 'crystals', 'sparkle', 'pairing', 'packed', 'wedding', 'essentials', 'most-loved', 'playful', 'dotted', '22¼', 'hip', 'confidence', 'introducing', 'loves™', 'whole', 'lot', 'wow', '5776-5974', 'such', 'off-the-shoulder', 'shape.lift', 'fresh', 'tanga', 'fashioned', 'framed', 'coolma', 'removes', 'keeping', '853209', 'string', 'shirt', '|great', 'masters', 'art', 'renowned', 'packaged', 'adorable', 'roll', 'heather', '496', '2790-7598', 'stunner', 'clean', '6734-4566', 'pushup', 'level', 'perkier', 'harper', 'ella', 'jacklyn', 'emma', 'cream', 'mied', 'polyamide', '5779-6110', 'must', 'indulge', 'yours', 'ravissant', 'regular', '15712', 'crewneck', 'heavyweight', 'cotton/polyester', 'works', '100', 'trimmed', 'rainbow', 'prints–why', 'graphics', 'dropped', 'armholes', 'armhole', 'defines', 'snug', 'graces', 'beach', 'wrap-around', 'practical', 'bralet', 'modal', 'blend', 'branded', 'underband', '35', 'hawaii', 'chill', 'move.™', 'net', 'sweat', 'sesh', '0785-2319', '213', '*worry', 'free', 'zipper', 'falling', '89', '11', 'super-smooth', 'sensation', 'easiness', 'power', 'shapewear', 'banded', 'slim', 'ultra-smooth', '71380', '5777-6108', 'maternity', 'detailed', 'underpinnings', 'hydrophilic', 'filament', 'rayon', 'lycra®', 'resists', 'generating', 'static', 'compared', 'synthetic', 'fibers', '2792-2308', '1776-6107', '633', 'shaper', 'old', 'hollywood', 'details…this', 'kind', 'laid', 'days', 'f3785', 'mycalvins', '4447-2071', 'pack', 'heaven-sent', '6733-4352', 'cotton/nylon/polyester/spande', '666', 'some', 'begs', 'shown', '852215', 'strengthen', 'woven', 'cami', 'pocket', 'shoe', 'gusset', 'comfiest', 'ruching', 'cotton/elastane/nylon', 'three-section', 'seamed', 'evoke', 'midriff', 'inspire', 'vien', 'dress', 'kinds', 'alarms', 'brands', 'v-shape', 'topping', 'trims', 'briefs', 'y.a.s', 'shake', 'booty', '0442-4559', 'lingerie…', 'romance', 'foundation', '113', 'decorated', 'brand', 'f3787', 'etremely', 'well', '7441-5361', 'kick', 'gear', 'peekaboo', 'mind', 'bodysuede®', 'against', 'tailored', 'sweaters', 'offered', 'twice', 'find', '855192', 'slim-fit', 'skinny', 'jeans', 'raw', 'plunge-neck', 'converts', 'shoulder-baring', 't-strap', 'proves', '1775-5973', 'both', 'worlds', 'vintage-inspired', 'supports', 'shapes', 'comfortably', 'crystal', '855186', 'low-rise', 'product', 'crossover', 'knotted', 'straight', 'barre', 'brunch', '0785-2360', 'pop', 'fashionable', 'evening', 'right-now', '9793-7552', 'flatter', 'legging', 'quick-dry', 'sweat-wicking', 'after-dark', 'delight', 'entices', 'slit', 'accentuates', 'lace—a', 'few', 'rose', 'win', 'colorblock', '4447-2355', 'imagination', 'crotchless', '062', 'fully-lined', 'teeniest', 'much', 'heart-shaped', 'teal', 'geometric', '87', '13', '0692-2314', 'radiant', 'qd3539', '382', 'competitive', 'medium-impact', 'matchy', 'everywhere', 'matchback', '1772-6080', 'accented', 'one-shoulder', 'delicately', 'vintage', 'innerwear', 'offering', 'overall', 'festival', 'seen', 'shorts', 'belt', 'cropped', 'hoodie', 'raglan', 'lining•', 'padding•', 'hooks•', 'straps•', 'fabric•', 'front•', 't-back•', 'line•', 'shape•', 'tanlines', 'nah', 'bodysuit', 'heat', '401', 'duo', 'slits', 'lounge', 'scintillating', 'leaves', 'silky-smooth', 'asymmetric', 'sleeping', 'staying', 'late', 'across', '23', '1/4', '853281', 'newest', 'fantastic', '1774-6116', '56', '199', 'loops', '6734-4530', '133', '1694-2451', '76', '24', 'outfits', 'thick', 'eye-catching', 'rounded', 'reasons', 'instantly', 'never', 'looked', 'cooler', '0785-2341', 'hi-neck', '96', 'tagless', '130', 've', 'felt', 'before', '•details', '•supersoft', '•keyhole', 'select', 'seam-free', 'flaunt', 'scoopback', 'y-back', 'miing', 'fierce', 'leopard-print', '5774-6109', 'accentuate', 'hips', 'saucy', 'skimpier', 'organic', '5442-5400', '030', 'success', 'bright', 'trims\\xad—now', 'navy', '651', 'perkiness', '9731-2865', 'perky', 'double-layer', '32aa-38dd', 'hipsters', 'remi', 'words', 'rhinestones', '6511', 'supported', 'separated', '65115', 'repay', 'debt', 'gratitude', 'bridesmaid', 'ladies', 'ages', 'swoon', 'bedecked', 'spelling', 'all-there', '4811', 'active-inspired', 'in-between', 'very', 'lay', 'withstand', 'high-impact', 'motion', '855170', 'lue', 'scrolling', 'edge.lift', 'fabulously', 'does', 'free-spirited', 'brighten', 'minimum-support', 'name', 'everyone', 'hips®', 'taking', 'risks', 'keyholes', 'nylon/polyester/cotton', 'describes', 'figure-flattering', 'non-binding', 'modest', 'measurement', 'taken', 'inch', 'eotic', 'zebra', 'heat-seal', 'means', 'skinsense', '953144', 'b.adorable', 'cami-bralette', 'ultra-premium', 'supima®', 'organically-grown', 'usa', 'blended', 'soft-cup', 'smaller', 'updates', 'construction', 'started', 'boybrief', 'years', 'later', '4811f', 'wraps', 'helps', '397', 'hi-rise', 'granny', '1779-6296', 'higher', 'f3788', 'says', 'b.gorgeous', '910236', '808', 'luuriously', 'whoa', '6732-4660', 'adjust', '86', '14', 'youthful', '6443-4801', '328', 'seen.lift', 'slightly', 'typical', 'silhouettestraps', 'catch', 'peeking', 'dream', '33½', 'shirttail', 'novel', 'marble', 'draw', 'cover', 'could', 'incorporating', 'wearable', 'situation-', 'always', 'peek…and', 'b.sultry', 'logo-enhanced', 'completes', 'incredibly', 'collector', 'limited', 'edition', 'jar', 'opens', 'gifting', 'treating', 'flirtiest', 'charming', 'iron', 'strength', 'asking', 'casual', 'close', 'choose', 'bonds', 'side-to-side', 'ombre', 'linear', 'eyelet', 'galloon', 'plaque', '6443-5100', 'along', 'lettering', 'gold', '79', '21', 'sheerly', 'dares', 'closuresdetails', 'highlight', 'sunkissed', 'shoulders', 'neutral', 'hues', 'wink', '9793-7340', 'hi-cut', 'absolutely', 'nowhere', 'fishnet', 'four', 'retro-inspired', 'thong-back', 'functional', 'beautifier', '65191', 'plays', '9731-2666', 'scallop-edged', 'medical-grade', '437', 'illuminations', 'coordinates', 'metal', 'ring', 'designer', 'qd3540', '2792-2366', 'luscious', '841186', '700', 'lustrous', 'stretch-cotton', 'enhanced', 'nice', 'ruffle', '7/8', 'latest', 'collaboration', 'stripe', 'move', 'girls', 'others', 'namaste', 'layers', 'combined', 'know', 'everything-', 'including', 'slyly', 'sew', 'brazilian', 'channel', 'flouncy', 'festival-ready', 'jean', 'multiway', 'sensual', 'ultrasoft', 'weights', 't-back.details', 'antimicrobial', '1446-5971', '890', 'seductively', 'retro-vibe', 'high-rise', 'lends', 'velvet', 'attractive', 'marquisette', 'romances', 'full-cut', 'silk-soft', 'sueded', 'v-neckline', '0785-2365', '341', 'superb', 'forget', 'makeup', '0785-2367', '65', 'highlights', '6441-1499', 'notch', 'cooling', 'unleash', 'midnight', 'touches', 'viscose/polyester/spande/nylon', 'hide.lift', 'liftstraps', 'supportdetails', '¡amor', '4447-2322', 'guipure', 'unpadded', 'lacework', 'unforgettable', '389', 'all-lace', 'dual', 'ply', 'maid', 'honor', 'covers', 'impress', 'ultra-strappy', 'smoother', 'paired', 'brushed', 'foam-lined', 'smoothes', 'underarms', 'support.lift', 'darts', '1774-5447', 'limit', 'gently', 'caress', 'definition', 'wrapped', 'clear', 'cellophane', 'hang', 'attached', 'she', 'releases', 'pin', 'unfold', 'silk', 'lace-trimmed', 'quintessential', 'constructed', 'compression', '5442-5435', 'customized-lift', 'f2892', '6443-5448', 'proof', \"b.tempt'd\", \"b'wow\", 'super-low', '958287', 'spot', '910182', 'magical', 'act', 'd3428', 'minimizing', 'rigid', 'minimizes', 'bustline', 'women', '71', '29', 'spande/elastane', 'lining:100', '|full', 'assets', 'pillow', 'also', 'leotard', '853220', 'qd3538', 'eposed', 'v-kini', 'giving', '|body', 'softness', 'advantages', 'supple', 'prefer', 'convenience', 'necessary', 'armholes-', 'slipping', 'burnout', '22', 'angled', 'update—a', 'underpinning', 'put', '5775-5972', '1692-2259', 'day…comfy', 'o-so-cute', '...', '5441-5351', 'solid', 'polished', 'year', 'epitome', 'qf1197', 'dylan', 'candy', 'bar', 'ultrafine', '35¾', 'skimp', 'polyester/spande/nylon', 'bands', 'layered', 'striking', 'curve-loving', 'breathtaking', 'garters', 'coming', '76380', 'cotton.in', 'stitch-free', 'id', 'bestie', '3732-4656', 'charley', 'brooke', '62', 'patterning', 'rich', 'depth', 'personalized', 'f3837', 'cuter', 'loyalty', 'dot', 'co-ord', 'decidedly', 'nylon/cotton/spande', 'case', 'which', 'tease', 'semi', 'almost', 'one-', 'criss', 'captures', 'said', 'sentiment', 'forward', 'head', 'custom', 'whoever', 'whatever', 'please', 'minimalist', '4445-2306', 'edgy', 'brighter', '0785-2272', 'help', '67', '1692-2448', 'traced', 'wonderful', 'dances', 'cotton-blend', '0692-7618', 'half-adjustable', 'half-lace', 'encased', 'affair', 'keepin', '5778-6082', 'balconet', 'oversized', 'printed', 'clever', 'choice', 'breath', 'edged', '2792-2337', 'corset', 'infused', '953261', 'seamlessly', 'b.splendid', 'purple', 'posies', '046', 'stripes', 'splash', 'midline', 'proclaim', '7441-5328', 'fabulous', 'same', 'knew', 'mean', 'swarovski®', 'teensy', 'lorna', 'jane', 'nourish', 'believe', 'motivate', 'achieve', 'australia', '0762-1017', '628', 'lj', 'ecel', 'fabric™', 'moisture-wicking', 'shrink', 'fade', 'resistant', 'clasp', 'eligible', 'promotions', 'ships', 'canada', 'tiny', 'surprises', 'surround', 'long-sleeved', 'glance', 'lies', 'quite', '4447-2095', 'qd3546', '36c-38dd', 'boed', 'donkey', 'election', 'democrat', 'locks', 'flow', 'gorgeously', 'temptation', 'lover', '1¼', 'skirt', 'bringing', 'form', 'bared', 'draped', 'because', 'desired', '978171', 'square-neck', 'subtly', 'hotness', 'puts', 'ringer', 'details—features', '023', 'super-comfy', 'body-conscious', 'boys', 'ribbons', 'wacaol', '914261', 'panels', 'smoothly', 'tighter', 'all-out', 'spicier', '5442-5326', 'anchored', 'ride', 'head-turning', 'la', 'femme', '853117', 'strings', '0442-5117', '481281', 'pleated', 'dip-dyed', 'ombré', 'touched', 'teture', 'reinvents', 'starts', 'part', '853191', 'cutaway', 'crop-top', '7442-5401', 'frills', 'ruffled', 'chiffon', '5442-5444', 'seemingly', 'floats', '413', '5-pack', 'hottest', 'plum', 'newbie', 'workout…or', 'not—it', 'perf', 'low-medium', 'bottom-band', 'compressive', 'freedom', '6441-5336', '012', 'word', 'spelled', 'chest', 'hi-leg', '6447-5511', 'door', '4441-7167', 'reintroducing', 'diagonal', 'v-design', 'dkny', '8442-5403', 'd3429', 'above', 'usa-grown', 'cotton-spande', '417', 'itsy', 'bitsy', 'stylized'])"
      ]
     },
     "execution_count": 17,
     "metadata": {},
     "output_type": "execute_result"
    }
   ],
   "source": [
    "model.wv.vocab.keys()"
   ]
  },
  {
   "cell_type": "code",
   "execution_count": 18,
   "metadata": {},
   "outputs": [
    {
     "name": "stderr",
     "output_type": "stream",
     "text": [
      "C:\\Users\\Yolanda Nainggolan\\Anaconda3\\lib\\site-packages\\ipykernel_launcher.py:1: DeprecationWarning: Call to deprecated `most_similar` (Method will be removed in 4.0.0, use self.wv.most_similar() instead).\n",
      "  \"\"\"Entry point for launching an IPython kernel.\n"
     ]
    },
    {
     "data": {
      "text/plain": [
       "[('click', 0.21737942099571228),\n",
       " ('curing', 0.18680930137634277),\n",
       " ('happiness', 0.18305695056915283),\n",
       " ('terry', 0.17958632111549377),\n",
       " ('•front-close', 0.1792430877685547),\n",
       " ('romances', 0.1712450087070465),\n",
       " ('who', 0.17029160261154175),\n",
       " ('853281', 0.1674434244632721),\n",
       " ('offers', 0.16587355732917786),\n",
       " ('heat-seal', 0.16582980751991272)]"
      ]
     },
     "execution_count": 18,
     "metadata": {},
     "output_type": "execute_result"
    }
   ],
   "source": [
    "model.most_similar('fabric')"
   ]
  },
  {
   "cell_type": "code",
   "execution_count": 19,
   "metadata": {},
   "outputs": [
    {
     "name": "stderr",
     "output_type": "stream",
     "text": [
      "100%|██████████████████████████████████████████████████████████████████████████| 7000/7000 [00:00<00:00, 778184.63it/s]\n",
      "100%|██████████████████████████████████████████████████████████████████████████| 7000/7000 [00:00<00:00, 743915.88it/s]\n",
      "100%|█████████████████████████████████████████████████████████████████████████| 7000/7000 [00:00<00:00, 1000413.25it/s]\n",
      "100%|██████████████████████████████████████████████████████████████████████████| 7000/7000 [00:00<00:00, 875611.46it/s]\n",
      "100%|██████████████████████████████████████████████████████████████████████████| 7000/7000 [00:00<00:00, 700384.73it/s]\n",
      "100%|██████████████████████████████████████████████████████████████████████████| 7000/7000 [00:00<00:00, 506287.67it/s]\n",
      "100%|██████████████████████████████████████████████████████████████████████████| 7000/7000 [00:00<00:00, 431227.55it/s]\n",
      "100%|█████████████████████████████████████████████████████████████████████████| 7000/7000 [00:00<00:00, 1166983.11it/s]\n",
      "100%|██████████████████████████████████████████████████████████████████████████| 7000/7000 [00:00<00:00, 583700.36it/s]\n",
      "100%|█████████████████████████████████████████████████████████████████████████| 7000/7000 [00:00<00:00, 1128237.64it/s]\n",
      "100%|██████████████████████████████████████████████████████████████████████████| 7000/7000 [00:00<00:00, 382213.71it/s]\n",
      "100%|██████████████████████████████████████████████████████████████████████████████████████| 7000/7000 [00:00<?, ?it/s]\n",
      "100%|██████████████████████████████████████████████████████████████████████████| 7000/7000 [00:00<00:00, 350631.49it/s]\n",
      "100%|██████████████████████████████████████████████████████████████████████████| 7000/7000 [00:00<00:00, 448088.88it/s]\n",
      "100%|██████████████████████████████████████████████████████████████████████████| 7000/7000 [00:00<00:00, 453165.32it/s]\n",
      "100%|██████████████████████████████████████████████████████████████████████████| 7000/7000 [00:00<00:00, 621720.48it/s]\n",
      "100%|██████████████████████████████████████████████████████████████████████████| 7000/7000 [00:00<00:00, 354813.75it/s]\n",
      "100%|██████████████████████████████████████████████████████████████████████████| 7000/7000 [00:00<00:00, 413080.76it/s]\n",
      "100%|██████████████████████████████████████████████████████████████████████████| 7000/7000 [00:00<00:00, 736248.76it/s]\n",
      "100%|██████████████████████████████████████████████████████████████████████████| 7000/7000 [00:00<00:00, 527594.89it/s]\n",
      "100%|██████████████████████████████████████████████████████████████████████████████████████| 7000/7000 [00:00<?, ?it/s]\n",
      "100%|██████████████████████████████████████████████████████████████████████████| 7000/7000 [00:00<00:00, 488928.03it/s]\n",
      "100%|█████████████████████████████████████████████████████████████████████████| 7000/7000 [00:00<00:00, 1209529.87it/s]\n",
      "100%|██████████████████████████████████████████████████████████████████████████| 7000/7000 [00:00<00:00, 514728.75it/s]\n",
      "100%|██████████████████████████████████████████████████████████████████████████| 7000/7000 [00:00<00:00, 486989.80it/s]\n",
      "100%|██████████████████████████████████████████████████████████████████████████| 7000/7000 [00:00<00:00, 720175.82it/s]\n",
      "100%|██████████████████████████████████████████████████████████████████████████| 7000/7000 [00:00<00:00, 396057.36it/s]\n",
      "100%|██████████████████████████████████████████████████████████████████████████████████████| 7000/7000 [00:00<?, ?it/s]\n",
      "100%|██████████████████████████████████████████████████████████████████████████| 7000/7000 [00:00<00:00, 778535.43it/s]\n",
      "100%|██████████████████████████████████████████████████████████████████████████| 7000/7000 [00:00<00:00, 259088.15it/s]\n"
     ]
    },
    {
     "name": "stdout",
     "output_type": "stream",
     "text": [
      "Wall time: 21.6 s\n"
     ]
    }
   ],
   "source": [
    "%%time\n",
    "for epoch in range(30):\n",
    "    model.train(utils.shuffle([x for x in tqdm(train_tagged.values)]), total_examples=len(train_tagged.values), epochs=1)\n",
    "    model.alpha -= 0.002\n",
    "    model.min_alpha = model.alpha"
   ]
  },
  {
   "cell_type": "code",
   "execution_count": null,
   "metadata": {},
   "outputs": [],
   "source": [
    "model.save(\"model.doc2vec\")"
   ]
  },
  {
   "cell_type": "code",
   "execution_count": null,
   "metadata": {},
   "outputs": [],
   "source": [
    "model = gensim.models.Doc2Vec.load('model.doc2vec')  "
   ]
  },
  {
   "cell_type": "code",
   "execution_count": null,
   "metadata": {},
   "outputs": [],
   "source": [
    "def vec_for_learning(model, tagged_docs):\n",
    "    sents = tagged_docs.values\n",
    "    targets, regressors = zip(*[(doc.tags[0], model.infer_vector(doc.words, steps=20)) for doc in sents])\n",
    "    return targets, regressors"
   ]
  },
  {
   "cell_type": "code",
   "execution_count": null,
   "metadata": {},
   "outputs": [],
   "source": [
    "y_train, X_train = vec_for_learning(model, train_tagged)\n",
    "y_test, X_test = vec_for_learning(model, test_tagged)\n",
    "logreg = LogisticRegression(n_jobs=1, C=1e5)\n",
    "logreg.fit(X_train, y_train)\n",
    "y_pred = logreg.predict(X_test)\n",
    "\n",
    "from sklearn.metrics import accuracy_score, f1_score\n",
    "print('Testing accuracy %s' % accuracy_score(y_test, y_pred))\n",
    "print('Testing F1 score: {}'.format(f1_score(y_test, y_pred, average='weighted')))"
   ]
  },
  {
   "cell_type": "code",
   "execution_count": 23,
   "metadata": {},
   "outputs": [
    {
     "data": {
      "image/png": "[encoded data removed]",
      "text/plain": [
       "<Figure size 432x288 with 1 Axes>"
      ]
     },
     "metadata": {
      "needs_background": "light"
     },
     "output_type": "display_data"
    }
   ],
   "source": [
    "from sklearn.decomposition import PCA\n",
    "from matplotlib import pyplot\n",
    "\n",
    "%matplotlib inline\n",
    "\n",
    "X = model[model.wv.vocab]\n",
    "pca = PCA(n_components=2)\n",
    "result = pca.fit_transform(X)\n",
    "\n",
    "pyplot.scatter(result[:, 0], result[:, 1])\n",
    "words = list(model.wv.vocab)\n",
    "for i, word in enumerate(words):\n",
    "    pyplot.annotate(word, xy=(result[i, 0], result[i, 1]))\n",
    "\n",
    "pyplot.show()"
   ]
  },
  {
   "cell_type": "code",
   "execution_count": null,
   "metadata": {},
   "outputs": [],
   "source": []
  },
  {
   "cell_type": "markdown",
   "metadata": {},
   "source": [
    "## 4. Kalkulasi Kemiripan"
   ]
  },
  {
   "cell_type": "code",
   "execution_count": 20,
   "metadata": {},
   "outputs": [],
   "source": [
    "def matching(inputs):\n",
    "    new_sentence = inputs.split(\" \")\n",
    "    print(\"Berikut adalah 10 produk yang mirip\")\n",
    "    tag = model.docvecs.most_similar(positive=[model.infer_vector(new_sentence)],topn=10)\n",
    "    \n",
    "    return tag"
   ]
  },
  {
   "cell_type": "code",
   "execution_count": 21,
   "metadata": {},
   "outputs": [
    {
     "name": "stdout",
     "output_type": "stream",
     "text": [
      "Berikut adalah 10 produk yang mirip\n"
     ]
    },
    {
     "data": {
      "text/plain": [
       "[('Everyday Perfect NEW! Curved-hem Thong Panty', 0.09447655081748962),\n",
       " (\"Calvin Klein Women's Everyday Lightly Lined Demi Bra\", 0.0854485034942627),\n",
       " ('Beauty Back Full-Figure Contour Bra 76380', 0.08393845707178116),\n",
       " ('Plus Size Long Sleeve Top 128LX', 0.08345155417919159),\n",
       " ('Cross-Dyed Crossover Bralette 597801', 0.08338158577680588),\n",
       " ('Coquette Lace Thong QD3536', 0.08321017026901245),\n",
       " ('b.active Low-Impact Underwire Sports Bra 953199', 0.08101905137300491),\n",
       " ('b.splendid Seamless Hipster 978255', 0.08077611029148102),\n",
       " ('Colorblocked Medium-Impact Sports Bra', 0.08065421134233475),\n",
       " ('Wireless High-Impact Sports Bra 852218', 0.07854851335287094)]"
      ]
     },
     "execution_count": 21,
     "metadata": {},
     "output_type": "execute_result"
    }
   ],
   "source": [
    "matching(\"Dream Angels Lace Bustier\")"
   ]
  },
  {
   "cell_type": "code",
   "execution_count": 22,
   "metadata": {},
   "outputs": [
    {
     "name": "stdout",
     "output_type": "stream",
     "text": [
      "Berikut adalah 10 produk yang mirip\n"
     ]
    },
    {
     "data": {
      "text/plain": [
       "[('Stark Beauty Underwire Contour Bra', 0.9307581186294556),\n",
       " ('Signature Lace Valerie Bralette', 0.9239935874938965),\n",
       " ('Very Sexy Lace Plunge Bodysuit', 0.9217633605003357),\n",
       " ('Body by Victoria Lace Romper', 0.9178318381309509),\n",
       " ('Lace Bralette', 0.9167251586914062),\n",
       " ('Dream Angels Racerback\\xa0Tricot Babydoll', 0.9111872911453247),\n",
       " ('Basic Beauty Full-Figure Underwire Bra 855192', 0.909872829914093),\n",
       " ('Queen Anne’s Lace Hipster Panty', 0.9083741903305054),\n",
       " ('Very Sexy NEW! Satin Midi Slip', 0.9062913656234741),\n",
       " ('Aerie Backless Bare Bra', 0.9049458503723145)]"
      ]
     },
     "execution_count": 22,
     "metadata": {},
     "output_type": "execute_result"
    }
   ],
   "source": [
    "matching(\"clothes Cutouts between cups VS charm on side of cup\")"
   ]
  },
  {
   "cell_type": "code",
   "execution_count": null,
   "metadata": {},
   "outputs": [],
   "source": []
  }
 ],
 "metadata": {
  "kernelspec": {
   "display_name": "Python 3",
   "language": "python",
   "name": "python3"
  },
  "language_info": {
   "codemirror_mode": {
    "name": "ipython",
    "version": 3
   },
   "file_extension": ".py",
   "mimetype": "text/x-python",
   "name": "python",
   "nbconvert_exporter": "python",
   "pygments_lexer": "ipython3",
   "version": "3.7.3"
  }
 },
 "nbformat": 4,
 "nbformat_minor": 2
}
